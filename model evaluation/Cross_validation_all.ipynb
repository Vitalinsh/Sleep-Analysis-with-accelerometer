{
 "cells": [
  {
   "cell_type": "code",
   "execution_count": 1,
   "metadata": {},
   "outputs": [],
   "source": [
    "import os\n",
    "import numpy as np\n",
    "\n",
    "import prepare_data\n",
    "\n",
    "from sklearn.model_selection import KFold\n",
    "from sklearn import metrics\n",
    "from sklearn.model_selection import train_test_split\n",
    "\n",
    "from sklearn.linear_model import LogisticRegression\n",
    "from sklearn.svm import SVC\n",
    "from sklearn.ensemble import GradientBoostingClassifier \n",
    "from sklearn.decomposition import PCA"
   ]
  },
  {
   "cell_type": "code",
   "execution_count": 2,
   "metadata": {},
   "outputs": [],
   "source": [
    "data_path = os.path.join(\"statistic_features\", \"stat_features_60s.csv\")\n",
    "patient_list = ['002','003','005','007','08a','08b','09a','09b', '10a','011','013','014','15a','15b','016',\n",
    "            '017','018','019','020','021','022','023','025','026','027','028','029','030','031','032',\n",
    "            '033','034','035','036','037','038','040','042','043','044','045','047','048','049','051']\n",
    "statistics_list = [\"std_x\", \"std_y\", \"std_z\"]"
   ]
  },
  {
   "cell_type": "code",
   "execution_count": 3,
   "metadata": {
    "scrolled": true
   },
   "outputs": [
    {
     "data": {
      "text/plain": [
       "5"
      ]
     },
     "execution_count": 3,
     "metadata": {},
     "output_type": "execute_result"
    }
   ],
   "source": [
    "kf = KFold(n_splits=5, random_state=5, shuffle=True) # Define the split - into 3 folds #5\n",
    "kf.get_n_splits(patient_list) # returns the number of splitting iterations in the cross-validator"
   ]
  },
  {
   "cell_type": "code",
   "execution_count": 4,
   "metadata": {},
   "outputs": [
    {
     "name": "stdout",
     "output_type": "stream",
     "text": [
      "['007', '08a', '09a', '025', '028', '029', '031', '044', '048']\n",
      "['002', '005', '08b', '021', '026', '027', '032', '034', '049']\n",
      "['003', '013', '014', '15b', '020', '022', '035', '036', '045']\n",
      "['09b', '15a', '017', '019', '023', '037', '042', '047', '051']\n",
      "['10a', '011', '016', '018', '030', '033', '038', '040', '043']\n"
     ]
    }
   ],
   "source": [
    "for train_index, test_index in kf.split(patient_list):\n",
    "    #train_patient_list = [patient_list[i] for i in train_index]\n",
    "    test_patient_list = [patient_list[i] for i in test_index]\n",
    "    \n",
    "    print(test_patient_list)"
   ]
  },
  {
   "cell_type": "code",
   "execution_count": 9,
   "metadata": {},
   "outputs": [],
   "source": [
    "n_others_windows = 30"
   ]
  },
  {
   "cell_type": "code",
   "execution_count": 12,
   "metadata": {},
   "outputs": [],
   "source": [
    "#prepare_data.save_statistic_features(patient_list, \n",
    "#                                   sorce_path=\"ICHI14_dataset\\data\",\n",
    "#                                   save_path=data_path,\n",
    "#                                   window_len=60)"
   ]
  },
  {
   "cell_type": "markdown",
   "metadata": {},
   "source": [
    "## 1. Logistic regression\n",
    "### 1.1 Statistic feature - std"
   ]
  },
  {
   "cell_type": "code",
   "execution_count": 10,
   "metadata": {},
   "outputs": [
    {
     "name": "stdout",
     "output_type": "stream",
     "text": [
      "\n",
      "Accuracy on train set:  0.7747249615231147\n",
      "Accuracy on test set:  0.6871151113216485\n",
      "\n",
      "Accuracy on train set:  0.7635520056381042\n",
      "Accuracy on test set:  0.7334318277754327\n",
      "\n",
      "Accuracy on train set:  0.7588885738588035\n",
      "Accuracy on test set:  0.7685230024213076\n",
      "\n",
      "Accuracy on train set:  0.7456644079476283\n",
      "Accuracy on test set:  0.8115375775683751\n",
      "\n",
      "Accuracy on train set:  0.7570093457943925\n",
      "Accuracy on test set:  0.7722016651248844\n",
      "\n",
      "Mean accuracy = 0.7545618368423297\n",
      "Wall time: 10.4 s\n"
     ]
    }
   ],
   "source": [
    "%%time\n",
    "accuracy_list = []\n",
    "for train_index, test_index in kf.split(patient_list):\n",
    "    train_patient_list = [patient_list[i] for i in train_index]\n",
    "    test_patient_list = [patient_list[i] for i in test_index]\n",
    "    \n",
    "    X_train, y_train = prepare_data.load_stat_features_others_windows(train_patient_list,\n",
    "                                                                      data_path=data_path,\n",
    "                                                                      n_others_windows=n_others_windows)\n",
    "    X_test, y_test = prepare_data.load_stat_features_others_windows(test_patient_list,\n",
    "                                                                    data_path=data_path, \n",
    "                                                                    n_others_windows=n_others_windows)\n",
    "    \n",
    "    #print(X_test.shape)\n",
    "    model1 = LogisticRegression()\n",
    "    model1.fit(X_train, y_train)\n",
    "    \n",
    "    y_predict = model1.predict(X_train)\n",
    "    accuracy_train = metrics.accuracy_score(y_train, y_predict)\n",
    "    print(\"\\nAccuracy on train set: \", accuracy_train)\n",
    "    \n",
    "    y_predict = model1.predict(X_test)\n",
    "    accuracy = metrics.accuracy_score(y_test, y_predict)\n",
    "    accuracy_list.append(accuracy)\n",
    "    print(\"Accuracy on test set: \", accuracy)\n",
    "    \n",
    "    #print(metrics.classification_report(y_test, y_predict))\n",
    "    #print(test_patient_list)\n",
    "\n",
    "print(\"\\nMean accuracy =\", np.mean(accuracy_list))    "
   ]
  },
  {
   "cell_type": "markdown",
   "metadata": {},
   "source": [
    "#### 1.1 Results:\n",
    "\n",
    "8 windows: acc = 0.7292\n",
    "\n",
    "12 windows: acc = 0.7395\n",
    "\n",
    "22 windows: acc = 0.7525\n",
    "\n",
    "30 windows: acc = 0.7541 -  best\n",
    "\n",
    "32 windows: acc = 0.7545  - best\n",
    "\n",
    "40 windows: acc = 0.7530\n",
    "\n",
    "50 windows: acc = 0.7500\n",
    "\n",
    "60 windows: acc = 0.7454\n"
   ]
  },
  {
   "cell_type": "markdown",
   "metadata": {},
   "source": [
    "### 1.2 Statistic feature - std, age, gender"
   ]
  },
  {
   "cell_type": "code",
   "execution_count": 14,
   "metadata": {},
   "outputs": [],
   "source": [
    "statistics_list_age = statistics_list + [\"age\", \"gender\"]"
   ]
  },
  {
   "cell_type": "code",
   "execution_count": 15,
   "metadata": {},
   "outputs": [
    {
     "name": "stdout",
     "output_type": "stream",
     "text": [
      "\n",
      "Accuracy on train set:  0.7741719264927666\n",
      "Accuracy on test set:  0.6822820037105751\n",
      "\n",
      "Accuracy on train set:  0.764766779777995\n",
      "Accuracy on test set:  0.7303231151615576\n",
      "\n",
      "Accuracy on train set:  0.7540983606557377\n",
      "Accuracy on test set:  0.7789099526066351\n",
      "\n",
      "Accuracy on train set:  0.7502531788004951\n",
      "Accuracy on test set:  0.7950911956766494\n",
      "\n",
      "Accuracy on train set:  0.755856412561092\n",
      "Accuracy on test set:  0.7720888083371092\n",
      "\n",
      "Mean accuracy = 0.7517390150985053\n",
      "Wall time: 23.6 s\n"
     ]
    }
   ],
   "source": [
    "%%time\n",
    "accuracy_list = []\n",
    "for train_index, test_index in kf.split(patient_list):\n",
    "    train_patient_list = [patient_list[i] for i in train_index]\n",
    "    test_patient_list = [patient_list[i] for i in test_index]\n",
    "    \n",
    "    X_train, y_train = prepare_data.load_stat_features_others_windows(train_patient_list,\n",
    "                                                                      data_path=data_path,\n",
    "                                                                      statistics_list = statistics_list_age,\n",
    "                                                                      n_others_windows=n_others_windows)\n",
    "    X_test, y_test = prepare_data.load_stat_features_others_windows(test_patient_list,\n",
    "                                                                    data_path=data_path, \n",
    "                                                                    statistics_list = statistics_list_age,\n",
    "                                                                    n_others_windows=n_others_windows)\n",
    "    \n",
    "    #print(X_test.shape)\n",
    "    model1 = LogisticRegression()\n",
    "    model1.fit(X_train, y_train)\n",
    "    \n",
    "    y_predict = model1.predict(X_train)\n",
    "    accuracy_train = metrics.accuracy_score(y_train, y_predict)\n",
    "    print(\"\\nAccuracy on train set: \", accuracy_train)\n",
    "    \n",
    "    y_predict = model1.predict(X_test)\n",
    "    accuracy = metrics.accuracy_score(y_test, y_predict)\n",
    "    accuracy_list.append(accuracy)\n",
    "    print(\"Accuracy on test set: \", accuracy)\n",
    "    \n",
    "    #print(metrics.classification_report(y_test, y_predict))\n",
    "    #print(test_patient_list)\n",
    "\n",
    "print(\"\\nMean accuracy =\", np.mean(accuracy_list))    "
   ]
  },
  {
   "cell_type": "markdown",
   "metadata": {},
   "source": [
    "#### 1.2 Results:\n",
    "\n",
    "8 windows: acc = 0.7301\n",
    "\n",
    "12 windows: acc = 0.7406\n",
    "\n",
    "22 windows: acc = 0.7517\n",
    "\n",
    "30 windows: acc = 0.7555 - best\n",
    "\n",
    "32 windows: acc = 0.7558 - best\n",
    "\n",
    "40 windows: acc = 0.7541\n",
    "\n",
    "50 windows: acc = 0.74998\n",
    "\n",
    "60 windows: acc = 0.7471\n",
    "\n",
    "#### +- 0.05-0.1% accuracy compare to std only\n"
   ]
  },
  {
   "cell_type": "markdown",
   "metadata": {},
   "source": [
    "### 1.3 Statistic feature - ptp"
   ]
  },
  {
   "cell_type": "code",
   "execution_count": 16,
   "metadata": {},
   "outputs": [],
   "source": [
    "statistics_list_ptp = [\"ptp_x\", \"ptp_y\", \"ptp_z\"]"
   ]
  },
  {
   "cell_type": "code",
   "execution_count": 18,
   "metadata": {},
   "outputs": [
    {
     "name": "stdout",
     "output_type": "stream",
     "text": [
      "\n",
      "Accuracy on train set:  0.7699826844662906\n",
      "Accuracy on test set:  0.6873840445269017\n",
      "\n",
      "Accuracy on train set:  0.763674009317306\n",
      "Accuracy on test set:  0.7203811101905551\n",
      "\n",
      "Accuracy on train set:  0.7518199499861072\n",
      "Accuracy on test set:  0.7827014218009478\n",
      "\n",
      "Accuracy on train set:  0.743051648475301\n",
      "Accuracy on test set:  0.802521954514749\n",
      "\n",
      "Accuracy on train set:  0.753553171170159\n",
      "Accuracy on test set:  0.7621205256003625\n",
      "\n",
      "Mean accuracy = 0.7510218113267031\n",
      "Wall time: 14.5 s\n"
     ]
    }
   ],
   "source": [
    "%%time\n",
    "accuracy_list = []\n",
    "for train_index, test_index in kf.split(patient_list):\n",
    "    train_patient_list = [patient_list[i] for i in train_index]\n",
    "    test_patient_list = [patient_list[i] for i in test_index]\n",
    "    \n",
    "    X_train, y_train = prepare_data.load_stat_features_others_windows(train_patient_list,\n",
    "                                                                      data_path=data_path,\n",
    "                                                                      statistics_list= statistics_list_ptp,\n",
    "                                                                      n_others_windows=n_others_windows)\n",
    "    X_test, y_test = prepare_data.load_stat_features_others_windows(test_patient_list,\n",
    "                                                                    data_path=data_path, \n",
    "                                                                    statistics_list=statistics_list_ptp,\n",
    "                                                                    n_others_windows=n_others_windows)\n",
    "    \n",
    "    model1 = LogisticRegression()\n",
    "    model1.fit(X_train, y_train)\n",
    "    \n",
    "    y_predict = model1.predict(X_train)\n",
    "    accuracy_train = metrics.accuracy_score(y_train, y_predict)\n",
    "    print(\"\\nAccuracy on train set: \", accuracy_train)\n",
    "    \n",
    "    y_predict = model1.predict(X_test)\n",
    "    accuracy = metrics.accuracy_score(y_test, y_predict)\n",
    "    accuracy_list.append(accuracy)\n",
    "    print(\"Accuracy on test set: \", accuracy)\n",
    "    \n",
    "    #print(metrics.classification_report(y_test, y_predict))\n",
    "    #print(test_patient_list)\n",
    "\n",
    "print(\"\\nMean accuracy =\", np.mean(accuracy_list))    "
   ]
  },
  {
   "cell_type": "markdown",
   "metadata": {},
   "source": [
    "#### 1.3 Results: \n",
    "\n",
    "8 windows: acc = 0.7346\n",
    "\n",
    "12 windows: acc = 0.7438\n",
    "\n",
    "22 windows: acc = 0.7510\n",
    "\n",
    "30 windows: acc = 0.7521 - best\n",
    "\n",
    "32 windows: acc = 0.7514\n",
    "\n",
    "40 windows: acc = 0.7495\n",
    "\n",
    "50 windows: acc = 0.7483\n",
    "\n",
    "60 windows: acc = 0.7459\n",
    "\n",
    "little worse than std"
   ]
  },
  {
   "cell_type": "markdown",
   "metadata": {},
   "source": [
    "### 1.4 Statistic feature - std, ptp"
   ]
  },
  {
   "cell_type": "code",
   "execution_count": 19,
   "metadata": {},
   "outputs": [],
   "source": [
    "statistics_list_std_ptp = [\"std_x\", \"std_y\", \"std_z\", \"ptp_x\", \"ptp_y\", \"ptp_z\"]"
   ]
  },
  {
   "cell_type": "code",
   "execution_count": 21,
   "metadata": {},
   "outputs": [
    {
     "name": "stdout",
     "output_type": "stream",
     "text": [
      "\n",
      "Accuracy on train set:  0.7723286600011171\n",
      "Accuracy on test set:  0.6975881261595547\n",
      "\n",
      "Accuracy on train set:  0.763156381204348\n",
      "Accuracy on test set:  0.7197597348798674\n",
      "\n",
      "Accuracy on train set:  0.7562656293414838\n",
      "Accuracy on test set:  0.7746445497630332\n",
      "\n",
      "Accuracy on train set:  0.7485090581748621\n",
      "Accuracy on test set:  0.7993695113713127\n",
      "\n",
      "Accuracy on train set:  0.7598449525307567\n",
      "Accuracy on test set:  0.7541912097870412\n",
      "\n",
      "Mean accuracy = 0.7491106263921619\n",
      "Wall time: 25.5 s\n"
     ]
    }
   ],
   "source": [
    "%%time\n",
    "accuracy_list = []\n",
    "for train_index, test_index in kf.split(patient_list):\n",
    "    train_patient_list = [patient_list[i] for i in train_index]\n",
    "    test_patient_list = [patient_list[i] for i in test_index]\n",
    "    \n",
    "    X_train, y_train = prepare_data.load_stat_features_others_windows(train_patient_list,\n",
    "                                                                      data_path=data_path,\n",
    "                                                                      statistics_list=statistics_list_std_ptp,\n",
    "                                                                      n_others_windows=n_others_windows)\n",
    "    X_test, y_test = prepare_data.load_stat_features_others_windows(test_patient_list,\n",
    "                                                                    data_path=data_path, \n",
    "                                                                    statistics_list=statistics_list_std_ptp,\n",
    "                                                                    n_others_windows=n_others_windows)\n",
    "    \n",
    "    model1 = LogisticRegression()\n",
    "    model1.fit(X_train, y_train)\n",
    "    \n",
    "    y_predict = model1.predict(X_train)\n",
    "    accuracy_train = metrics.accuracy_score(y_train, y_predict)\n",
    "    print(\"\\nAccuracy on train set: \", accuracy_train)\n",
    "    \n",
    "    y_predict = model1.predict(X_test)\n",
    "    accuracy = metrics.accuracy_score(y_test, y_predict)\n",
    "    accuracy_list.append(accuracy)\n",
    "    print(\"Accuracy on test set: \", accuracy)\n",
    "    \n",
    "    #print(metrics.classification_report(y_test, y_predict))\n",
    "    #print(test_patient_list)\n",
    "\n",
    "print(\"\\nMean accuracy =\", np.mean(accuracy_list))    "
   ]
  },
  {
   "cell_type": "markdown",
   "metadata": {},
   "source": [
    "#### 1.4 Results: \n",
    "\n",
    "8 windows: acc = 0.7323\n",
    "\n",
    "12 windows: acc = 0.7412\n",
    "\n",
    "22 windows: acc = 0.7491\n",
    "\n",
    "30 windows: acc = 0.7497\n",
    "\n",
    "32 windows: acc = 0.7507  - best\n",
    "\n",
    "40 windows: acc = 0.7471\n",
    "\n",
    "50 windows: acc = \n",
    "\n",
    "60 windows: acc = \n"
   ]
  },
  {
   "cell_type": "markdown",
   "metadata": {},
   "source": [
    "## 2. SVM\n",
    "### 2.1 Statictics features - std"
   ]
  },
  {
   "cell_type": "code",
   "execution_count": 49,
   "metadata": {},
   "outputs": [
    {
     "name": "stdout",
     "output_type": "stream",
     "text": [
      "\n",
      "Accuracy on train set:  0.7707067839909169\n",
      "Accuracy on test set:  0.6908018867924528\n",
      "\n",
      "Accuracy on train set:  0.7642552196034856\n",
      "Accuracy on test set:  0.7268713204373423\n",
      "\n",
      "Accuracy on train set:  0.7550686169311571\n",
      "Accuracy on test set:  0.7606075216972035\n",
      "\n",
      "Accuracy on train set:  0.7439094132448816\n",
      "Accuracy on test set:  0.806134126802472\n",
      "\n",
      "Accuracy on train set:  0.7530405984126077\n",
      "Accuracy on test set:  0.7747581759557808\n",
      "\n",
      "Mean accuracy = 0.7518346063370502\n",
      "Wall time: 1h 9min 59s\n"
     ]
    }
   ],
   "source": [
    "%%time\n",
    "accuracy_list = []\n",
    "for train_index, test_index in kf.split(patient_list):\n",
    "    train_patient_list = [patient_list[i] for i in train_index]\n",
    "    test_patient_list = [patient_list[i] for i in test_index]\n",
    "    \n",
    "    X_train, y_train = prepare_data.load_stat_features_others_windows(train_patient_list,\n",
    "                                                                      data_path=data_path,\n",
    "                                                                      n_others_windows=n_others_windows)\n",
    "    X_test, y_test = prepare_data.load_stat_features_others_windows(test_patient_list,\n",
    "                                                                    data_path=data_path, \n",
    "                                                                    n_others_windows=n_others_windows)\n",
    "    \n",
    "    #print(X_test.shape)\n",
    "    model2 = SVC(C=0.5, kernel=\"linear\")\n",
    "    model2.fit(X_train, y_train)\n",
    "    \n",
    "    y_predict = model2.predict(X_train)\n",
    "    accuracy_train = metrics.accuracy_score(y_train, y_predict)\n",
    "    print(\"\\nAccuracy on train set: \", accuracy_train)\n",
    "    \n",
    "    y_predict = model2.predict(X_test)\n",
    "    accuracy = metrics.accuracy_score(y_test, y_predict)\n",
    "    accuracy_list.append(accuracy)\n",
    "    print(\"Accuracy on test set: \", accuracy)\n",
    "    \n",
    "    #print(metrics.classification_report(y_test, y_predict))\n",
    "    #print(test_patient_list)\n",
    "\n",
    "print(\"\\nMean accuracy =\", np.mean(accuracy_list))    "
   ]
  },
  {
   "cell_type": "markdown",
   "metadata": {},
   "source": [
    "#### Results:\n",
    "\n",
    "8 windows: acc = 0.7262\n",
    "\n",
    "12 windows: acc = 0.7237\n",
    "\n",
    "22 windows: acc = 0.7506\n",
    "\n",
    "30 windows: acc = 0.7518\n",
    "\n",
    "32 windows: acc = \n",
    "\n",
    "40 windows: acc = \n",
    "\n",
    "50 windows: acc = \n",
    "\n",
    "60 windows: acc = \n"
   ]
  },
  {
   "cell_type": "markdown",
   "metadata": {},
   "source": [
    "## 3. Gradient Boosting Classifier\n",
    "### 3.1 Statictics features - std"
   ]
  },
  {
   "cell_type": "code",
   "execution_count": 41,
   "metadata": {},
   "outputs": [
    {
     "name": "stdout",
     "output_type": "stream",
     "text": [
      "\n",
      "Accuracy on train set:  0.7860701965723047\n",
      "Accuracy on test set:  0.6694684234438891\n",
      "\n",
      "Accuracy on train set:  0.773764579929002\n",
      "Accuracy on test set:  0.7259048393655958\n",
      "\n",
      "Accuracy on train set:  0.7659493326069191\n",
      "Accuracy on test set:  0.760092807424594\n",
      "\n",
      "Accuracy on train set:  0.7603396933936253\n",
      "Accuracy on test set:  0.7905539615978813\n",
      "\n",
      "Accuracy on train set:  0.767028247343208\n",
      "Accuracy on test set:  0.7531083481349912\n",
      "\n",
      "Mean accuracy = 0.7398256759933903\n",
      "Wall time: 22.2 s\n"
     ]
    }
   ],
   "source": [
    "%%time\n",
    "accuracy_list = []\n",
    "for train_index, test_index in kf.split(patient_list):\n",
    "    train_patient_list = [patient_list[i] for i in train_index]\n",
    "    test_patient_list = [patient_list[i] for i in test_index]\n",
    "    \n",
    "    X_train, y_train = prepare_data.load_stat_features_others_windows(train_patient_list,\n",
    "                                                                      data_path=data_path,\n",
    "                                                                      n_others_windows=n_others_windows)\n",
    "    X_test, y_test = prepare_data.load_stat_features_others_windows(test_patient_list,\n",
    "                                                                    data_path=data_path, \n",
    "                                                                    n_others_windows=n_others_windows)\n",
    "    \n",
    "    #print(X_test.shape)\n",
    "    model3 = GradientBoostingClassifier(n_estimators=50, max_depth=4)\n",
    "    model3.fit(X_train, y_train)\n",
    "    \n",
    "    y_predict = model3.predict(X_train)\n",
    "    accuracy_train = metrics.accuracy_score(y_train, y_predict)\n",
    "    print(\"\\nAccuracy on train set: \", accuracy_train)\n",
    "    \n",
    "    y_predict = model3.predict(X_test)\n",
    "    accuracy = metrics.accuracy_score(y_test, y_predict)\n",
    "    accuracy_list.append(accuracy)\n",
    "    print(\"Accuracy on test set: \", accuracy)\n",
    "    \n",
    "    #print(metrics.classification_report(y_test, y_predict))\n",
    "    #print(test_patient_list)\n",
    "\n",
    "print(\"\\nMean accuracy =\", np.mean(accuracy_list))    "
   ]
  },
  {
   "cell_type": "markdown",
   "metadata": {},
   "source": [
    "#### 30 windows, n_estimators=30, 35, 45, 50, 55, 60, 100, 80 max_depth=4\n",
    "#### best n_estimators = 50\n",
    "#### Results:\n",
    "\n",
    "8 windows: acc = 0.7305\n",
    "\n",
    "12 windows: acc = 0.7399\n",
    "\n",
    "22 windows: acc = 0.7429\n",
    "\n",
    "30 windows: acc = 0.7424, 0.7437, 0.7446, 0.7449 (n_est=50), 0.7445, 0.7443, 0.7433, 0.7437\n",
    "\n",
    "32 windows: acc = 0.7452, time ~3 min   - best\n",
    "\n",
    "40 windows: acc = 0.7430, time ~3-5 min\n",
    "\n",
    "50 windows: acc = \n",
    "\n",
    "60 windows: acc = \n"
   ]
  },
  {
   "cell_type": "markdown",
   "metadata": {},
   "source": [
    "## 4. Simple RNN\n",
    "### 4.1 Statistic features - std"
   ]
  },
  {
   "cell_type": "code",
   "execution_count": 6,
   "metadata": {},
   "outputs": [
    {
     "name": "stderr",
     "output_type": "stream",
     "text": [
      "Using TensorFlow backend.\n"
     ]
    }
   ],
   "source": [
    "\n",
    "from keras.layers import Dense, Flatten, Dropout, LSTM, Bidirectional\n",
    "from keras.layers import Conv1D, MaxPooling1D\n",
    "from keras.models import Sequential\n",
    "from keras.optimizers import SGD, Adam\n",
    "from keras.layers.normalization import BatchNormalization\n",
    "from keras.regularizers import l2\n",
    "\n",
    "from keras.layers import LSTM, Bidirectional\n",
    "\n",
    "from keras.callbacks import ModelCheckpoint, EarlyStopping, TensorBoard\n"
   ]
  },
  {
   "cell_type": "code",
   "execution_count": 7,
   "metadata": {},
   "outputs": [],
   "source": [
    "np.random.seed(5)"
   ]
  },
  {
   "cell_type": "code",
   "execution_count": 10,
   "metadata": {
    "scrolled": false
   },
   "outputs": [
    {
     "name": "stdout",
     "output_type": "stream",
     "text": [
      "Train on 14972 samples, validate on 2643 samples\n",
      "Epoch 1/12\n",
      "14972/14972 [==============================] - 109s 7ms/step - loss: 0.5846 - acc: 0.7141 - val_loss: 0.5282 - val_acc: 0.7688\n",
      "Epoch 2/12\n",
      "14972/14972 [==============================] - 109s 7ms/step - loss: 0.5346 - acc: 0.7539 - val_loss: 0.5546 - val_acc: 0.7454\n",
      "Epoch 3/12\n",
      "14972/14972 [==============================] - 110s 7ms/step - loss: 0.5302 - acc: 0.7483 - val_loss: 0.5260 - val_acc: 0.7537\n",
      "Epoch 4/12\n",
      "14972/14972 [==============================] - 138s 9ms/step - loss: 0.5234 - acc: 0.7539 - val_loss: 0.5247 - val_acc: 0.7643\n",
      "\n",
      "Accuracy on test set:  0.6617924528301887 \n",
      "\n",
      "Train on 14534 samples, validate on 2565 samples\n",
      "Epoch 1/12\n",
      "14534/14534 [==============================] - 55s 4ms/step - loss: 0.5889 - acc: 0.7217 - val_loss: 0.6271 - val_acc: 0.7037\n",
      "Epoch 2/12\n",
      "14534/14534 [==============================] - 52s 4ms/step - loss: 0.5441 - acc: 0.7516 - val_loss: 0.6468 - val_acc: 0.6955\n",
      "Epoch 3/12\n",
      "14534/14534 [==============================] - 53s 4ms/step - loss: 0.5335 - acc: 0.7522 - val_loss: 0.6881 - val_acc: 0.6768\n",
      "Epoch 4/12\n",
      "14534/14534 [==============================] - 53s 4ms/step - loss: 0.5303 - acc: 0.7559 - val_loss: 0.6544 - val_acc: 0.7006\n",
      "\n",
      "Accuracy on test set:  0.7268713204373423 \n",
      "\n",
      "Train on 15050 samples, validate on 2657 samples\n",
      "Epoch 1/12\n",
      "15050/15050 [==============================] - 57s 4ms/step - loss: 0.6003 - acc: 0.7023 - val_loss: 0.5433 - val_acc: 0.7463\n",
      "Epoch 2/12\n",
      "15050/15050 [==============================] - 55s 4ms/step - loss: 0.5595 - acc: 0.7325 - val_loss: 0.5325 - val_acc: 0.7603\n",
      "Epoch 3/12\n",
      "15050/15050 [==============================] - 55s 4ms/step - loss: 0.5516 - acc: 0.7352 - val_loss: 0.5214 - val_acc: 0.7595\n",
      "Epoch 4/12\n",
      "15050/15050 [==============================] - 55s 4ms/step - loss: 0.5479 - acc: 0.7361 - val_loss: 0.5170 - val_acc: 0.7591\n",
      "Epoch 5/12\n",
      "15050/15050 [==============================] - 55s 4ms/step - loss: 0.5443 - acc: 0.7405 - val_loss: 0.5112 - val_acc: 0.7670\n",
      "Epoch 6/12\n",
      "15050/15050 [==============================] - 55s 4ms/step - loss: 0.5413 - acc: 0.7396 - val_loss: 0.5134 - val_acc: 0.7606\n",
      "Epoch 7/12\n",
      "15050/15050 [==============================] - 62s 4ms/step - loss: 0.5406 - acc: 0.7391 - val_loss: 0.5150 - val_acc: 0.7618\n",
      "Epoch 8/12\n",
      "15050/15050 [==============================] - 64s 4ms/step - loss: 0.5391 - acc: 0.7411 - val_loss: 0.5088 - val_acc: 0.7648\n",
      "\n",
      "Accuracy on test set:  0.7553037608486017 \n",
      "\n",
      "Train on 14863 samples, validate on 2623 samples\n",
      "Epoch 1/12\n",
      "14863/14863 [==============================] - 151s 10ms/step - loss: 0.6005 - acc: 0.7006 - val_loss: 0.6517 - val_acc: 0.6717\n",
      "Epoch 2/12\n",
      "14863/14863 [==============================] - 59s 4ms/step - loss: 0.5635 - acc: 0.7312 - val_loss: 0.6408 - val_acc: 0.6759\n",
      "Epoch 3/12\n",
      "14863/14863 [==============================] - 62s 4ms/step - loss: 0.5553 - acc: 0.7324 - val_loss: 0.6170 - val_acc: 0.6904\n",
      "Epoch 4/12\n",
      "14863/14863 [==============================] - 104s 7ms/step - loss: 0.5514 - acc: 0.7349 - val_loss: 0.6154 - val_acc: 0.6935\n",
      "Epoch 5/12\n",
      "14863/14863 [==============================] - 67s 4ms/step - loss: 0.5480 - acc: 0.7366 - val_loss: 0.6100 - val_acc: 0.6965\n",
      "Epoch 6/12\n",
      "14863/14863 [==============================] - 54s 4ms/step - loss: 0.5441 - acc: 0.7385 - val_loss: 0.6274 - val_acc: 0.7003\n",
      "Epoch 7/12\n",
      "14863/14863 [==============================] - 54s 4ms/step - loss: 0.5426 - acc: 0.7384 - val_loss: 0.6014 - val_acc: 0.7061\n",
      "Epoch 8/12\n",
      "14863/14863 [==============================] - 54s 4ms/step - loss: 0.5401 - acc: 0.7426 - val_loss: 0.6111 - val_acc: 0.7053\n",
      "Epoch 9/12\n",
      "14863/14863 [==============================] - 54s 4ms/step - loss: 0.5411 - acc: 0.7385 - val_loss: 0.6080 - val_acc: 0.7022\n",
      "Epoch 10/12\n",
      "14863/14863 [==============================] - 55s 4ms/step - loss: 0.5378 - acc: 0.7389 - val_loss: 0.5980 - val_acc: 0.7099\n",
      "Epoch 11/12\n",
      "14863/14863 [==============================] - 54s 4ms/step - loss: 0.5399 - acc: 0.7398 - val_loss: 0.6171 - val_acc: 0.7000\n",
      "Epoch 12/12\n",
      "14863/14863 [==============================] - 55s 4ms/step - loss: 0.5366 - acc: 0.7391 - val_loss: 0.6148 - val_acc: 0.7034\n",
      "\n",
      "Accuracy on test set:  0.8084229801006191 \n",
      "\n",
      "Train on 14886 samples, validate on 2627 samples\n",
      "Epoch 1/12\n",
      "14886/14886 [==============================] - 57s 4ms/step - loss: 0.6075 - acc: 0.6906 - val_loss: 0.5877 - val_acc: 0.7301\n",
      "Epoch 2/12\n",
      "14886/14886 [==============================] - 54s 4ms/step - loss: 0.5616 - acc: 0.7308 - val_loss: 0.6020 - val_acc: 0.7149\n",
      "Epoch 3/12\n",
      "14886/14886 [==============================] - 54s 4ms/step - loss: 0.5564 - acc: 0.7319 - val_loss: 0.5668 - val_acc: 0.7552\n",
      "Epoch 4/12\n",
      "14886/14886 [==============================] - 54s 4ms/step - loss: 0.5506 - acc: 0.7347 - val_loss: 0.5681 - val_acc: 0.7560\n",
      "Epoch 5/12\n",
      "14886/14886 [==============================] - 54s 4ms/step - loss: 0.5448 - acc: 0.7383 - val_loss: 0.5638 - val_acc: 0.7556\n",
      "Epoch 6/12\n",
      "14886/14886 [==============================] - 54s 4ms/step - loss: 0.5446 - acc: 0.7381 - val_loss: 0.5552 - val_acc: 0.7678\n",
      "Epoch 7/12\n",
      "14886/14886 [==============================] - 54s 4ms/step - loss: 0.5409 - acc: 0.7410 - val_loss: 0.5595 - val_acc: 0.7773\n",
      "Epoch 8/12\n",
      "14886/14886 [==============================] - 54s 4ms/step - loss: 0.5376 - acc: 0.7450 - val_loss: 0.5769 - val_acc: 0.7530\n",
      "Epoch 9/12\n",
      "14886/14886 [==============================] - 55s 4ms/step - loss: 0.5371 - acc: 0.7414 - val_loss: 0.5542 - val_acc: 0.7727\n",
      "Epoch 10/12\n",
      "14886/14886 [==============================] - 55s 4ms/step - loss: 0.5368 - acc: 0.7392 - val_loss: 0.5801 - val_acc: 0.7465\n",
      "\n",
      "Accuracy on test set:  0.755412252555515 \n",
      "\n",
      "\n",
      "Mean accuracy = 0.7415605533544534\n",
      "Wall time: 42min 34s\n"
     ]
    }
   ],
   "source": [
    "%%time\n",
    "accuracy_list = []\n",
    "for train_index, test_index in kf.split(patient_list):\n",
    "    train_patient_list = [patient_list[i] for i in train_index]\n",
    "    test_patient_list = [patient_list[i] for i in test_index]\n",
    "    \n",
    "    X_train, y_train = prepare_data.load_stat_features_others_windows_rnn(train_patient_list,\n",
    "                                                                      data_path=data_path,\n",
    "                                                                      n_others_windows=n_others_windows)\n",
    "    X_test, y_test = prepare_data.load_stat_features_others_windows_rnn(test_patient_list,\n",
    "                                                                    data_path=data_path, \n",
    "                                                                    n_others_windows=n_others_windows)\n",
    "    \n",
    "\n",
    "\n",
    "    RNN = Sequential()\n",
    "    RNN.add(Bidirectional(LSTM(10, dropout=0.2, recurrent_dropout=0.2, input_shape=(n_others_windows + 1, 3) )))\n",
    "    #RNN.add(LSTM(10, dropout=0.2, recurrent_dropout=0.2, input_shape=(n_others_windows + 1, 3) ))\n",
    "    RNN.add(Dense(1, activation=\"sigmoid\", kernel_initializer=\"glorot_uniform\", kernel_regularizer=l2(0.01)))\n",
    "    RNN.compile(loss=\"binary_crossentropy\", optimizer=\"adam\", metrics=[\"accuracy\"])\n",
    "    \n",
    "    callbacks = [EarlyStopping(monitor='val_acc', patience=3)]\n",
    "    RNN.fit(X_train, y_train,\n",
    "            shuffle=True,\n",
    "            batch_size=32, \n",
    "            epochs=12,\n",
    "            validation_split=0.15,\n",
    "            #validation_data=(X_test, y_test),\n",
    "            verbose=1,\n",
    "            callbacks=callbacks\n",
    "           )\n",
    "    \n",
    "    scores = RNN.evaluate(X_test, y_test, verbose=0)\n",
    "    accuracy = scores[1]\n",
    "    print(\"\\nAccuracy on test set: \", accuracy, \"\\n\")\n",
    "    accuracy_list.append(accuracy)\n",
    "\n",
    "    \n",
    "    #print(metrics.classification_report(y_test, y_predict))\n",
    "    #print(test_patient_list)\n",
    "\n",
    "print(\"\\nMean accuracy =\", np.mean(accuracy_list))    "
   ]
  },
  {
   "cell_type": "markdown",
   "metadata": {},
   "source": [
    "0.7437 - 16 win, bidirect 10 \n",
    "\n",
    "0.7407- 16 win, bidirect es=1\n",
    "\n",
    "0.7429 bidirect 16 es=2\n",
    "\n",
    "0.74343 22w bidirect 10 es=2\n",
    "\n",
    "0.74754 22w bidirect 10 6ep - best results\n",
    "\n",
    "0.74156 30w bidirect 10  42 min\n",
    "\n",
    "0.7392"
   ]
  },
  {
   "cell_type": "markdown",
   "metadata": {},
   "source": [
    "0.6733   0.6774(7ep, 12lstm) 0.6742(8ep, 12lstm)\n",
    "0.7265\n",
    "0.7568\n",
    "16 w"
   ]
  },
  {
   "cell_type": "markdown",
   "metadata": {},
   "source": [
    "#### epochs = 6\n",
    "#### Results:\n",
    "\n",
    "8 windows: acc = 0.7361, time = 11 min; 0.7369 (9 epochs), 21 min; 0.7350 (4 ep), 0.7331 (7 epochs), 0.7334(10ep, 5lstm)\n",
    "0.7333(3ep, 5lstm, no dropout), 0.7331(4ep, 5lstm, no dropout)\n",
    "\n",
    "12 windows: acc = 0.7417, 0.7384(3ep, 5lstm, no dropout), 0.7393\n",
    "\n",
    "16 windows: 0.7366(8ep, 12 lstm)\n",
    "\n",
    "22 windows: acc = 0.7475, time = 16 min; 0.7445, 21 min\n",
    "\n",
    "30 windows: acc = 0.7460 (9 epoch)\n",
    "\n",
    "32 windows: acc = \n",
    "\n",
    "40 windows: acc = \n",
    "\n",
    "50 windows: acc = \n",
    "\n",
    "60 windows: acc = \n"
   ]
  },
  {
   "cell_type": "markdown",
   "metadata": {},
   "source": [
    "#### PTP, epochs = 9\n",
    "#### Results:\n",
    "\n",
    "8 windows: acc = 0.7340\n",
    " \n",
    "12 windows: acc = \n",
    "\n",
    "22 windows: acc =\n",
    "\n",
    "30 windows: acc = \n",
    "\n",
    "32 windows: acc = \n",
    "\n",
    "40 windows: acc = \n",
    "\n",
    "50 windows: acc = \n",
    "\n",
    "60 windows: acc = \n"
   ]
  },
  {
   "cell_type": "code",
   "execution_count": null,
   "metadata": {},
   "outputs": [],
   "source": []
  }
 ],
 "metadata": {
  "kernelspec": {
   "display_name": "Python 3",
   "language": "python",
   "name": "python3"
  },
  "language_info": {
   "codemirror_mode": {
    "name": "ipython",
    "version": 3
   },
   "file_extension": ".py",
   "mimetype": "text/x-python",
   "name": "python",
   "nbconvert_exporter": "python",
   "pygments_lexer": "ipython3",
   "version": "3.6.5"
  }
 },
 "nbformat": 4,
 "nbformat_minor": 2
}
