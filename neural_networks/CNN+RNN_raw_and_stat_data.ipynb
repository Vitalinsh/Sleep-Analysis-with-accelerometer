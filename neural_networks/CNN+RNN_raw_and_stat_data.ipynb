{
 "cells": [
  {
   "cell_type": "code",
   "execution_count": 1,
   "metadata": {
    "colab": {
     "base_uri": "https://localhost:8080/",
     "height": 121
    },
    "colab_type": "code",
    "executionInfo": {
     "elapsed": 43206,
     "status": "ok",
     "timestamp": 1539533004843,
     "user": {
      "displayName": "Виктор Оверко",
      "photoUrl": "",
      "userId": "04713510988786792129"
     },
     "user_tz": -180
    },
    "id": "ZtLCrbxiIgJg",
    "outputId": "a662aaed-a501-4821-e506-fd55bfd17fce"
   },
   "outputs": [
    {
     "name": "stdout",
     "output_type": "stream",
     "text": [
      "Go to this URL in a browser: https://accounts.google.com/o/oauth2/auth?client_id=947318989803-6bn6qk8qdgf4n4g3pfee6491hc0brc4i.apps.googleusercontent.com&redirect_uri=urn%3Aietf%3Awg%3Aoauth%3A2.0%3Aoob&scope=email%20https%3A%2F%2Fwww.googleapis.com%2Fauth%2Fdocs.test%20https%3A%2F%2Fwww.googleapis.com%2Fauth%2Fdrive%20https%3A%2F%2Fwww.googleapis.com%2Fauth%2Fdrive.photos.readonly%20https%3A%2F%2Fwww.googleapis.com%2Fauth%2Fpeopleapi.readonly&response_type=code\n",
      "\n",
      "Enter your authorization code:\n",
      "··········\n",
      "Mounted at /content/gdrive\n"
     ]
    }
   ],
   "source": [
    "from google.colab import drive\n",
    "drive.mount('/content/gdrive')"
   ]
  },
  {
   "cell_type": "code",
   "execution_count": 0,
   "metadata": {
    "colab": {},
    "colab_type": "code",
    "id": "iKCqU207IJrF"
   },
   "outputs": [],
   "source": [
    "import os\n",
    "import numpy as np\n",
    "\n",
    "from sklearn import metrics\n",
    "from sklearn.linear_model import LogisticRegression\n",
    "from sklearn.model_selection import train_test_split\n",
    "from sklearn.decomposition import PCA\n",
    "\n",
    "from google.colab import files\n"
   ]
  },
  {
   "cell_type": "code",
   "execution_count": 0,
   "metadata": {
    "colab": {},
    "colab_type": "code",
    "id": "JRGXpB-8IJrQ"
   },
   "outputs": [],
   "source": [
    "data_path = os.path.join(\"/content/gdrive/My Drive/\", \"DRU-MAWI-project/ICHI14_dataset/data\")\n",
    "patient_list = ['002','003','005','007','08a','08b','09a','09b', '10a','011','013','014','15a','15b','016',\n",
    "            '017','018','019','020','021','022','023','025','026','027','028','029','030','031','032',\n",
    "            '033','034','035','036','037','038','040','042','043','044','045','047','048','049','051']"
   ]
  },
  {
   "cell_type": "code",
   "execution_count": 0,
   "metadata": {
    "colab": {},
    "colab_type": "code",
    "id": "rAkhERdxIJrT"
   },
   "outputs": [],
   "source": [
    "train_patient_list, test_patient_list = train_test_split(patient_list, random_state=152, test_size=0.3)\n",
    "test_patient_list, valid_patient_list = train_test_split(test_patient_list, random_state=151, test_size=0.5)"
   ]
  },
  {
   "cell_type": "code",
   "execution_count": 5,
   "metadata": {
    "colab": {
     "base_uri": "https://localhost:8080/",
     "height": 84
    },
    "colab_type": "code",
    "executionInfo": {
     "elapsed": 1660,
     "status": "ok",
     "timestamp": 1539533016754,
     "user": {
      "displayName": "Виктор Оверко",
      "photoUrl": "",
      "userId": "04713510988786792129"
     },
     "user_tz": -180
    },
    "id": "YHxtdjtQlXiO",
    "outputId": "196fff6e-aeb8-47b5-e251-2d8c0aa86e65"
   },
   "outputs": [
    {
     "name": "stdout",
     "output_type": "stream",
     "text": [
      "45\n",
      "31\n",
      "7\n",
      "7\n"
     ]
    }
   ],
   "source": [
    "print(len(patient_list))\n",
    "print(len(train_patient_list))\n",
    "print(len(valid_patient_list))\n",
    "print(len(test_patient_list))"
   ]
  },
  {
   "cell_type": "code",
   "execution_count": 6,
   "metadata": {
    "colab": {
     "base_uri": "https://localhost:8080/",
     "height": 87
    },
    "colab_type": "code",
    "executionInfo": {
     "elapsed": 1439,
     "status": "ok",
     "timestamp": 1539533018485,
     "user": {
      "displayName": "Виктор Оверко",
      "photoUrl": "",
      "userId": "04713510988786792129"
     },
     "user_tz": -180
    },
    "id": "oVyQga2AmI7R",
    "outputId": "c66c24a3-e296-4b6b-d8f9-eb0275da0877"
   },
   "outputs": [
    {
     "name": "stdout",
     "output_type": "stream",
     "text": [
      "['022', '09b', '048', '020', '023', '15b', '003', '042', '15a', '038', '025', '011', '018', '029', '031', '014', '08a', '047', '049', '016', '040', '005', '037', '033', '013', '017', '026', '044', '007', '027', '10a']\n",
      "['035', '034', '051', '019', '045', '043', '08b']\n",
      "['021', '09a', '002', '028', '032', '036', '030']\n"
     ]
    }
   ],
   "source": [
    "print(train_patient_list)\n",
    "print(valid_patient_list)\n",
    "print(test_patient_list)"
   ]
  },
  {
   "cell_type": "code",
   "execution_count": 0,
   "metadata": {
    "colab": {},
    "colab_type": "code",
    "id": "wj-8RYiRL2We"
   },
   "outputs": [],
   "source": [
    "def change_labels(sample):\n",
    "    \"\"\"\n",
    "    Returns:\n",
    "    sample - contains only label 1(awake) and 0(sleep) for polisomnography\n",
    "    \"\"\"\n",
    "    \n",
    "    sample.gt[sample.gt==0] = 8\n",
    "    sample.gt[np.logical_or.reduce((sample.gt==1, sample.gt==2, sample.gt==3, sample.gt==5))] = 0\n",
    "    sample.gt[np.logical_or.reduce((sample.gt==6, sample.gt==7, sample.gt==8))] = 1\n",
    "    \n",
    "    return sample   \n",
    "\n",
    "#-------------------------------------------------------------------------\n",
    "\n",
    "def decoder(sample):\n",
    "    '''\n",
    "    Returns: \n",
    "    decoded_sample - contains accelerometer and ps data for each sensor record, ndarray of shape (n_records, 4)\n",
    "    \n",
    "    '''\n",
    "\n",
    "    sample = np.repeat(sample, sample.d, axis=0)\n",
    "    n_records = sample.shape[0]\n",
    "    decoded_sample = np.zeros((n_records, 4))\n",
    "    \n",
    "    decoded_sample[:, 0] = sample.x\n",
    "    decoded_sample[:, 1] = sample.y\n",
    "    decoded_sample[:, 2] = sample.z\n",
    "    decoded_sample[:, 3] = sample.gt\n",
    "    \n",
    "    return decoded_sample\n",
    "\n",
    "#-------------------------------------------------------------------------\n",
    "\n",
    "def divide_by_windows(decoded_sample, window_len=60):\n",
    "    \"\"\"\n",
    "    Parameters:\n",
    "    wondow_len - length of each window in seconds, int\n",
    "    Returns:\n",
    "    X - accelerometer data, ndarray of shape (n_windows, window_len, 3)\n",
    "    y - polisomnography data, ndarray of shape (n_windows, )\n",
    "    \"\"\"\n",
    "    \n",
    "    window_len *= 100\n",
    "    n_windows = decoded_sample.shape[0] // window_len\n",
    "    \n",
    "    X = np.zeros((n_windows, window_len, 3))\n",
    "    y = np.zeros(n_windows)\n",
    "    \n",
    "    for i in range(n_windows):\n",
    "        X[i] = decoded_sample[window_len * i: window_len * i + window_len, 0: 3]\n",
    "        \n",
    "        ones = np.count_nonzero(decoded_sample[window_len*i: window_len*i+window_len, 3])\n",
    "        if ones >= (window_len / 2):\n",
    "            y[i] = 1\n",
    "        else:\n",
    "            y[i] = 0\n",
    "                \n",
    "    return X, y\n",
    "\n",
    "#-------------------------------------------------------------------------\n",
    "\n",
    "def get_one_patient_data(data_path, patient, window_len=60):\n",
    "    \n",
    "    \"\"\"\n",
    "    Returns:\n",
    "    X, y - for one patient\n",
    "    \"\"\"\n",
    "    \n",
    "    sample = np.load(\"%s/p%s.npy\"%(data_path, patient)).view(np.recarray)\n",
    "    sample = change_labels(sample)\n",
    "    sample = decoder(sample)\n",
    "    X, y = divide_by_windows(sample, window_len)\n",
    "    \n",
    "    return X, y\n",
    "\n",
    "#-------------------------------------------------------------------------\n",
    "\n",
    "def get_data_for_model(data_path, patient_list, window_len=60):\n",
    "    \n",
    "    \"\"\"\n",
    "    Returns:\n",
    "    X, y - for all patient list, ndarray of shape (n_records, n_features, n_channels=3)\n",
    "    \"\"\"\n",
    "    \n",
    "    X_all_data = []\n",
    "    y_all_data = []\n",
    "    for patient in patient_list:\n",
    "        X, y = get_one_patient_data(data_path, patient, window_len)\n",
    "        X_all_data.append(X)\n",
    "        y_all_data.append(y)\n",
    "        \n",
    "    X_all_data = np.concatenate(X_all_data, axis=0)\n",
    "    y_all_data = np.concatenate(y_all_data, axis=0)\n",
    "    \n",
    "    return X_all_data, y_all_data\n",
    "  \n",
    "#-------------------------------------------------------------------------\n",
    "\n",
    "def get_dawnsampled_data(data_path, patient_list, window_len=60, dawnsample=\"pca\", n_components=10, n_windows=10):\n",
    "    \n",
    "    \"\"\"\n",
    "    Parameters:\n",
    "    dawnsample - \"pca\", \"mean\", \"max\", \"mode\", None - determine the type of data reducing\n",
    "    Returns:\n",
    "    X, y - reduced data for all patient list and combine several windows data, ndarray of shape (n_records, n_components * n_windows, n_channels=3)\n",
    "    \"\"\"\n",
    "    \n",
    "    X_all_data = []\n",
    "    y_all_data = []\n",
    "    for patient in patient_list:\n",
    "        X, y = get_one_patient_data(data_path, patient, window_len)\n",
    "        \n",
    "        if dawnsample.lower() == \"pca\":\n",
    "          X = reduce_data_pca(X, n_components=n_components)\n",
    "          \n",
    "        elif dawnsample.lower() == \"mean\":\n",
    "          X = reduce_data_mean(X, n_components=n_components)\n",
    "          \n",
    "        elif dawnsample.lower() == \"max\":\n",
    "          X = reduce_data_max(X, n_components=n_components)\n",
    "          \n",
    "        elif dawnsample.lower() == \"mode\":\n",
    "          X = reduce_data_mode(X, n_components=n_components)\n",
    "          \n",
    "        elif dawnsample.lower() == \"simple\":\n",
    "          X = reduce_data_simple(X, n_components=n_components)\n",
    "        \n",
    "        elif dawnsample.lower() == \"statistic\":\n",
    "          X = reduce_data_statistics(X, n_components=n_components)\n",
    "        \n",
    "        \n",
    "        X_new = np.zeros((X.shape[0] - n_windows, X.shape[1] * (n_windows + 1), X.shape[2]))\n",
    "        \n",
    "        for i in range(0, X.shape[0] - n_windows):\n",
    "            X_buff = X[i]\n",
    "            for j in range(1, n_windows + 1):\n",
    "                X_buff = np.concatenate([X_buff, X[i+j]], axis=0)\n",
    "            X_new[i] = X_buff                            \n",
    "    \n",
    "    \n",
    "        if n_windows != 0:\n",
    "          #y = y[n_windows: ]\n",
    "          y = y[(n_windows//2): -(n_windows//2)]\n",
    "      \n",
    "        \n",
    "        X_all_data.append(X_new)\n",
    "        y_all_data.append(y)\n",
    "\n",
    "        #np.save((\"X_p%s.npy\"%(patient)), X_new)\n",
    "        #np.save((\"y_p%s.npy\"%(patient)), y)\n",
    "        \n",
    "    X_all_data = np.concatenate(X_all_data, axis=0)\n",
    "    y_all_data = np.concatenate(y_all_data, axis=0)\n",
    "    \n",
    "    \n",
    "    \n",
    "    return X_all_data, y_all_data\n",
    "  \n",
    "def reduce_data_pca(X, n_components=300):\n",
    "    \"\"\"\n",
    "    Parameters:\n",
    "    X - ndarray of shape (n_samples, n_features)\n",
    "    \n",
    "    Returns:\n",
    "    X, y - reduced data, ndarray of shape (n_records, n_features, n_channels=3)\n",
    "    \"\"\"\n",
    "    pca1 = PCA(n_components)\n",
    "    pca2 = PCA(n_components)\n",
    "    pca3 = PCA(n_components)\n",
    "    \n",
    "    pca1.fit(X[:, :, 0])\n",
    "    pca2.fit(X[:, :, 1])\n",
    "    pca3.fit(X[:, :, 2])\n",
    "    \n",
    "    X1 = pca1.transform(X[:, :, 0])\n",
    "    X2 = pca2.transform(X[:, :, 1])\n",
    "    X3 = pca3.transform(X[:, :, 2])\n",
    "    \n",
    "    X_reduced = np.concatenate([X1, X2, X3], axis=1).reshape(X.shape[0], n_components, 3)\n",
    "    \n",
    "    return X_reduced\n",
    "  \n",
    "  \n",
    "def reduce_data_max(X, n_components=600):\n",
    "    \"\"\"\n",
    "    Parameters:\n",
    "    X - ndarray of shape (n_samples, n_features)\n",
    "    \n",
    "    Returns:\n",
    "    X, y - reduced data, ndarray of shape (n_records, n_components, n_channels=3)\n",
    "    \"\"\"\n",
    "   \n",
    "    \n",
    "    X_reduced = np.zeros((X.shape[0], n_components, 3))\n",
    "    window_len = X.shape[1] // n_components\n",
    "    \n",
    "    \n",
    "    for i in range(n_components):\n",
    "      \n",
    "      X_reduced[:, i, :] = np.amax(X[:, i * window_len: (i + 1) * window_len, :], axis=1)\n",
    "      \n",
    "    \n",
    "    X_reduced = X_reduced.reshape(X.shape[0], n_components, 3)\n",
    "    \n",
    "    return X_reduced\n",
    "  \n",
    "\n",
    "def reduce_data_mean(X, n_components=600):\n",
    "    \"\"\"\n",
    "    Parameters:\n",
    "    X - ndarray of shape (n_samples, n_features)\n",
    "    \n",
    "    Returns:\n",
    "    X, y - reduced data, ndarray of shape (n_records, n_components, n_channels=3)\n",
    "    \"\"\"\n",
    "   \n",
    "    \n",
    "    X_reduced = np.zeros((X.shape[0], n_components, 3))\n",
    "    window_len = X.shape[1] // n_components\n",
    "    \n",
    "    \n",
    "    for i in range(n_components):\n",
    "      \n",
    "      X_reduced[:, i, :] = np.mean(X[:, i * window_len: (i + 1) * window_len, :], axis=1)\n",
    "         \n",
    "    X_reduced = X_reduced.reshape(X.shape[0], n_components, 3)\n",
    "    \n",
    "    return X_reduced\n",
    "  \n",
    "    \n",
    "def reduce_data_mode(X, n_components=600):\n",
    "    \"\"\"\n",
    "    Parameters:\n",
    "    X - ndarray of shape (n_samples, n_features)\n",
    "    \n",
    "    Returns:\n",
    "    X, y - reduced data, ndarray of shape (n_records, n_components, n_channels=3)\n",
    "    \"\"\"\n",
    "    \n",
    "    from scipy.stats import mode\n",
    "   \n",
    "    X_reduced = np.zeros((X.shape[0], n_components, 3))\n",
    "    window_len = X.shape[1] // n_components\n",
    "       \n",
    "    for i in range(n_components):\n",
    "      \n",
    "      X_reduced[:, i, :] = mode(X[:, i * window_len: (i + 1) * window_len, :], axis=1)\n",
    "         \n",
    "    X_reduced = X_reduced.reshape(X.shape[0], n_components, 3)\n",
    "    \n",
    "    return X_reduced\n",
    "  \n",
    "def reduce_data_simple(X, n_components=600):\n",
    "    \"\"\"\n",
    "    Parameters:\n",
    "    X - ndarray of shape (n_samples, n_features)\n",
    "    \n",
    "    Returns:\n",
    "    X, y - reduced data, ndarray of shape (n_records, n_components, n_channels=3)\n",
    "    \"\"\"\n",
    "   \n",
    "    X_reduced = np.zeros((X.shape[0], n_components, 3))\n",
    "    window_len = X.shape[1] // n_components\n",
    "       \n",
    "    for i in range(n_components):\n",
    "      \n",
    "      X_reduced[:, i, :] = X[:, i * window_len, :]\n",
    "         \n",
    "    X_reduced = X_reduced.reshape(X.shape[0], n_components, 3)\n",
    "    \n",
    "    return X_reduced\n",
    "\n",
    "def reduce_data_statistics(X, n_components=600):\n",
    "    \"\"\"\n",
    "    Parameters:\n",
    "    X - ndarray of shape (n_samples, n_features)\n",
    "    \n",
    "    Returns:\n",
    "    X, y - reduced data, ndarray of shape (n_records, n_components, n_channels=3)\n",
    "    \"\"\"\n",
    "    \n",
    "    \n",
    "   \n",
    "    X_reduced = np.zeros((X.shape[0], n_components, 3))\n",
    "    #X_reduced2 = np.zeros((X.shape[0], n_components, 3))\n",
    "    \n",
    "    window_len = X.shape[1] // n_components\n",
    "       \n",
    "    for i in range(n_components):\n",
    "      \n",
    "      #X_reduced[:, i, 0: 3] = X[:, i * window_len, :]\n",
    "      #X_reduced[:, i, 0: 3] = np.mean(X[:, i * window_len: (i + 1) * window_len, :], axis=1)\n",
    "      X_reduced[:, i, : ] = np.std(X[:, i * window_len: (i + 1) * window_len, :], axis=1)\n",
    "      #X_reduced[:, i, 3: 6] = np.ptp(X[:, i * window_len: (i + 1) * window_len, :], axis=1)\n",
    "      #X_reduced[:, i, 0: 3] = np.sqrt(np.mean(np.square(X[:, i * window_len: (i + 1) * window_len, :]), axis=1))\n",
    "      #X_reduced2[:, i, : ] = np.sqrt(np.mean(np.square(X[:, i * window_len: (i + 1) * window_len, :]), axis=1))\n",
    "      #X_reduced[:, i, 0: 3] = np.max(X[:, i * window_len: (i + 1) * window_len, :], axis=1) / X_reduced[:, i, :]\n",
    "      \n",
    "        #mean = np.mean(X, axis=1)\n",
    "        #max_val = np.amax(X, axis=1)\n",
    "        #min_val = np.amin(X, axis=1)\n",
    "        #ptp = np.ptp(X, axis=1)\n",
    "        #rms = np.sqrt(np.mean(np.square(X), axis=1))\n",
    "        #crest_factor = np.max(X, axis=1) / rms\n",
    "         \n",
    "    X_reduced = X_reduced.reshape(X.shape[0], n_components, 3)\n",
    "    \n",
    "    return X_reduced"
   ]
  },
  {
   "cell_type": "code",
   "execution_count": 0,
   "metadata": {
    "colab": {},
    "colab_type": "code",
    "id": "VT7dhZvRIJrX"
   },
   "outputs": [],
   "source": [
    "X_train, y_train = get_data_for_model(data_path, train_patient_list, window_len=1)\n",
    "X_valid, y_valid = get_data_for_model(data_path, valid_patient_list, window_len=1)\n",
    "X_test, y_test = get_data_for_model(data_path, test_patient_list, window_len=1)"
   ]
  },
  {
   "cell_type": "code",
   "execution_count": 10,
   "metadata": {
    "colab": {
     "base_uri": "https://localhost:8080/",
     "height": 67
    },
    "colab_type": "code",
    "executionInfo": {
     "elapsed": 1349,
     "status": "ok",
     "timestamp": 1539533196388,
     "user": {
      "displayName": "Виктор Оверко",
      "photoUrl": "",
      "userId": "04713510988786792129"
     },
     "user_tz": -180
    },
    "id": "88XbUDyOIJrc",
    "outputId": "3ce70c35-16b8-4267-fb52-8342841cc367"
   },
   "outputs": [
    {
     "name": "stdout",
     "output_type": "stream",
     "text": [
      "(951083, 100, 3)\n",
      "(214186, 100, 3)\n",
      "(228481, 100, 3)\n"
     ]
    }
   ],
   "source": [
    "print(X_train.shape)\n",
    "print(X_valid.shape)\n",
    "print(X_test.shape)"
   ]
  },
  {
   "cell_type": "code",
   "execution_count": 41,
   "metadata": {
    "colab": {
     "base_uri": "https://localhost:8080/",
     "height": 50
    },
    "colab_type": "code",
    "executionInfo": {
     "elapsed": 17989,
     "status": "ok",
     "timestamp": 1539536791661,
     "user": {
      "displayName": "Виктор Оверко",
      "photoUrl": "",
      "userId": "04713510988786792129"
     },
     "user_tz": -180
    },
    "id": "4oE0-ifHUdJJ",
    "outputId": "de36af35-86d6-4e59-cb17-0023816d025e"
   },
   "outputs": [
    {
     "name": "stdout",
     "output_type": "stream",
     "text": [
      "CPU times: user 16.5 s, sys: 563 ms, total: 17.1 s\n",
      "Wall time: 17.2 s\n"
     ]
    }
   ],
   "source": [
    "%%time\n",
    "X_train, y_train = get_dawnsampled_data(data_path, train_patient_list, window_len=60, dawnsample=\"statistic\", n_components=10, n_windows=20)\n",
    "X_valid, y_valid = get_dawnsampled_data(data_path, valid_patient_list, window_len=60, dawnsample=\"statistic\", n_components=10, n_windows=20)\n",
    "X_test, y_test = get_dawnsampled_data(data_path, test_patient_list, window_len=60, dawnsample=\"statistic\", n_components=10, n_windows=20)"
   ]
  },
  {
   "cell_type": "code",
   "execution_count": 42,
   "metadata": {
    "colab": {
     "base_uri": "https://localhost:8080/",
     "height": 118
    },
    "colab_type": "code",
    "executionInfo": {
     "elapsed": 1378,
     "status": "ok",
     "timestamp": 1539536793095,
     "user": {
      "displayName": "Виктор Оверко",
      "photoUrl": "",
      "userId": "04713510988786792129"
     },
     "user_tz": -180
    },
    "id": "54b8IOL2IJrl",
    "outputId": "25d3bba7-3792-457d-8799-35368c5b82b4"
   },
   "outputs": [
    {
     "name": "stdout",
     "output_type": "stream",
     "text": [
      "(15215, 210, 3)\n",
      "(15215,)\n",
      "(3425, 210, 3)\n",
      "(3425,)\n",
      "(3665, 210, 3)\n",
      "(3665,)\n"
     ]
    }
   ],
   "source": [
    "print(X_train.shape)\n",
    "print(y_train.shape)\n",
    "print(X_valid.shape)\n",
    "print(y_valid.shape)\n",
    "print(X_test.shape)\n",
    "print(y_test.shape)"
   ]
  },
  {
   "cell_type": "code",
   "execution_count": 0,
   "metadata": {
    "colab": {},
    "colab_type": "code",
    "id": "whTzvWqWNl7O"
   },
   "outputs": [],
   "source": [
    "from keras.layers import Dense, Flatten, Dropout\n",
    "from keras.layers import Conv1D, MaxPooling1D\n",
    "from keras.models import Sequential\n",
    "from keras.optimizers import SGD, Adam\n",
    "from keras.layers.normalization import BatchNormalization\n",
    "from keras.regularizers import l2\n",
    "\n",
    "from keras.layers import LSTM, Bidirectional\n",
    "\n",
    "from keras.callbacks import ModelCheckpoint, EarlyStopping\n"
   ]
  },
  {
   "cell_type": "code",
   "execution_count": 11,
   "metadata": {
    "colab": {
     "base_uri": "https://localhost:8080/",
     "height": 652
    },
    "colab_type": "code",
    "executionInfo": {
     "elapsed": 2726,
     "status": "ok",
     "timestamp": 1539239470189,
     "user": {
      "displayName": "Виктор Оверко",
      "photoUrl": "",
      "userId": "04713510988786792129"
     },
     "user_tz": -180
    },
    "id": "s-ze4t-Sk9BE",
    "outputId": "64e7e7db-44f7-4fc9-edfe-7c32a1ed8ba7"
   },
   "outputs": [
    {
     "name": "stdout",
     "output_type": "stream",
     "text": [
      "_________________________________________________________________\n",
      "Layer (type)                 Output Shape              Param #   \n",
      "=================================================================\n",
      "conv1d_1 (Conv1D)            (None, 6598, 512)         5120      \n",
      "_________________________________________________________________\n",
      "batch_normalization_1 (Batch (None, 6598, 512)         2048      \n",
      "_________________________________________________________________\n",
      "max_pooling1d_1 (MaxPooling1 (None, 3299, 512)         0         \n",
      "_________________________________________________________________\n",
      "dropout_1 (Dropout)          (None, 3299, 512)         0         \n",
      "_________________________________________________________________\n",
      "conv1d_2 (Conv1D)            (None, 3297, 64)          98368     \n",
      "_________________________________________________________________\n",
      "batch_normalization_2 (Batch (None, 3297, 64)          256       \n",
      "_________________________________________________________________\n",
      "max_pooling1d_2 (MaxPooling1 (None, 1648, 64)          0         \n",
      "_________________________________________________________________\n",
      "dropout_2 (Dropout)          (None, 1648, 64)          0         \n",
      "_________________________________________________________________\n",
      "conv1d_3 (Conv1D)            (None, 1646, 32)          6176      \n",
      "_________________________________________________________________\n",
      "batch_normalization_3 (Batch (None, 1646, 32)          128       \n",
      "_________________________________________________________________\n",
      "max_pooling1d_3 (MaxPooling1 (None, 823, 32)           0         \n",
      "_________________________________________________________________\n",
      "lstm_1 (LSTM)                (None, 823, 128)          82432     \n",
      "_________________________________________________________________\n",
      "lstm_2 (LSTM)                (None, 128)               131584    \n",
      "_________________________________________________________________\n",
      "dropout_3 (Dropout)          (None, 128)               0         \n",
      "_________________________________________________________________\n",
      "dense_1 (Dense)              (None, 1)                 129       \n",
      "=================================================================\n",
      "Total params: 326,241\n",
      "Trainable params: 325,025\n",
      "Non-trainable params: 1,216\n",
      "_________________________________________________________________\n",
      "None\n"
     ]
    }
   ],
   "source": [
    "NN = Sequential()\n",
    "\n",
    "NN.add(Conv1D( 512, 3, input_shape=(6600, 3), activation=\"relu\", kernel_initializer=\"he_uniform\", kernel_regularizer=l2(0.1)))\n",
    "NN.add(BatchNormalization())\n",
    "#NN.add(Dropout(0.5))\n",
    "#NN.add(Conv1D( 512, 3, activation=\"relu\", kernel_initializer=\"he_uniform\", kernel_regularizer=l2(0.1)))\n",
    "#NN.add(BatchNormalization())\n",
    "NN.add(MaxPooling1D( pool_size=2))\n",
    "NN.add(Dropout(0.5))\n",
    "\n",
    "NN.add(Conv1D( 64, 3, activation=\"relu\", kernel_initializer=\"he_uniform\", kernel_regularizer=l2(0.1)))\n",
    "NN.add(BatchNormalization())\n",
    "#NN.add(Dropout(0.5))\n",
    "#NN.add(Conv1D( 64, 3, activation=\"relu\", kernel_initializer=\"he_uniform\", kernel_regularizer=l2(0.1)))\n",
    "#NN.add(BatchNormalization())\n",
    "NN.add(MaxPooling1D( pool_size=2))\n",
    "NN.add(Dropout(0.5))\n",
    "\n",
    "NN.add(Conv1D( 32, 3, activation=\"relu\", kernel_initializer=\"he_uniform\", kernel_regularizer=l2(0.1)))\n",
    "NN.add(BatchNormalization())\n",
    "#NN.add(Dropout(0.5))\n",
    "#NN.add(Conv1D( 32, 3, activation=\"relu\", kernel_initializer=\"he_uniform\", kernel_regularizer=l2(0.1)))\n",
    "#NN.add(BatchNormalization())\n",
    "NN.add(MaxPooling1D( pool_size=2))\n",
    "#NN.add(Dropout(0.5))\n",
    "#NN.add(Flatten())\n",
    "\n",
    "#NN.add(Dense(64, activation=\"relu\", kernel_initializer=\"he_uniform\", kernel_regularizer=l2(0.1)))\n",
    "#NN.add(BatchNormalization(axis=1))\n",
    "#NN.add(Dropout(0.5))\n",
    "\n",
    "NN.add(LSTM(128, return_sequences=True, dropout=0.15, recurrent_dropout=0.15))\n",
    "#NN.add(LSTM(128, return_sequences=True, dropout=0.15, recurrent_dropout=0.15))\n",
    "NN.add(LSTM(128, dropout=0.15, recurrent_dropout=0.15))\n",
    "NN.add(Dropout(0.5))\n",
    "#NN.add(BatchNormalization())\n",
    "\n",
    "\n",
    "#NN.add(Dense(16, activation=\"relu\", kernel_initializer=\"he_uniform\", kernel_regularizer=l2(0.1)))\n",
    "#NN.add(BatchNormalization(axis=1))\n",
    "#NN.add(Dropout(0.2))\n",
    "\n",
    "NN.add(Dense(1, activation=\"sigmoid\", kernel_initializer=\"glorot_uniform\", kernel_regularizer=l2(0.1)))\n",
    "\n",
    "NN.compile(loss=\"binary_crossentropy\", optimizer=\"adam\", metrics=[\"accuracy\"])\n",
    "\n",
    "print(NN.summary())"
   ]
  },
  {
   "cell_type": "code",
   "execution_count": 45,
   "metadata": {
    "colab": {
     "base_uri": "https://localhost:8080/",
     "height": 857
    },
    "colab_type": "code",
    "executionInfo": {
     "elapsed": 1719,
     "status": "ok",
     "timestamp": 1539536926756,
     "user": {
      "displayName": "Виктор Оверко",
      "photoUrl": "",
      "userId": "04713510988786792129"
     },
     "user_tz": -180
    },
    "id": "xhkZ4TY2UqU1",
    "outputId": "c87d9fb4-3b54-4ee5-8e1f-62fb1ff77c66"
   },
   "outputs": [
    {
     "name": "stdout",
     "output_type": "stream",
     "text": [
      "_________________________________________________________________\n",
      "Layer (type)                 Output Shape              Param #   \n",
      "=================================================================\n",
      "conv1d_25 (Conv1D)           (None, 208, 16)           160       \n",
      "_________________________________________________________________\n",
      "batch_normalization_25 (Batc (None, 208, 16)           64        \n",
      "_________________________________________________________________\n",
      "dropout_27 (Dropout)         (None, 208, 16)           0         \n",
      "_________________________________________________________________\n",
      "conv1d_26 (Conv1D)           (None, 206, 16)           784       \n",
      "_________________________________________________________________\n",
      "batch_normalization_26 (Batc (None, 206, 16)           64        \n",
      "_________________________________________________________________\n",
      "max_pooling1d_7 (MaxPooling1 (None, 103, 16)           0         \n",
      "_________________________________________________________________\n",
      "dropout_28 (Dropout)         (None, 103, 16)           0         \n",
      "_________________________________________________________________\n",
      "conv1d_27 (Conv1D)           (None, 101, 32)           1568      \n",
      "_________________________________________________________________\n",
      "batch_normalization_27 (Batc (None, 101, 32)           128       \n",
      "_________________________________________________________________\n",
      "dropout_29 (Dropout)         (None, 101, 32)           0         \n",
      "_________________________________________________________________\n",
      "conv1d_28 (Conv1D)           (None, 99, 32)            3104      \n",
      "_________________________________________________________________\n",
      "batch_normalization_28 (Batc (None, 99, 32)            128       \n",
      "_________________________________________________________________\n",
      "max_pooling1d_8 (MaxPooling1 (None, 49, 32)            0         \n",
      "_________________________________________________________________\n",
      "dropout_30 (Dropout)         (None, 49, 32)            0         \n",
      "_________________________________________________________________\n",
      "conv1d_29 (Conv1D)           (None, 47, 64)            6208      \n",
      "_________________________________________________________________\n",
      "batch_normalization_29 (Batc (None, 47, 64)            256       \n",
      "_________________________________________________________________\n",
      "dropout_31 (Dropout)         (None, 47, 64)            0         \n",
      "_________________________________________________________________\n",
      "conv1d_30 (Conv1D)           (None, 45, 64)            12352     \n",
      "_________________________________________________________________\n",
      "batch_normalization_30 (Batc (None, 45, 64)            256       \n",
      "_________________________________________________________________\n",
      "lstm_7 (LSTM)                (None, 10)                3000      \n",
      "_________________________________________________________________\n",
      "dense_7 (Dense)              (None, 1)                 11        \n",
      "=================================================================\n",
      "Total params: 28,083\n",
      "Trainable params: 27,635\n",
      "Non-trainable params: 448\n",
      "_________________________________________________________________\n",
      "None\n"
     ]
    }
   ],
   "source": [
    "NN = Sequential()\n",
    "\n",
    "NN.add(Conv1D( 16, 3, input_shape=(210, 3), activation=\"relu\", kernel_initializer=\"he_uniform\", kernel_regularizer=l2(0.01)))\n",
    "NN.add(BatchNormalization())\n",
    "NN.add(Dropout(0.2))\n",
    "NN.add(Conv1D( 16, 3, activation=\"relu\", kernel_initializer=\"he_uniform\", kernel_regularizer=l2(0.01)))\n",
    "NN.add(BatchNormalization())\n",
    "NN.add(MaxPooling1D( pool_size=2))\n",
    "NN.add(Dropout(0.2))\n",
    "\n",
    "NN.add(Conv1D( 32, 3, activation=\"relu\", kernel_initializer=\"he_uniform\", kernel_regularizer=l2(0.01)))\n",
    "NN.add(BatchNormalization())\n",
    "NN.add(Dropout(0.2))\n",
    "NN.add(Conv1D( 32, 3, activation=\"relu\", kernel_initializer=\"he_uniform\", kernel_regularizer=l2(0.01)))\n",
    "NN.add(BatchNormalization())\n",
    "NN.add(MaxPooling1D( pool_size=2))\n",
    "NN.add(Dropout(0.2))\n",
    "\n",
    "NN.add(Conv1D( 64, 3, activation=\"relu\", kernel_initializer=\"he_uniform\", kernel_regularizer=l2(0.01)))\n",
    "NN.add(BatchNormalization())\n",
    "NN.add(Dropout(0.5))\n",
    "NN.add(Conv1D( 64, 3, activation=\"relu\", kernel_initializer=\"he_uniform\", kernel_regularizer=l2(0.01)))\n",
    "NN.add(BatchNormalization())\n",
    "#NN.add(MaxPooling1D( pool_size=2))\n",
    "#NN.add(Dropout(0.5))\n",
    "#NN.add(Flatten())\n",
    "\n",
    "#NN.add(Dense(64, activation=\"relu\", kernel_initializer=\"he_uniform\", kernel_regularizer=l2(0.1)))\n",
    "#NN.add(BatchNormalization(axis=1))\n",
    "#NN.add(Dropout(0.5))\n",
    "\n",
    "NN.add(LSTM(10, dropout=0.1, recurrent_dropout=0.1))\n",
    "#NN.add(Dropout(0.1))\n",
    "\n",
    "\n",
    "NN.add(Dense(1, activation=\"sigmoid\", kernel_initializer=\"glorot_uniform\", kernel_regularizer=l2(0.005)))\n",
    "\n",
    "NN.compile(loss=\"binary_crossentropy\", optimizer=\"adam\", metrics=[\"accuracy\"])\n",
    "\n",
    "print(NN.summary())"
   ]
  },
  {
   "cell_type": "code",
   "execution_count": 0,
   "metadata": {
    "colab": {},
    "colab_type": "code",
    "id": "4GX6t1xvk80Q"
   },
   "outputs": [],
   "source": [
    "callbacks = [ModelCheckpoint('CNN_model_raw_data_weights.hdf5', monitor='val_acc', save_best_only=True), EarlyStopping(monitor='val_loss', patience=5)]"
   ]
  },
  {
   "cell_type": "code",
   "execution_count": 47,
   "metadata": {
    "colab": {
     "base_uri": "https://localhost:8080/",
     "height": 722
    },
    "colab_type": "code",
    "executionInfo": {
     "elapsed": 1354253,
     "status": "ok",
     "timestamp": 1539538287240,
     "user": {
      "displayName": "Виктор Оверко",
      "photoUrl": "",
      "userId": "04713510988786792129"
     },
     "user_tz": -180
    },
    "id": "pjo6YtmNzqDD",
    "outputId": "f54ba0cf-cfd8-4975-9e85-af370df1c914"
   },
   "outputs": [
    {
     "name": "stdout",
     "output_type": "stream",
     "text": [
      "Train on 15215 samples, validate on 3425 samples\n",
      "Epoch 1/30\n",
      "15215/15215 [==============================] - 75s 5ms/step - loss: 2.3079 - acc: 0.7018 - val_loss: 1.2126 - val_acc: 0.6893\n",
      "Epoch 2/30\n",
      "15215/15215 [==============================] - 71s 5ms/step - loss: 0.8728 - acc: 0.7408 - val_loss: 0.7721 - val_acc: 0.7355\n",
      "Epoch 3/30\n",
      "15215/15215 [==============================] - 71s 5ms/step - loss: 0.6656 - acc: 0.7470 - val_loss: 0.6645 - val_acc: 0.7369\n",
      "Epoch 4/30\n",
      "15215/15215 [==============================] - 71s 5ms/step - loss: 0.6019 - acc: 0.7541 - val_loss: 0.9989 - val_acc: 0.5352\n",
      "Epoch 5/30\n",
      "15215/15215 [==============================] - 71s 5ms/step - loss: 0.5841 - acc: 0.7520 - val_loss: 0.6916 - val_acc: 0.7168\n",
      "Epoch 6/30\n",
      "15215/15215 [==============================] - 71s 5ms/step - loss: 0.5776 - acc: 0.7598 - val_loss: 0.6313 - val_acc: 0.7492\n",
      "Epoch 7/30\n",
      "15215/15215 [==============================] - 70s 5ms/step - loss: 0.5726 - acc: 0.7561 - val_loss: 0.6965 - val_acc: 0.7153\n",
      "Epoch 8/30\n",
      "15215/15215 [==============================] - 71s 5ms/step - loss: 0.5621 - acc: 0.7622 - val_loss: 0.6515 - val_acc: 0.7401\n",
      "Epoch 9/30\n",
      "15215/15215 [==============================] - 71s 5ms/step - loss: 0.5767 - acc: 0.7612 - val_loss: 0.6120 - val_acc: 0.7469\n",
      "Epoch 10/30\n",
      "15215/15215 [==============================] - 71s 5ms/step - loss: 0.5569 - acc: 0.7617 - val_loss: 0.6408 - val_acc: 0.7218\n",
      "Epoch 11/30\n",
      "15215/15215 [==============================] - 70s 5ms/step - loss: 0.5548 - acc: 0.7603 - val_loss: 1.0912 - val_acc: 0.4082\n",
      "Epoch 12/30\n",
      "15215/15215 [==============================] - 70s 5ms/step - loss: 0.5538 - acc: 0.7636 - val_loss: 0.6150 - val_acc: 0.7404\n",
      "Epoch 13/30\n",
      "15215/15215 [==============================] - 70s 5ms/step - loss: 0.5498 - acc: 0.7604 - val_loss: 0.5998 - val_acc: 0.7518\n",
      "Epoch 14/30\n",
      "15215/15215 [==============================] - 71s 5ms/step - loss: 0.5497 - acc: 0.7660 - val_loss: 0.5887 - val_acc: 0.7483\n",
      "Epoch 15/30\n",
      "15215/15215 [==============================] - 71s 5ms/step - loss: 0.5478 - acc: 0.7658 - val_loss: 0.6041 - val_acc: 0.7539\n",
      "Epoch 16/30\n",
      "15215/15215 [==============================] - 70s 5ms/step - loss: 0.5528 - acc: 0.7648 - val_loss: 0.6389 - val_acc: 0.7349\n",
      "Epoch 17/30\n",
      "15215/15215 [==============================] - 71s 5ms/step - loss: 0.5422 - acc: 0.7700 - val_loss: 0.6005 - val_acc: 0.7425\n",
      "Epoch 18/30\n",
      "15215/15215 [==============================] - 72s 5ms/step - loss: 0.5470 - acc: 0.7640 - val_loss: 0.6128 - val_acc: 0.7527\n",
      "Epoch 19/30\n",
      "15215/15215 [==============================] - 70s 5ms/step - loss: 0.5536 - acc: 0.7668 - val_loss: 0.6588 - val_acc: 0.7118\n",
      "CPU times: user 25min 18s, sys: 2min 55s, total: 28min 13s\n",
      "Wall time: 22min 32s\n"
     ]
    },
    {
     "data": {
      "text/plain": [
       "<keras.callbacks.History at 0x7f8e67a10e80>"
      ]
     },
     "execution_count": 47,
     "metadata": {
      "tags": []
     },
     "output_type": "execute_result"
    }
   ],
   "source": [
    "%%time\n",
    "\n",
    "NN.fit(X_train, y_train,\n",
    "       batch_size=32, \n",
    "       epochs=30, \n",
    "       validation_data=(X_valid, y_valid), \n",
    "       callbacks=callbacks,\n",
    "       verbose=1)"
   ]
  },
  {
   "cell_type": "code",
   "execution_count": 48,
   "metadata": {
    "colab": {
     "base_uri": "https://localhost:8080/",
     "height": 50
    },
    "colab_type": "code",
    "executionInfo": {
     "elapsed": 5245,
     "status": "ok",
     "timestamp": 1539539470818,
     "user": {
      "displayName": "Виктор Оверко",
      "photoUrl": "",
      "userId": "04713510988786792129"
     },
     "user_tz": -180
    },
    "id": "oyksgYY55H01",
    "outputId": "c8efc067-1d3a-46ce-fd9a-95786f79d516"
   },
   "outputs": [
    {
     "name": "stdout",
     "output_type": "stream",
     "text": [
      "3665/3665 [==============================] - 4s 1ms/step\n",
      "Test accuracy = 0.7053206002728513\n"
     ]
    }
   ],
   "source": [
    "scores = NN.evaluate(X_test, y_test)\n",
    "print(\"Test accuracy =\", scores[1])"
   ]
  },
  {
   "cell_type": "code",
   "execution_count": 0,
   "metadata": {
    "colab": {},
    "colab_type": "code",
    "id": "g-FGHwxfgtjC"
   },
   "outputs": [],
   "source": [
    "files.download('CNN_model_raw_data_weights.hdf5')"
   ]
  },
  {
   "cell_type": "code",
   "execution_count": 0,
   "metadata": {
    "colab": {},
    "colab_type": "code",
    "id": "518uijixWFc0"
   },
   "outputs": [],
   "source": [
    "NN.load_weights(\"CNN_model_raw_data_weights.hdf5\")"
   ]
  },
  {
   "cell_type": "code",
   "execution_count": 39,
   "metadata": {
    "colab": {
     "base_uri": "https://localhost:8080/",
     "height": 50
    },
    "colab_type": "code",
    "executionInfo": {
     "elapsed": 4356,
     "status": "ok",
     "timestamp": 1539535975376,
     "user": {
      "displayName": "Виктор Оверко",
      "photoUrl": "",
      "userId": "04713510988786792129"
     },
     "user_tz": -180
    },
    "id": "8PmvsOTNWLvd",
    "outputId": "bf5ee486-ed2e-4b3b-8305-9b65c1a596e4"
   },
   "outputs": [
    {
     "name": "stdout",
     "output_type": "stream",
     "text": [
      "3749/3749 [==============================] - 4s 1ms/step\n",
      "Test accuracy = 0.7076553747666045\n"
     ]
    }
   ],
   "source": [
    "scores = NN.evaluate(X_test, y_test)\n",
    "print(\"Test accuracy =\", scores[1])"
   ]
  },
  {
   "cell_type": "code",
   "execution_count": 40,
   "metadata": {
    "colab": {
     "base_uri": "https://localhost:8080/",
     "height": 50
    },
    "colab_type": "code",
    "executionInfo": {
     "elapsed": 5071,
     "status": "ok",
     "timestamp": 1539535980484,
     "user": {
      "displayName": "Виктор Оверко",
      "photoUrl": "",
      "userId": "04713510988786792129"
     },
     "user_tz": -180
    },
    "id": "ASQWAR4hWOXq",
    "outputId": "bf5618e3-a88e-4fec-fb87-ba7b773a5c06"
   },
   "outputs": [
    {
     "name": "stdout",
     "output_type": "stream",
     "text": [
      "3509/3509 [==============================] - 3s 990us/step\n",
      "Valid accuracy = 0.7549159305027388\n"
     ]
    }
   ],
   "source": [
    "scores = NN.evaluate(X_valid, y_valid)\n",
    "print(\"Valid accuracy =\", scores[1])"
   ]
  },
  {
   "cell_type": "code",
   "execution_count": 0,
   "metadata": {
    "colab": {},
    "colab_type": "code",
    "id": "ZEG-smEOq5Zr"
   },
   "outputs": [],
   "source": [
    "saved_model = NN.to_json()\n",
    "with open(\"CNN_model_raw_data.json\", \"w\") as json_file:\n",
    "    json_file.write(saved_model)\n",
    "    \n",
    "files.download('CNN_model_raw_data.json')"
   ]
  },
  {
   "cell_type": "markdown",
   "metadata": {
    "colab_type": "text",
    "id": "5D5qO2J8APT2"
   },
   "source": [
    "std 60, 12 windows: max test acc = 0.7222, 9 min, 25 epoch, EarlyStopping = 10\n",
    "\n",
    "pca 30, 16 windows: max test acc = 0.7256, 4 min, 15 epoch, EarlyStopping = 5\n"
   ]
  },
  {
   "cell_type": "code",
   "execution_count": 0,
   "metadata": {
    "colab": {},
    "colab_type": "code",
    "id": "8VO6Im_VAVLZ"
   },
   "outputs": [],
   "source": []
  }
 ],
 "metadata": {
  "accelerator": "GPU",
  "colab": {
   "collapsed_sections": [],
   "name": "CNN+RNN_raw_data.ipynb",
   "provenance": [],
   "version": "0.3.2"
  },
  "kernelspec": {
   "display_name": "Python 3",
   "language": "python",
   "name": "python3"
  },
  "language_info": {
   "codemirror_mode": {
    "name": "ipython",
    "version": 3
   },
   "file_extension": ".py",
   "mimetype": "text/x-python",
   "name": "python",
   "nbconvert_exporter": "python",
   "pygments_lexer": "ipython3",
   "version": "3.6.8"
  }
 },
 "nbformat": 4,
 "nbformat_minor": 1
}
