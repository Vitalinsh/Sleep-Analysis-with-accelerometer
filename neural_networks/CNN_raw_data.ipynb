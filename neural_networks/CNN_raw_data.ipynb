{
 "cells": [
  {
   "cell_type": "code",
   "execution_count": 1,
   "metadata": {
    "colab": {
     "base_uri": "https://localhost:8080/",
     "height": 121
    },
    "colab_type": "code",
    "executionInfo": {
     "elapsed": 107521,
     "status": "ok",
     "timestamp": 1539617783349,
     "user": {
      "displayName": "Виктор Оверко",
      "photoUrl": "",
      "userId": "04713510988786792129"
     },
     "user_tz": -180
    },
    "id": "ZtLCrbxiIgJg",
    "outputId": "22a89fcc-6593-4d39-ecb2-afd3280db83c"
   },
   "outputs": [
    {
     "name": "stdout",
     "output_type": "stream",
     "text": [
      "Go to this URL in a browser: https://accounts.google.com/o/oauth2/auth?client_id=947318989803-6bn6qk8qdgf4n4g3pfee6491hc0brc4i.apps.googleusercontent.com&redirect_uri=urn%3Aietf%3Awg%3Aoauth%3A2.0%3Aoob&scope=email%20https%3A%2F%2Fwww.googleapis.com%2Fauth%2Fdocs.test%20https%3A%2F%2Fwww.googleapis.com%2Fauth%2Fdrive%20https%3A%2F%2Fwww.googleapis.com%2Fauth%2Fdrive.photos.readonly%20https%3A%2F%2Fwww.googleapis.com%2Fauth%2Fpeopleapi.readonly&response_type=code\n",
      "\n",
      "Enter your authorization code:\n",
      "··········\n",
      "Mounted at /content/gdrive\n"
     ]
    }
   ],
   "source": [
    "from google.colab import drive\n",
    "drive.mount('/content/gdrive')"
   ]
  },
  {
   "cell_type": "code",
   "execution_count": 0,
   "metadata": {
    "colab": {},
    "colab_type": "code",
    "id": "iKCqU207IJrF"
   },
   "outputs": [],
   "source": [
    "import os\n",
    "import numpy as np\n",
    "\n",
    "from sklearn import metrics\n",
    "from sklearn.linear_model import LogisticRegression\n",
    "from sklearn.model_selection import train_test_split\n",
    "from sklearn.decomposition import PCA\n",
    "\n",
    "from google.colab import files\n"
   ]
  },
  {
   "cell_type": "code",
   "execution_count": 0,
   "metadata": {
    "colab": {},
    "colab_type": "code",
    "id": "JRGXpB-8IJrQ"
   },
   "outputs": [],
   "source": [
    "data_path = os.path.join(\"/content/gdrive/My Drive/\", \"DRU-MAWI-project/ICHI14_dataset/data\")\n",
    "patient_list = ['002','003','005','007','08a','08b','09a','09b', '10a','011','013','014','15a','15b','016',\n",
    "            '017','018','019','020','021','022','023','025','026','027','028','029','030','031','032',\n",
    "            '033','034','035','036','037','038','040','042','043','044','045','047','048','049','051']"
   ]
  },
  {
   "cell_type": "code",
   "execution_count": 0,
   "metadata": {
    "colab": {},
    "colab_type": "code",
    "id": "rAkhERdxIJrT"
   },
   "outputs": [],
   "source": [
    "train_patient_list, test_patient_list = train_test_split(patient_list, random_state=100, test_size=0.3)\n",
    "test_patient_list, valid_patient_list = train_test_split(test_patient_list, random_state=100, test_size=0.5)"
   ]
  },
  {
   "cell_type": "code",
   "execution_count": 5,
   "metadata": {
    "colab": {
     "base_uri": "https://localhost:8080/",
     "height": 84
    },
    "colab_type": "code",
    "executionInfo": {
     "elapsed": 1362,
     "status": "ok",
     "timestamp": 1539617788011,
     "user": {
      "displayName": "Виктор Оверко",
      "photoUrl": "",
      "userId": "04713510988786792129"
     },
     "user_tz": -180
    },
    "id": "YHxtdjtQlXiO",
    "outputId": "c2b07401-bbef-4ef7-8c09-150ee360da72"
   },
   "outputs": [
    {
     "name": "stdout",
     "output_type": "stream",
     "text": [
      "45\n",
      "31\n",
      "7\n",
      "7\n"
     ]
    }
   ],
   "source": [
    "print(len(patient_list))\n",
    "print(len(train_patient_list))\n",
    "print(len(valid_patient_list))\n",
    "print(len(test_patient_list))"
   ]
  },
  {
   "cell_type": "code",
   "execution_count": 6,
   "metadata": {
    "colab": {
     "base_uri": "https://localhost:8080/",
     "height": 87
    },
    "colab_type": "code",
    "executionInfo": {
     "elapsed": 1300,
     "status": "ok",
     "timestamp": 1539617789496,
     "user": {
      "displayName": "Виктор Оверко",
      "photoUrl": "",
      "userId": "04713510988786792129"
     },
     "user_tz": -180
    },
    "id": "oVyQga2AmI7R",
    "outputId": "d506aad9-bb9c-41a0-923c-cef0864c1a95"
   },
   "outputs": [
    {
     "name": "stdout",
     "output_type": "stream",
     "text": [
      "['022', '09b', '048', '020', '023', '15b', '003', '042', '15a', '038', '025', '011', '018', '029', '031', '014', '08a', '047', '049', '016', '040', '005', '037', '033', '013', '017', '026', '044', '007', '027', '10a']\n",
      "['035', '034', '051', '019', '045', '043', '08b']\n",
      "['021', '09a', '002', '028', '032', '036', '030']\n"
     ]
    }
   ],
   "source": [
    "print(train_patient_list)\n",
    "print(valid_patient_list)\n",
    "print(test_patient_list)"
   ]
  },
  {
   "cell_type": "code",
   "execution_count": 0,
   "metadata": {
    "colab": {},
    "colab_type": "code",
    "id": "wj-8RYiRL2We"
   },
   "outputs": [],
   "source": [
    "def change_labels(sample):\n",
    "    \"\"\"\n",
    "    Returns:\n",
    "    sample - contains only label 1(awake) and 0(sleep) for polisomnography\n",
    "    \"\"\"\n",
    "    \n",
    "    sample.gt[sample.gt==0] = 8\n",
    "    sample.gt[np.logical_or.reduce((sample.gt==1, sample.gt==2, sample.gt==3, sample.gt==5))] = 0\n",
    "    sample.gt[np.logical_or.reduce((sample.gt==6, sample.gt==7, sample.gt==8))] = 1\n",
    "    \n",
    "    return sample   \n",
    "\n",
    "#-------------------------------------------------------------------------\n",
    "\n",
    "def decoder(sample):\n",
    "    '''\n",
    "    Returns: \n",
    "    decoded_sample - contains accelerometer and ps data for each sensor record, ndarray of shape (n_records, 4)\n",
    "    \n",
    "    '''\n",
    "\n",
    "    sample = np.repeat(sample, sample.d, axis=0)\n",
    "    n_records = sample.shape[0]\n",
    "    decoded_sample = np.zeros((n_records, 4))\n",
    "    \n",
    "    decoded_sample[:, 0] = sample.x\n",
    "    decoded_sample[:, 1] = sample.y\n",
    "    decoded_sample[:, 2] = sample.z\n",
    "    decoded_sample[:, 3] = sample.gt\n",
    "    \n",
    "    return decoded_sample\n",
    "\n",
    "#-------------------------------------------------------------------------\n",
    "\n",
    "def divide_by_windows(decoded_sample, window_len=60):\n",
    "    \"\"\"\n",
    "    Parameters:\n",
    "    wondow_len - length of each window in seconds, int\n",
    "    Returns:\n",
    "    X - accelerometer data, ndarray of shape (n_windows, window_len, 3)\n",
    "    y - polisomnography data, ndarray of shape (n_windows, )\n",
    "    \"\"\"\n",
    "    \n",
    "    window_len *= 100\n",
    "    n_windows = decoded_sample.shape[0] // window_len\n",
    "    \n",
    "    X = np.zeros((n_windows, window_len, 3))\n",
    "    y = np.zeros(n_windows)\n",
    "    \n",
    "    for i in range(n_windows):\n",
    "        X[i] = decoded_sample[window_len * i: window_len * i + window_len, 0: 3]\n",
    "        \n",
    "        ones = np.count_nonzero(decoded_sample[window_len*i: window_len*i+window_len, 3])\n",
    "        if ones >= (window_len / 2):\n",
    "            y[i] = 1\n",
    "        else:\n",
    "            y[i] = 0\n",
    "                \n",
    "    return X, y\n",
    "\n",
    "#-------------------------------------------------------------------------\n",
    "\n",
    "def get_one_patient_data(data_path, patient, window_len=60):\n",
    "    \n",
    "    \"\"\"\n",
    "    Returns:\n",
    "    X, y - for one patient\n",
    "    \"\"\"\n",
    "    \n",
    "    sample = np.load(\"%s/p%s.npy\"%(data_path, patient)).view(np.recarray)\n",
    "    sample = change_labels(sample)\n",
    "    sample = decoder(sample)\n",
    "    X, y = divide_by_windows(sample, window_len)\n",
    "    \n",
    "    return X, y\n",
    "\n",
    "#-------------------------------------------------------------------------\n",
    "\n",
    "def get_data_for_model(data_path, patient_list, window_len=60):\n",
    "    \n",
    "    \"\"\"\n",
    "    Returns:\n",
    "    X, y - for all patient list, ndarray of shape (n_records, n_features, n_channels=3)\n",
    "    \"\"\"\n",
    "    \n",
    "    X_all_data = []\n",
    "    y_all_data = []\n",
    "    for patient in patient_list:\n",
    "        X, y = get_one_patient_data(data_path, patient, window_len)\n",
    "        X_all_data.append(X)\n",
    "        y_all_data.append(y)\n",
    "        \n",
    "    X_all_data = np.concatenate(X_all_data, axis=0)\n",
    "    y_all_data = np.concatenate(y_all_data, axis=0)\n",
    "    \n",
    "    return X_all_data, y_all_data\n",
    "  \n",
    "#-------------------------------------------------------------------------\n",
    "\n",
    "def get_dawnsampled_data(data_path, patient_list, window_len=60, dawnsample=\"pca\", n_components=10, n_windows=10):\n",
    "    \n",
    "    \"\"\"\n",
    "    Parameters:\n",
    "    dawnsample - \"pca\", \"mean\", \"max\", \"mode\", None - determine the type of data reducing\n",
    "    Returns:\n",
    "    X, y - reduced data for all patient list and combine several windows data, ndarray of shape (n_records, n_components * n_windows, n_channels=3)\n",
    "    \"\"\"\n",
    "    \n",
    "    X_all_data = []\n",
    "    y_all_data = []\n",
    "    for patient in patient_list:\n",
    "        X, y = get_one_patient_data(data_path, patient, window_len)\n",
    "        \n",
    "        if dawnsample.lower() == \"pca\":\n",
    "          X = reduce_data_pca(X, n_components=n_components)\n",
    "          \n",
    "        elif dawnsample.lower() == \"mean\":\n",
    "          X = reduce_data_mean(X, n_components=n_components)\n",
    "          \n",
    "        elif dawnsample.lower() == \"max\":\n",
    "          X = reduce_data_max(X, n_components=n_components)\n",
    "          \n",
    "        elif dawnsample.lower() == \"mode\":\n",
    "          X = reduce_data_mode(X, n_components=n_components)\n",
    "          \n",
    "        elif dawnsample.lower() == \"simple\":\n",
    "          X = reduce_data_simple(X, n_components=n_components)\n",
    "        \n",
    "        \n",
    "        X_new = np.zeros((X.shape[0] - n_windows, X.shape[1] * (n_windows + 1), X.shape[2]))\n",
    "        \n",
    "        for i in range(0, X.shape[0] - n_windows):\n",
    "            X_buff = X[i]\n",
    "            for j in range(1, n_windows + 1):\n",
    "                X_buff = np.concatenate([X_buff, X[i+j]], axis=0)\n",
    "            X_new[i] = X_buff                            \n",
    "    \n",
    "    \n",
    "        if n_windows != 0:\n",
    "          y = y[(n_windows//2): -(n_windows//2)]\n",
    "      \n",
    "        \n",
    "        X_all_data.append(X_new)\n",
    "        y_all_data.append(y)\n",
    "\n",
    "        #np.save((\"X_p%s.npy\"%(patient)), X_new)\n",
    "        #np.save((\"y_p%s.npy\"%(patient)), y)\n",
    "        \n",
    "    X_all_data = np.concatenate(X_all_data, axis=0)\n",
    "    y_all_data = np.concatenate(y_all_data, axis=0)\n",
    "    \n",
    "    \n",
    "    \n",
    "    return X_all_data, y_all_data\n",
    "  \n",
    "def reduce_data_pca(X, n_components=300):\n",
    "    \"\"\"\n",
    "    Parameters:\n",
    "    X - ndarray of shape (n_samples, n_features)\n",
    "    \n",
    "    Returns:\n",
    "    X, y - reduced data, ndarray of shape (n_records, n_features, n_channels=3)\n",
    "    \"\"\"\n",
    "    pca1 = PCA(n_components)\n",
    "    pca2 = PCA(n_components)\n",
    "    pca3 = PCA(n_components)\n",
    "    \n",
    "    pca1.fit(X[:, :, 0])\n",
    "    pca2.fit(X[:, :, 1])\n",
    "    pca3.fit(X[:, :, 2])\n",
    "    \n",
    "    X1 = pca1.transform(X[:, :, 0])\n",
    "    X2 = pca2.transform(X[:, :, 1])\n",
    "    X3 = pca3.transform(X[:, :, 2])\n",
    "    \n",
    "    X_reduced = np.concatenate([X1, X2, X3], axis=1).reshape(X.shape[0], n_components, 3)\n",
    "    \n",
    "    return X_reduced\n",
    "  \n",
    "  \n",
    "def reduce_data_max(X, n_components=600):\n",
    "    \"\"\"\n",
    "    Parameters:\n",
    "    X - ndarray of shape (n_samples, n_features)\n",
    "    \n",
    "    Returns:\n",
    "    X, y - reduced data, ndarray of shape (n_records, n_components, n_channels=3)\n",
    "    \"\"\"\n",
    "   \n",
    "    \n",
    "    X_reduced = np.zeros((X.shape[0], n_components, 3))\n",
    "    window_len = X.shape[1] // n_components\n",
    "    \n",
    "    \n",
    "    for i in range(n_components):\n",
    "      \n",
    "      X_reduced[:, i, :] = np.amax(X[:, i * window_len: (i + 1) * window_len, :], axis=1)\n",
    "      \n",
    "    \n",
    "    X_reduced = X_reduced.reshape(X.shape[0], n_components, 3)\n",
    "    \n",
    "    return X_reduced\n",
    "  \n",
    "\n",
    "def reduce_data_mean(X, n_components=600):\n",
    "    \"\"\"\n",
    "    Parameters:\n",
    "    X - ndarray of shape (n_samples, n_features)\n",
    "    \n",
    "    Returns:\n",
    "    X, y - reduced data, ndarray of shape (n_records, n_components, n_channels=3)\n",
    "    \"\"\"\n",
    "   \n",
    "    \n",
    "    X_reduced = np.zeros((X.shape[0], n_components, 3))\n",
    "    window_len = X.shape[1] // n_components\n",
    "    \n",
    "    \n",
    "    for i in range(n_components):\n",
    "      \n",
    "      X_reduced[:, i, :] = np.mean(X[:, i * window_len: (i + 1) * window_len, :], axis=1)\n",
    "         \n",
    "    X_reduced = X_reduced.reshape(X.shape[0], n_components, 3)\n",
    "    \n",
    "    return X_reduced\n",
    "  \n",
    "    \n",
    "def reduce_data_mode(X, n_components=600):\n",
    "    \"\"\"\n",
    "    Parameters:\n",
    "    X - ndarray of shape (n_samples, n_features)\n",
    "    \n",
    "    Returns:\n",
    "    X, y - reduced data, ndarray of shape (n_records, n_components, n_channels=3)\n",
    "    \"\"\"\n",
    "    \n",
    "    from scipy.stats import mode\n",
    "   \n",
    "    X_reduced = np.zeros((X.shape[0], n_components, 3))\n",
    "    window_len = X.shape[1] // n_components\n",
    "       \n",
    "    for i in range(n_components):\n",
    "      \n",
    "      X_reduced[:, i, :] = mode(X[:, i * window_len: (i + 1) * window_len, :], axis=1)\n",
    "         \n",
    "    X_reduced = X_reduced.reshape(X.shape[0], n_components, 3)\n",
    "    \n",
    "    return X_reduced\n",
    "  \n",
    "def reduce_data_simple(X, n_components=600):\n",
    "    \"\"\"\n",
    "    Parameters:\n",
    "    X - ndarray of shape (n_samples, n_features)\n",
    "    \n",
    "    Returns:\n",
    "    X, y - reduced data, ndarray of shape (n_records, n_components, n_channels=3)\n",
    "    \"\"\"\n",
    "   \n",
    "    X_reduced = np.zeros((X.shape[0], n_components, 3))\n",
    "    window_len = X.shape[1] // n_components\n",
    "       \n",
    "    for i in range(n_components):\n",
    "      \n",
    "      X_reduced[:, i, :] = X[:, i * window_len, :]\n",
    "         \n",
    "    X_reduced = X_reduced.reshape(X.shape[0], n_components, 3)\n",
    "    \n",
    "    return X_reduced"
   ]
  },
  {
   "cell_type": "code",
   "execution_count": 0,
   "metadata": {
    "colab": {},
    "colab_type": "code",
    "id": "VT7dhZvRIJrX"
   },
   "outputs": [],
   "source": [
    "X_train, y_train = get_data_for_model(data_path, train_patient_list, window_len=60)\n",
    "X_valid, y_valid = get_data_for_model(data_path, valid_patient_list, window_len=60)\n",
    "X_test, y_test = get_data_for_model(data_path, test_patient_list, window_len=60)"
   ]
  },
  {
   "cell_type": "code",
   "execution_count": 9,
   "metadata": {
    "colab": {
     "base_uri": "https://localhost:8080/",
     "height": 67
    },
    "colab_type": "code",
    "executionInfo": {
     "elapsed": 844,
     "status": "ok",
     "timestamp": 1539617845057,
     "user": {
      "displayName": "Виктор Оверко",
      "photoUrl": "",
      "userId": "04713510988786792129"
     },
     "user_tz": -180
    },
    "id": "88XbUDyOIJrc",
    "outputId": "6656c6a8-dbc1-434f-8bf5-b7b247679903"
   },
   "outputs": [
    {
     "name": "stdout",
     "output_type": "stream",
     "text": [
      "(15835, 6000, 3)\n",
      "(3565, 6000, 3)\n",
      "(3805, 6000, 3)\n"
     ]
    }
   ],
   "source": [
    "print(X_train.shape)\n",
    "print(X_valid.shape)\n",
    "print(X_test.shape)"
   ]
  },
  {
   "cell_type": "code",
   "execution_count": 10,
   "metadata": {
    "colab": {
     "base_uri": "https://localhost:8080/",
     "height": 50
    },
    "colab_type": "code",
    "executionInfo": {
     "elapsed": 108897,
     "status": "ok",
     "timestamp": 1539617954190,
     "user": {
      "displayName": "Виктор Оверко",
      "photoUrl": "",
      "userId": "04713510988786792129"
     },
     "user_tz": -180
    },
    "id": "4oE0-ifHUdJJ",
    "outputId": "24a4fb83-042c-4955-fb49-85277605a2b1"
   },
   "outputs": [
    {
     "name": "stdout",
     "output_type": "stream",
     "text": [
      "CPU times: user 2min 10s, sys: 1min 13s, total: 3min 23s\n",
      "Wall time: 1min 47s\n"
     ]
    }
   ],
   "source": [
    "%%time\n",
    "X_train, y_train = get_dawnsampled_data(data_path, train_patient_list, window_len=60, dawnsample=\"pca\", n_components=60, n_windows=12)\n",
    "X_valid, y_valid = get_dawnsampled_data(data_path, valid_patient_list, window_len=60, dawnsample=\"pca\", n_components=60, n_windows=12)\n",
    "X_test, y_test = get_dawnsampled_data(data_path, test_patient_list, window_len=60, dawnsample=\"pca\", n_components=60, n_windows=12)"
   ]
  },
  {
   "cell_type": "code",
   "execution_count": 11,
   "metadata": {
    "colab": {
     "base_uri": "https://localhost:8080/",
     "height": 84
    },
    "colab_type": "code",
    "executionInfo": {
     "elapsed": 908,
     "status": "ok",
     "timestamp": 1539617955150,
     "user": {
      "displayName": "Виктор Оверко",
      "photoUrl": "",
      "userId": "04713510988786792129"
     },
     "user_tz": -180
    },
    "id": "54b8IOL2IJrl",
    "outputId": "4958b1fe-8c9c-4617-df5f-6b5d16309866"
   },
   "outputs": [
    {
     "name": "stdout",
     "output_type": "stream",
     "text": [
      "(15463, 780, 3)\n",
      "(15463,)\n",
      "(3481, 780, 3)\n",
      "(3721, 780, 3)\n"
     ]
    }
   ],
   "source": [
    "print(X_train.shape)\n",
    "print(y_train.shape)\n",
    "print(X_valid.shape)\n",
    "print(X_test.shape)"
   ]
  },
  {
   "cell_type": "code",
   "execution_count": 12,
   "metadata": {
    "colab": {
     "base_uri": "https://localhost:8080/",
     "height": 34
    },
    "colab_type": "code",
    "executionInfo": {
     "elapsed": 1989,
     "status": "ok",
     "timestamp": 1539617957396,
     "user": {
      "displayName": "Виктор Оверко",
      "photoUrl": "",
      "userId": "04713510988786792129"
     },
     "user_tz": -180
    },
    "id": "whTzvWqWNl7O",
    "outputId": "da1dd160-d33b-4c67-dbff-aa6d0b3d1621"
   },
   "outputs": [
    {
     "name": "stderr",
     "output_type": "stream",
     "text": [
      "Using TensorFlow backend.\n"
     ]
    }
   ],
   "source": [
    "from keras.layers import Dense, Flatten, Dropout\n",
    "from keras.layers import Conv1D, MaxPooling1D\n",
    "from keras.models import Sequential\n",
    "from keras.optimizers import SGD, Adam\n",
    "from keras.layers.normalization import BatchNormalization\n",
    "from keras.regularizers import l2\n",
    "\n",
    "from keras.callbacks import ModelCheckpoint, EarlyStopping"
   ]
  },
  {
   "cell_type": "code",
   "execution_count": 17,
   "metadata": {
    "colab": {
     "base_uri": "https://localhost:8080/",
     "height": 1126
    },
    "colab_type": "code",
    "executionInfo": {
     "elapsed": 2592,
     "status": "ok",
     "timestamp": 1539617987006,
     "user": {
      "displayName": "Виктор Оверко",
      "photoUrl": "",
      "userId": "04713510988786792129"
     },
     "user_tz": -180
    },
    "id": "s-ze4t-Sk9BE",
    "outputId": "aa5b0a8b-1e95-41d8-9136-f7638b3cd1b2"
   },
   "outputs": [
    {
     "name": "stdout",
     "output_type": "stream",
     "text": [
      "_________________________________________________________________\n",
      "Layer (type)                 Output Shape              Param #   \n",
      "=================================================================\n",
      "conv1d_7 (Conv1D)            (None, 771, 32)           992       \n",
      "_________________________________________________________________\n",
      "batch_normalization_9 (Batch (None, 771, 32)           128       \n",
      "_________________________________________________________________\n",
      "dropout_9 (Dropout)          (None, 771, 32)           0         \n",
      "_________________________________________________________________\n",
      "conv1d_8 (Conv1D)            (None, 762, 32)           10272     \n",
      "_________________________________________________________________\n",
      "batch_normalization_10 (Batc (None, 762, 32)           128       \n",
      "_________________________________________________________________\n",
      "max_pooling1d_4 (MaxPooling1 (None, 190, 32)           0         \n",
      "_________________________________________________________________\n",
      "dropout_10 (Dropout)         (None, 190, 32)           0         \n",
      "_________________________________________________________________\n",
      "conv1d_9 (Conv1D)            (None, 181, 64)           20544     \n",
      "_________________________________________________________________\n",
      "batch_normalization_11 (Batc (None, 181, 64)           256       \n",
      "_________________________________________________________________\n",
      "dropout_11 (Dropout)         (None, 181, 64)           0         \n",
      "_________________________________________________________________\n",
      "conv1d_10 (Conv1D)           (None, 172, 64)           41024     \n",
      "_________________________________________________________________\n",
      "batch_normalization_12 (Batc (None, 172, 64)           256       \n",
      "_________________________________________________________________\n",
      "max_pooling1d_5 (MaxPooling1 (None, 43, 64)            0         \n",
      "_________________________________________________________________\n",
      "dropout_12 (Dropout)         (None, 43, 64)            0         \n",
      "_________________________________________________________________\n",
      "conv1d_11 (Conv1D)           (None, 34, 128)           82048     \n",
      "_________________________________________________________________\n",
      "batch_normalization_13 (Batc (None, 34, 128)           512       \n",
      "_________________________________________________________________\n",
      "dropout_13 (Dropout)         (None, 34, 128)           0         \n",
      "_________________________________________________________________\n",
      "conv1d_12 (Conv1D)           (None, 25, 128)           163968    \n",
      "_________________________________________________________________\n",
      "batch_normalization_14 (Batc (None, 25, 128)           512       \n",
      "_________________________________________________________________\n",
      "max_pooling1d_6 (MaxPooling1 (None, 6, 128)            0         \n",
      "_________________________________________________________________\n",
      "dropout_14 (Dropout)         (None, 6, 128)            0         \n",
      "_________________________________________________________________\n",
      "flatten_2 (Flatten)          (None, 768)               0         \n",
      "_________________________________________________________________\n",
      "dense_4 (Dense)              (None, 16)                12304     \n",
      "_________________________________________________________________\n",
      "batch_normalization_15 (Batc (None, 16)                64        \n",
      "_________________________________________________________________\n",
      "dropout_15 (Dropout)         (None, 16)                0         \n",
      "_________________________________________________________________\n",
      "dense_5 (Dense)              (None, 16)                272       \n",
      "_________________________________________________________________\n",
      "batch_normalization_16 (Batc (None, 16)                64        \n",
      "_________________________________________________________________\n",
      "dropout_16 (Dropout)         (None, 16)                0         \n",
      "_________________________________________________________________\n",
      "dense_6 (Dense)              (None, 1)                 17        \n",
      "=================================================================\n",
      "Total params: 333,361\n",
      "Trainable params: 332,401\n",
      "Non-trainable params: 960\n",
      "_________________________________________________________________\n",
      "None\n"
     ]
    }
   ],
   "source": [
    "NN = Sequential()\n",
    "\n",
    "NN.add(Conv1D( 32, 10, input_shape=(780, 3), activation=\"relu\", kernel_initializer=\"he_uniform\", kernel_regularizer=l2(0.1)))\n",
    "NN.add(BatchNormalization())\n",
    "NN.add(Dropout(0.5))\n",
    "NN.add(Conv1D( 32, 10, activation=\"relu\", kernel_initializer=\"he_uniform\", kernel_regularizer=l2(0.1)))\n",
    "NN.add(BatchNormalization())\n",
    "NN.add(MaxPooling1D( pool_size=4))\n",
    "NN.add(Dropout(0.5))\n",
    "\n",
    "NN.add(Conv1D( 64, 10, activation=\"relu\", kernel_initializer=\"he_uniform\", kernel_regularizer=l2(0.1)))\n",
    "NN.add(BatchNormalization())\n",
    "NN.add(Dropout(0.5))\n",
    "NN.add(Conv1D( 64, 10, activation=\"relu\", kernel_initializer=\"he_uniform\", kernel_regularizer=l2(0.1)))\n",
    "NN.add(BatchNormalization())\n",
    "NN.add(MaxPooling1D( pool_size=4))\n",
    "NN.add(Dropout(0.5))\n",
    "\n",
    "NN.add(Conv1D( 128, 10, activation=\"relu\", kernel_initializer=\"he_uniform\", kernel_regularizer=l2(0.1)))\n",
    "NN.add(BatchNormalization())\n",
    "NN.add(Dropout(0.5))\n",
    "NN.add(Conv1D( 128, 10, activation=\"relu\", kernel_initializer=\"he_uniform\", kernel_regularizer=l2(0.1)))\n",
    "NN.add(BatchNormalization())\n",
    "NN.add(MaxPooling1D( pool_size=4))\n",
    "NN.add(Dropout(0.5))\n",
    "NN.add(Flatten())\n",
    "\n",
    "NN.add(Dense(16, activation=\"relu\", kernel_initializer=\"he_uniform\", kernel_regularizer=l2(0.1)))\n",
    "NN.add(BatchNormalization())\n",
    "NN.add(Dropout(0.5))\n",
    "\n",
    "NN.add(Dense(16, activation=\"relu\", kernel_initializer=\"he_uniform\", kernel_regularizer=l2(0.1)))\n",
    "NN.add(BatchNormalization())\n",
    "NN.add(Dropout(0.5))\n",
    "NN.add(Dense(1, activation=\"sigmoid\", kernel_initializer=\"glorot_uniform\", kernel_regularizer=l2(0.1)))\n",
    "\n",
    "NN.compile(loss=\"binary_crossentropy\", optimizer=\"adam\", metrics=[\"accuracy\"])\n",
    "\n",
    "print(NN.summary())"
   ]
  },
  {
   "cell_type": "code",
   "execution_count": 0,
   "metadata": {
    "colab": {},
    "colab_type": "code",
    "id": "4GX6t1xvk80Q"
   },
   "outputs": [],
   "source": [
    "callbacks = [ModelCheckpoint('CNN_model_raw_data_weights.hdf5', monitor='val_acc', save_best_only=True), EarlyStopping(monitor='val_loss', patience=5)]"
   ]
  },
  {
   "cell_type": "code",
   "execution_count": 26,
   "metadata": {
    "colab": {
     "base_uri": "https://localhost:8080/",
     "height": 286
    },
    "colab_type": "code",
    "executionInfo": {
     "elapsed": 113827,
     "status": "ok",
     "timestamp": 1539618472158,
     "user": {
      "displayName": "Виктор Оверко",
      "photoUrl": "",
      "userId": "04713510988786792129"
     },
     "user_tz": -180
    },
    "id": "pjo6YtmNzqDD",
    "outputId": "dbb97863-bac2-4c5d-b76c-820afeb6e62b"
   },
   "outputs": [
    {
     "name": "stdout",
     "output_type": "stream",
     "text": [
      "Train on 15463 samples, validate on 3481 samples\n",
      "Epoch 1/30\n",
      "15463/15463 [==============================] - 19s 1ms/step - loss: 0.7917 - acc: 0.7259 - val_loss: 0.7647 - val_acc: 0.7449\n",
      "Epoch 2/30\n",
      "15463/15463 [==============================] - 19s 1ms/step - loss: 0.7950 - acc: 0.7239 - val_loss: 0.8417 - val_acc: 0.6880\n",
      "Epoch 3/30\n",
      "15463/15463 [==============================] - 19s 1ms/step - loss: 0.8385 - acc: 0.7222 - val_loss: 0.9217 - val_acc: 0.6475\n",
      "Epoch 4/30\n",
      "15463/15463 [==============================] - 19s 1ms/step - loss: 0.8180 - acc: 0.7191 - val_loss: 0.7843 - val_acc: 0.6808\n",
      "Epoch 5/30\n",
      "15463/15463 [==============================] - 18s 1ms/step - loss: 0.8081 - acc: 0.7222 - val_loss: 0.8054 - val_acc: 0.7193\n",
      "Epoch 6/30\n",
      "15463/15463 [==============================] - 19s 1ms/step - loss: 0.8150 - acc: 0.7252 - val_loss: 0.8574 - val_acc: 0.7366\n",
      "CPU times: user 1min 24s, sys: 23.4 s, total: 1min 47s\n",
      "Wall time: 1min 52s\n"
     ]
    },
    {
     "data": {
      "text/plain": [
       "<keras.callbacks.History at 0x7f7ed10c4e80>"
      ]
     },
     "execution_count": 26,
     "metadata": {
      "tags": []
     },
     "output_type": "execute_result"
    }
   ],
   "source": [
    "%%time\n",
    "\n",
    "NN.fit(X_train, y_train,\n",
    "       batch_size=64, \n",
    "       epochs=30, \n",
    "       validation_data=(X_valid, y_valid), \n",
    "       callbacks=callbacks,\n",
    "       verbose=1)"
   ]
  },
  {
   "cell_type": "code",
   "execution_count": 20,
   "metadata": {
    "colab": {
     "base_uri": "https://localhost:8080/",
     "height": 50
    },
    "colab_type": "code",
    "executionInfo": {
     "elapsed": 3520,
     "status": "ok",
     "timestamp": 1539618148585,
     "user": {
      "displayName": "Виктор Оверко",
      "photoUrl": "",
      "userId": "04713510988786792129"
     },
     "user_tz": -180
    },
    "id": "oyksgYY55H01",
    "outputId": "b50c68a4-3526-49cc-bebc-2d27e6a0b937"
   },
   "outputs": [
    {
     "name": "stdout",
     "output_type": "stream",
     "text": [
      "3721/3721 [==============================] - 2s 632us/step\n",
      "Test accuracy = 0.7245364149422199\n"
     ]
    }
   ],
   "source": [
    "scores = NN.evaluate(X_test, y_test)\n",
    "print(\"Test accuracy =\", scores[1])"
   ]
  },
  {
   "cell_type": "code",
   "execution_count": 0,
   "metadata": {
    "colab": {},
    "colab_type": "code",
    "id": "ikgszrntYSaS"
   },
   "outputs": [],
   "source": [
    "NN.save_weights(\"CNN_12w_pca60_raw_data_weights.hdf5\")"
   ]
  },
  {
   "cell_type": "code",
   "execution_count": 0,
   "metadata": {
    "colab": {},
    "colab_type": "code",
    "id": "g-FGHwxfgtjC"
   },
   "outputs": [],
   "source": [
    "files.download('CNN_model_raw_data_weights.hdf5')"
   ]
  },
  {
   "cell_type": "code",
   "execution_count": 0,
   "metadata": {
    "colab": {},
    "colab_type": "code",
    "id": "518uijixWFc0"
   },
   "outputs": [],
   "source": [
    "# Load best model\n",
    "NN.load_weights(\"CNN_model_raw_data_weights.hdf5\")"
   ]
  },
  {
   "cell_type": "code",
   "execution_count": 23,
   "metadata": {
    "colab": {
     "base_uri": "https://localhost:8080/",
     "height": 50
    },
    "colab_type": "code",
    "executionInfo": {
     "elapsed": 2034,
     "status": "ok",
     "timestamp": 1539618156144,
     "user": {
      "displayName": "Виктор Оверко",
      "photoUrl": "",
      "userId": "04713510988786792129"
     },
     "user_tz": -180
    },
    "id": "8PmvsOTNWLvd",
    "outputId": "2e712cb9-837b-4e2f-bdc4-80c03efb8cb4"
   },
   "outputs": [
    {
     "name": "stdout",
     "output_type": "stream",
     "text": [
      "3721/3721 [==============================] - 1s 342us/step\n",
      "Test accuracy = 0.7245364149422199\n"
     ]
    }
   ],
   "source": [
    "scores = NN.evaluate(X_test, y_test)\n",
    "print(\"Test accuracy =\", scores[1])"
   ]
  },
  {
   "cell_type": "code",
   "execution_count": 24,
   "metadata": {
    "colab": {
     "base_uri": "https://localhost:8080/",
     "height": 50
    },
    "colab_type": "code",
    "executionInfo": {
     "elapsed": 1906,
     "status": "ok",
     "timestamp": 1539618159514,
     "user": {
      "displayName": "Виктор Оверко",
      "photoUrl": "",
      "userId": "04713510988786792129"
     },
     "user_tz": -180
    },
    "id": "ASQWAR4hWOXq",
    "outputId": "291df6df-e5ed-4fc9-96fb-a255761990b4"
   },
   "outputs": [
    {
     "name": "stdout",
     "output_type": "stream",
     "text": [
      "3481/3481 [==============================] - 1s 341us/step\n",
      "Valid accuracy = 0.7302499281901185\n"
     ]
    }
   ],
   "source": [
    "scores = NN.evaluate(X_valid, y_valid)\n",
    "print(\"Valid accuracy =\", scores[1])"
   ]
  },
  {
   "cell_type": "code",
   "execution_count": 0,
   "metadata": {
    "colab": {},
    "colab_type": "code",
    "id": "ZEG-smEOq5Zr"
   },
   "outputs": [],
   "source": [
    "saved_model = NN.to_json()\n",
    "with open(\"CNN_model_raw_data.json\", \"w\") as json_file:\n",
    "    json_file.write(saved_model)\n",
    "    \n",
    "files.download('CNN_model_raw_data.json')"
   ]
  },
  {
   "cell_type": "markdown",
   "metadata": {
    "colab_type": "text",
    "id": "5D5qO2J8APT2"
   },
   "source": [
    "pca 300, 10 windows: max test acc = 70% , ~20 min, ~ 30 epoch, EarlyStopping = 5\n",
    "\n",
    "max 300, 10 windows: max test acc = 0.6996, ~30 min, ~40 epoch, EarlyStopping = 10\n",
    "\n",
    "mean 300, 10 windows: max test acc = 0.5449, ~20 min, ~28 epoch, EarlyStopping = 5\n",
    "\n",
    "pca 350, 10 windows: max test acc = 0.698, ~10min, ~18 epoch, EarlyStopping = 5\n",
    "\n",
    "pca 60, 10 windows: max test acc = 0.7256, 2 mi, 11, epoch, EarlyStopping = 5\n",
    "\n",
    "pca 60, 20 windows: max test acc =0.71, 5 min, 17 epoch, EarlyStopping = 5 , file 4\n",
    "\n",
    "pca 60, 60 windows: max test acc =0.7243, 7 min, 10 epoch, EarlyStopping = 5 , file 6\n",
    "\n",
    "pca 120, 16 windows: max test acc =0.7070, 9 min, 21 epoch, EarlyStopping = 7 , file 8\n",
    "\n",
    "after strong regularization\n",
    "\n",
    "pca 60, 12 windows: max test acc =0.7269, 10 min, 30 epoch, EarlyStopping = 10\n",
    "\n",
    "pca 300, 20 windows: max test acc = 0.6881, ~20 min, ~15 epoch, EarlyStopping = 10\n",
    "\n",
    "pca 60, 20 windows: max test acc =0.7222, 9 min, 25 epoch, EarlyStopping = 10\n"
   ]
  },
  {
   "cell_type": "code",
   "execution_count": 0,
   "metadata": {
    "colab": {},
    "colab_type": "code",
    "id": "cQzZjhtwmVIa"
   },
   "outputs": [],
   "source": []
  }
 ],
 "metadata": {
  "accelerator": "GPU",
  "colab": {
   "collapsed_sections": [],
   "name": "CNN_raw_data.ipynb",
   "provenance": [],
   "version": "0.3.2"
  },
  "kernelspec": {
   "display_name": "Python 3",
   "language": "python",
   "name": "python3"
  },
  "language_info": {
   "codemirror_mode": {
    "name": "ipython",
    "version": 3
   },
   "file_extension": ".py",
   "mimetype": "text/x-python",
   "name": "python",
   "nbconvert_exporter": "python",
   "pygments_lexer": "ipython3",
   "version": "3.6.8"
  }
 },
 "nbformat": 4,
 "nbformat_minor": 1
}
