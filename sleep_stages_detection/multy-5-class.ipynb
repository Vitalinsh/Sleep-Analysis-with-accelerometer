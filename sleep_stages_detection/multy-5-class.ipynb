{
 "cells": [
  {
   "cell_type": "code",
   "execution_count": 22,
   "metadata": {},
   "outputs": [],
   "source": [
    "import os\n",
    "import numpy as np\n",
    "import pandas as pd\n",
    "\n",
    "import prepare_data\n",
    "\n",
    "from sklearn.linear_model import LogisticRegression\n",
    "from sklearn.ensemble import GradientBoostingClassifier \n",
    "from sklearn.svm import SVC\n",
    "\n",
    "from sklearn import metrics\n",
    "from sklearn.model_selection import train_test_split\n",
    "from sklearn.model_selection import KFold\n",
    "\n",
    "import matplotlib.pyplot as plt\n",
    "import seaborn as sns\n",
    "\n",
    "from keras.utils import np_utils"
   ]
  },
  {
   "cell_type": "code",
   "execution_count": 83,
   "metadata": {},
   "outputs": [],
   "source": [
    "data_path = os.path.join(\"ICHI14_dataset\\data\")\n",
    "patient_list = ['002','003','005','007','08a','08b','09a','09b', '10a','011','013','014','15a','15b','016',\n",
    "            '017','018','019','020','021','022','023','025','026','027','028','029','030','031','032',\n",
    "            '033','034','035','036','037','038','040','042','043','044','045','047','048','049','051']\n",
    "#statistics_list = [\"std_x\", \"std_y\", \"std_z\", \"ptp_x\", \"ptp_y\", \"ptp_z\", \"rms_x\", \"rms_y\", \"rms_z\"]\n",
    "statistics_list = [\"std_x\", \"std_y\", \"std_z\", \"rms_x\", \"rms_y\", \"rms_z\"]\n",
    "file_name = \"multy_class_features_60s.csv\""
   ]
  },
  {
   "cell_type": "code",
   "execution_count": 3,
   "metadata": {},
   "outputs": [],
   "source": [
    "#prepare_data.save_statistic_features(patient_list, sorce_path=\"ICHI14_dataset\\data\", \n",
    "#                                     save_path=\"multy_class_features_60s.csv\",\n",
    "#                                     window_len=60, sleep_stages=True)"
   ]
  },
  {
   "cell_type": "code",
   "execution_count": 37,
   "metadata": {},
   "outputs": [],
   "source": [
    "train_patient_list, test_patient_list = train_test_split(patient_list, random_state=152, test_size=0.3)"
   ]
  },
  {
   "cell_type": "code",
   "execution_count": 86,
   "metadata": {},
   "outputs": [],
   "source": [
    "X_train, y_train = prepare_data.load_statistic_features(train_patient_list,\n",
    "                                                        file_name=file_name,\n",
    "                                                        statistics_list=statistics_list)\n",
    "\n",
    "X_test, y_test = prepare_data.load_statistic_features(test_patient_list, \n",
    "                                                      file_name=file_name,\n",
    "                                                      statistics_list=statistics_list)"
   ]
  },
  {
   "cell_type": "code",
   "execution_count": 87,
   "metadata": {},
   "outputs": [
    {
     "name": "stdout",
     "output_type": "stream",
     "text": [
      "(15850, 6)\n",
      "(15850,)\n",
      "(7355, 6)\n",
      "(7355,)\n"
     ]
    }
   ],
   "source": [
    "print(X_train.shape)\n",
    "print(y_train.shape)\n",
    "print(X_test.shape)\n",
    "print(y_test.shape)"
   ]
  },
  {
   "cell_type": "code",
   "execution_count": 88,
   "metadata": {},
   "outputs": [
    {
     "data": {
      "text/plain": [
       "<matplotlib.axes._subplots.AxesSubplot at 0x286dd178b70>"
      ]
     },
     "execution_count": 88,
     "metadata": {},
     "output_type": "execute_result"
    },
    {
     "data": {
      "image/png": "[encoded data removed]",
      "text/plain": [
       "<Figure size 432x288 with 1 Axes>"
      ]
     },
     "metadata": {},
     "output_type": "display_data"
    }
   ],
   "source": [
    "sns.countplot(y_train)"
   ]
  },
  {
   "cell_type": "code",
   "execution_count": 89,
   "metadata": {},
   "outputs": [
    {
     "data": {
      "text/plain": [
       "<matplotlib.axes._subplots.AxesSubplot at 0x286dd155e10>"
      ]
     },
     "execution_count": 89,
     "metadata": {},
     "output_type": "execute_result"
    },
    {
     "data": {
      "image/png": "[encoded data removed]",
      "text/plain": [
       "<Figure size 432x288 with 1 Axes>"
      ]
     },
     "metadata": {},
     "output_type": "display_data"
    }
   ],
   "source": [
    "sns.countplot(y_test)"
   ]
  },
  {
   "cell_type": "markdown",
   "metadata": {},
   "source": [
    "### 1. Lin. Reg, only one window"
   ]
  },
  {
   "cell_type": "code",
   "execution_count": 90,
   "metadata": {},
   "outputs": [
    {
     "name": "stdout",
     "output_type": "stream",
     "text": [
      "Wall time: 449 ms\n"
     ]
    }
   ],
   "source": [
    "%%time\n",
    "model1 = LogisticRegression()\n",
    "model1.fit(X_train, y_train)"
   ]
  },
  {
   "cell_type": "code",
   "execution_count": 91,
   "metadata": {},
   "outputs": [
    {
     "name": "stdout",
     "output_type": "stream",
     "text": [
      "\n",
      "Train set result: \n",
      "             precision    recall  f1-score   support\n",
      "\n",
      "        0.0       0.00      0.00      0.00      1059\n",
      "        1.0       0.00      0.00      0.00      1488\n",
      "        2.0       0.38      0.41      0.39      4395\n",
      "        3.0       0.00      0.00      0.00      1623\n",
      "        4.0       0.54      0.82      0.65      7285\n",
      "\n",
      "avg / total       0.35      0.49      0.41     15850\n",
      "\n",
      "Confussion matrix: \n",
      " [[   0    0  485    0  574]\n",
      " [   0    0  629    0  859]\n",
      " [   0    0 1780    0 2615]\n",
      " [   0    0  527    0 1096]\n",
      " [   0    0 1285    0 6000]]\n",
      "\n",
      "Accuracy on train set:  0.4908517350157729\n",
      "\n",
      "Train set result: \n",
      "             precision    recall  f1-score   support\n",
      "\n",
      "        0.0       0.00      0.00      0.00       314\n",
      "        1.0       0.00      0.00      0.00      1049\n",
      "        2.0       0.25      0.26      0.25      1773\n",
      "        3.0       0.00      0.00      0.00       640\n",
      "        4.0       0.52      0.80      0.63      3579\n",
      "\n",
      "avg / total       0.31      0.45      0.37      7355\n",
      "\n",
      "Confussion matrix: \n",
      " [[   0    0  140    0  174]\n",
      " [   0    0  329    0  720]\n",
      " [   0    0  462    0 1311]\n",
      " [   0    0  200    0  440]\n",
      " [   0    0  722    0 2857]]\n",
      "\n",
      "Accuracy on train set:  0.4512576478585996\n"
     ]
    },
    {
     "name": "stderr",
     "output_type": "stream",
     "text": [
      "C:\\My_programs\\Miniconda3\\lib\\site-packages\\sklearn\\metrics\\classification.py:1135: UndefinedMetricWarning: Precision and F-score are ill-defined and being set to 0.0 in labels with no predicted samples.\n",
      "  'precision', 'predicted', average, warn_for)\n",
      "C:\\My_programs\\Miniconda3\\lib\\site-packages\\sklearn\\metrics\\classification.py:1135: UndefinedMetricWarning: Precision and F-score are ill-defined and being set to 0.0 in labels with no predicted samples.\n",
      "  'precision', 'predicted', average, warn_for)\n"
     ]
    }
   ],
   "source": [
    "y_predict = model1.predict(X_train)\n",
    "\n",
    "print(\"\\nTrain set result: \")\n",
    "print(metrics.classification_report(y_train, y_predict))\n",
    "print(\"Confussion matrix: \\n\", metrics.confusion_matrix(y_train, y_predict))\n",
    "\n",
    "accuracy = metrics.accuracy_score(y_train, y_predict)\n",
    "print(\"\\nAccuracy on train set: \", accuracy)\n",
    "\n",
    "y_predict = model1.predict(X_test)\n",
    "\n",
    "print(\"\\nTrain set result: \")\n",
    "print(metrics.classification_report(y_test, y_predict))\n",
    "print(\"Confussion matrix: \\n\", metrics.confusion_matrix(y_test, y_predict))\n",
    "\n",
    "accuracy = metrics.accuracy_score(y_test, y_predict)\n",
    "print(\"\\nAccuracy on train set: \", accuracy)"
   ]
  },
  {
   "cell_type": "markdown",
   "metadata": {},
   "source": [
    "f1 = 0.32, acc = 0.4866  std\n",
    "f1 = 0.37, acc = 0.4508  std ptp rms"
   ]
  },
  {
   "cell_type": "markdown",
   "metadata": {},
   "source": [
    "### 2. Lin. Reg, several windows features for one window"
   ]
  },
  {
   "cell_type": "code",
   "execution_count": 92,
   "metadata": {},
   "outputs": [],
   "source": [
    "X_train, y_train = prepare_data.load_stat_features_others_windows(train_patient_list,\n",
    "                                                                 file_name=file_name,\n",
    "                                                                 statistics_list=statistics_list,\n",
    "                                                                 n_others_windows=16)\n",
    "\n",
    "X_test, y_test = prepare_data.load_stat_features_others_windows(test_patient_list,                                             \n",
    "                                                                file_name=file_name, \n",
    "                                                                statistics_list=statistics_list,\n",
    "                                                                n_others_windows=16)"
   ]
  },
  {
   "cell_type": "code",
   "execution_count": 93,
   "metadata": {},
   "outputs": [
    {
     "name": "stdout",
     "output_type": "stream",
     "text": [
      "(15354, 102)\n",
      "(15354,)\n",
      "(7131, 102)\n",
      "(7131,)\n"
     ]
    }
   ],
   "source": [
    "print(X_train.shape)\n",
    "print(y_train.shape)\n",
    "print(X_test.shape)\n",
    "print(y_test.shape)"
   ]
  },
  {
   "cell_type": "code",
   "execution_count": 94,
   "metadata": {},
   "outputs": [
    {
     "name": "stdout",
     "output_type": "stream",
     "text": [
      "Wall time: 18.3 s\n"
     ]
    }
   ],
   "source": [
    "%%time\n",
    "model3 = LogisticRegression()\n",
    "model3.fit(X_train, y_train)"
   ]
  },
  {
   "cell_type": "code",
   "execution_count": 95,
   "metadata": {},
   "outputs": [
    {
     "name": "stdout",
     "output_type": "stream",
     "text": [
      "\n",
      "Train set result: \n",
      "             precision    recall  f1-score   support\n",
      "\n",
      "        0.0       1.00      0.00      0.01      1059\n",
      "        1.0       0.14      0.00      0.00      1488\n",
      "        2.0       0.41      0.70      0.52      4395\n",
      "        3.0       0.00      0.00      0.00      1623\n",
      "        4.0       0.65      0.75      0.69      6789\n",
      "\n",
      "avg / total       0.49      0.53      0.46     15354\n",
      "\n",
      "Confussion matrix: \n",
      " [[   4    1  765    0  289]\n",
      " [   0    1 1217    0  270]\n",
      " [   0    2 3081    0 1312]\n",
      " [   0    2  770    0  851]\n",
      " [   0    1 1723    0 5065]]\n",
      "\n",
      "Accuracy on train set:  0.5308714341539664\n",
      "\n",
      "Test set result: \n",
      "             precision    recall  f1-score   support\n",
      "\n",
      "        0.0       0.00      0.00      0.00       314\n",
      "        1.0       0.06      0.00      0.00      1049\n",
      "        2.0       0.32      0.56      0.41      1765\n",
      "        3.0       0.00      0.00      0.00       640\n",
      "        4.0       0.66      0.78      0.71      3363\n",
      "\n",
      "avg / total       0.40      0.51      0.44      7131\n",
      "\n",
      "Confussion matrix: \n",
      " [[   0    1  243    0   70]\n",
      " [   0    1  847    0  201]\n",
      " [   0   11  996    1  757]\n",
      " [   0    0  321    0  319]\n",
      " [   0    5  739    0 2619]]\n",
      "\n",
      "Accuracy on test set:  0.507081755714486\n"
     ]
    },
    {
     "name": "stderr",
     "output_type": "stream",
     "text": [
      "C:\\My_programs\\Miniconda3\\lib\\site-packages\\sklearn\\metrics\\classification.py:1135: UndefinedMetricWarning: Precision and F-score are ill-defined and being set to 0.0 in labels with no predicted samples.\n",
      "  'precision', 'predicted', average, warn_for)\n",
      "C:\\My_programs\\Miniconda3\\lib\\site-packages\\sklearn\\metrics\\classification.py:1135: UndefinedMetricWarning: Precision and F-score are ill-defined and being set to 0.0 in labels with no predicted samples.\n",
      "  'precision', 'predicted', average, warn_for)\n"
     ]
    }
   ],
   "source": [
    "y_predict = model3.predict(X_train)\n",
    "\n",
    "print(\"\\nTrain set result: \")\n",
    "print(metrics.classification_report(y_train, y_predict))\n",
    "print(\"Confussion matrix: \\n\", metrics.confusion_matrix(y_train, y_predict))\n",
    "\n",
    "accuracy = metrics.accuracy_score(y_train, y_predict)\n",
    "print(\"\\nAccuracy on train set: \", accuracy)\n",
    "\n",
    "y_predict = model3.predict(X_test)\n",
    "\n",
    "print(\"\\nTest set result: \")\n",
    "print(metrics.classification_report(y_test, y_predict))\n",
    "print(\"Confussion matrix: \\n\", metrics.confusion_matrix(y_test, y_predict))\n",
    "\n",
    "accuracy = metrics.accuracy_score(y_test, y_predict)\n",
    "print(\"\\nAccuracy on test set: \", accuracy)"
   ]
  },
  {
   "cell_type": "markdown",
   "metadata": {},
   "source": [
    "f1 = 0.43, acc = 0.4937, 20 windows, std ptp rms\n",
    "\n",
    "f1 = 0.44, acc =  0.5070, 20 windows, std rms"
   ]
  },
  {
   "cell_type": "markdown",
   "metadata": {},
   "source": [
    "### The problem is imbalanced classes "
   ]
  },
  {
   "cell_type": "markdown",
   "metadata": {},
   "source": [
    "## OVERSAMPLING"
   ]
  },
  {
   "cell_type": "code",
   "execution_count": 96,
   "metadata": {},
   "outputs": [],
   "source": [
    "train_size = y_train.shape[0]\n",
    "\n",
    "awake = np.sum(y_train[y_train == 4]) / 4\n",
    "rem = np.sum(y_train[y_train == 0] + 1)\n",
    "no_rem1 = np.sum(y_train[y_train == 1])\n",
    "no_rem2 = np.sum(y_train[y_train == 2]) / 2 \n",
    "no_rem3 = np.sum(y_train[y_train == 3]) / 3\n",
    "\n",
    "#print(awake)\n",
    "#print(rem)\n",
    "#print(no_rem1)\n",
    "#print(no_rem2)\n",
    "#print(no_rem3)"
   ]
  },
  {
   "cell_type": "code",
   "execution_count": 97,
   "metadata": {},
   "outputs": [
    {
     "name": "stdout",
     "output_type": "stream",
     "text": [
      "0.44216490816725285\n",
      "0.06897225478702618\n",
      "0.09691285658460336\n",
      "0.28624462680734664\n",
      "0.105705353653771\n"
     ]
    }
   ],
   "source": [
    "print(awake / train_size)\n",
    "print(rem / train_size)\n",
    "print(no_rem1 / train_size)\n",
    "print(no_rem2 / train_size)\n",
    "print(no_rem3 / train_size)"
   ]
  },
  {
   "cell_type": "code",
   "execution_count": 98,
   "metadata": {},
   "outputs": [],
   "source": [
    "def n_repeats(y):\n",
    "    train_size = y.shape[0]\n",
    "    repeats = np.zeros(y.shape)\n",
    "    \n",
    "    awake = np.sum(y_train[y_train == 4]) / 4\n",
    "    rem = np.sum(y_train[y_train == 0] + 1)\n",
    "    no_rem1 = np.sum(y_train[y_train == 1])\n",
    "    no_rem2 = np.sum(y_train[y_train == 2]) / 2 \n",
    "    no_rem3 = np.sum(y_train[y_train == 3]) / 3\n",
    "    \n",
    "    repeats[y == 4] = 1\n",
    "    repeats[y == 0] = awake // rem\n",
    "    repeats[y == 1] = awake // no_rem1\n",
    "    repeats[y == 2] = awake // no_rem2\n",
    "    repeats[y == 3] = awake // no_rem3\n",
    "    \n",
    "    return repeats.astype(int)"
   ]
  },
  {
   "cell_type": "code",
   "execution_count": 99,
   "metadata": {},
   "outputs": [],
   "source": [
    "repeats = n_repeats(y_train)"
   ]
  },
  {
   "cell_type": "code",
   "execution_count": 100,
   "metadata": {},
   "outputs": [],
   "source": [
    "y_train = np.repeat(y_train, repeats, axis=0)\n",
    "X_train = np.repeat(X_train, repeats, axis=0)"
   ]
  },
  {
   "cell_type": "code",
   "execution_count": 101,
   "metadata": {},
   "outputs": [
    {
     "name": "stdout",
     "output_type": "stream",
     "text": [
      "(29982,)\n",
      "(29982, 102)\n"
     ]
    }
   ],
   "source": [
    "print(y_train.shape)\n",
    "print(X_train.shape)"
   ]
  },
  {
   "cell_type": "code",
   "execution_count": 102,
   "metadata": {},
   "outputs": [
    {
     "data": {
      "text/plain": [
       "<matplotlib.axes._subplots.AxesSubplot at 0x286dd1467b8>"
      ]
     },
     "execution_count": 102,
     "metadata": {},
     "output_type": "execute_result"
    },
    {
     "data": {
      "image/png": "[encoded data removed]",
      "text/plain": [
       "<Figure size 432x288 with 1 Axes>"
      ]
     },
     "metadata": {},
     "output_type": "display_data"
    }
   ],
   "source": [
    "sns.countplot(y_train)"
   ]
  },
  {
   "cell_type": "markdown",
   "metadata": {},
   "source": [
    "### 3. Lin. Reg, only one window"
   ]
  },
  {
   "cell_type": "code",
   "execution_count": 63,
   "metadata": {},
   "outputs": [
    {
     "name": "stdout",
     "output_type": "stream",
     "text": [
      "Wall time: 2min 29s\n"
     ]
    }
   ],
   "source": [
    "%%time\n",
    "model1 = LogisticRegression(C=0.1)\n",
    "model1.fit(X_train, y_train)"
   ]
  },
  {
   "cell_type": "code",
   "execution_count": 64,
   "metadata": {
    "scrolled": true
   },
   "outputs": [
    {
     "name": "stdout",
     "output_type": "stream",
     "text": [
      "\n",
      "Train set result: \n",
      "             precision    recall  f1-score   support\n",
      "\n",
      "        0.0       0.37      0.49      0.42      6354\n",
      "        1.0       0.37      0.50      0.42      5944\n",
      "        2.0       0.36      0.03      0.06      4395\n",
      "        3.0       0.40      0.40      0.40      6488\n",
      "        4.0       0.61      0.58      0.59      6668\n",
      "\n",
      "avg / total       0.43      0.43      0.40     29849\n",
      "\n",
      "Confussion matrix: \n",
      " [[3114 1848  108  822  462]\n",
      " [1708 2984   16 1008  228]\n",
      " [1439 1292  151 1029  484]\n",
      " [1328 1136   88 2620 1316]\n",
      " [ 736  873   57 1143 3859]]\n",
      "\n",
      "Accuracy on train set:  0.4264129451572917\n",
      "\n",
      "Train set result: \n",
      "             precision    recall  f1-score   support\n",
      "\n",
      "        0.0       0.09      0.40      0.14       314\n",
      "        1.0       0.27      0.41      0.33      1049\n",
      "        2.0       0.31      0.03      0.06      1763\n",
      "        3.0       0.11      0.27      0.16       640\n",
      "        4.0       0.80      0.55      0.65      3309\n",
      "\n",
      "avg / total       0.51      0.37      0.39      7075\n",
      "\n",
      "Confussion matrix: \n",
      " [[ 127  111    9   53   14]\n",
      " [ 259  434   27  268   61]\n",
      " [ 406  577   55  462  263]\n",
      " [ 184  136   26  175  119]\n",
      " [ 474  348   61  594 1832]]\n",
      "\n",
      "Accuracy on train set:  0.37074204946996464\n"
     ]
    }
   ],
   "source": [
    "y_predict = model1.predict(X_train)\n",
    "\n",
    "print(\"\\nTrain set result: \")\n",
    "print(metrics.classification_report(y_train, y_predict))\n",
    "print(\"Confussion matrix: \\n\", metrics.confusion_matrix(y_train, y_predict))\n",
    "\n",
    "accuracy = metrics.accuracy_score(y_train, y_predict)\n",
    "print(\"\\nAccuracy on train set: \", accuracy)\n",
    "\n",
    "y_predict = model1.predict(X_test)\n",
    "\n",
    "print(\"\\nTrain set result: \")\n",
    "print(metrics.classification_report(y_test, y_predict))\n",
    "print(\"Confussion matrix: \\n\", metrics.confusion_matrix(y_test, y_predict))\n",
    "\n",
    "accuracy = metrics.accuracy_score(y_test, y_predict)\n",
    "print(\"\\nAccuracy on train set: \", accuracy)"
   ]
  },
  {
   "cell_type": "markdown",
   "metadata": {},
   "source": [
    "f1 = 0.35, acc = 0.35, std\n",
    "\n",
    "f1 = 0.39, acc = 0.3707, std + ptp + rms"
   ]
  },
  {
   "cell_type": "markdown",
   "metadata": {},
   "source": [
    "### 4. Lin. Reg, several windows features for one window"
   ]
  },
  {
   "cell_type": "code",
   "execution_count": 69,
   "metadata": {},
   "outputs": [
    {
     "name": "stdout",
     "output_type": "stream",
     "text": [
      "(29982, 153)\n",
      "(29982,)\n",
      "(7131, 153)\n",
      "(7131,)\n"
     ]
    },
    {
     "data": {
      "image/png": "[encoded data removed]",
      "text/plain": [
       "<Figure size 432x288 with 1 Axes>"
      ]
     },
     "metadata": {},
     "output_type": "display_data"
    }
   ],
   "source": [
    "X_train, y_train = prepare_data.load_stat_features_others_windows(train_patient_list,\n",
    "                                                                 file_name=file_name,\n",
    "                                                                 statistics_list=statistics_list,\n",
    "                                                                 n_others_windows=16)\n",
    "\n",
    "X_test, y_test = prepare_data.load_stat_features_others_windows(test_patient_list, \n",
    "                                                                statistics_list=statistics_list,\n",
    "                                                                file_name=file_name, \n",
    "                                                                n_others_windows=16)\n",
    "\n",
    "repeats = n_repeats(y_train)\n",
    "y_train = np.repeat(y_train, repeats, axis=0)\n",
    "X_train = np.repeat(X_train, repeats, axis=0)\n",
    "sns.countplot(y_train)\n",
    "\n",
    "print(X_train.shape)\n",
    "print(y_train.shape)\n",
    "print(X_test.shape)\n",
    "print(y_test.shape)"
   ]
  },
  {
   "cell_type": "code",
   "execution_count": 67,
   "metadata": {},
   "outputs": [
    {
     "name": "stdout",
     "output_type": "stream",
     "text": [
      "Wall time: 2min 27s\n"
     ]
    }
   ],
   "source": [
    "%%time\n",
    "model3 = LogisticRegression()\n",
    "model3.fit(X_train, y_train)"
   ]
  },
  {
   "cell_type": "code",
   "execution_count": 68,
   "metadata": {},
   "outputs": [
    {
     "name": "stdout",
     "output_type": "stream",
     "text": [
      "\n",
      "Train set result: \n",
      "             precision    recall  f1-score   support\n",
      "\n",
      "        0.0       0.37      0.51      0.43      6354\n",
      "        1.0       0.36      0.47      0.41      5944\n",
      "        2.0       0.36      0.04      0.07      4395\n",
      "        3.0       0.40      0.39      0.39      6488\n",
      "        4.0       0.60      0.58      0.59      6668\n",
      "\n",
      "avg / total       0.42      0.42      0.40     29849\n",
      "\n",
      "Confussion matrix: \n",
      " [[3258 1710  114  792  480]\n",
      " [1936 2804   16  960  228]\n",
      " [1502 1260  158  989  486]\n",
      " [1360 1172   92 2528 1336]\n",
      " [ 751  889   58 1107 3863]]\n",
      "\n",
      "Accuracy on train set:  0.42249321585312744\n",
      "\n",
      "Test set result: \n",
      "             precision    recall  f1-score   support\n",
      "\n",
      "        0.0       0.09      0.40      0.14       314\n",
      "        1.0       0.27      0.41      0.32      1049\n",
      "        2.0       0.33      0.03      0.06      1763\n",
      "        3.0       0.11      0.27      0.16       640\n",
      "        4.0       0.80      0.56      0.65      3309\n",
      "\n",
      "avg / total       0.51      0.37      0.39      7075\n",
      "\n",
      "Confussion matrix: \n",
      " [[ 125  110   11   53   15]\n",
      " [ 261  432   27  267   62]\n",
      " [ 403  581   61  445  273]\n",
      " [ 184  138   26  171  121]\n",
      " [ 476  350   61  584 1838]]\n",
      "\n",
      "Accuracy on test set:  0.37130742049469967\n"
     ]
    }
   ],
   "source": [
    "y_predict = model3.predict(X_train)\n",
    "\n",
    "print(\"\\nTrain set result: \")\n",
    "print(metrics.classification_report(y_train, y_predict))\n",
    "print(\"Confussion matrix: \\n\", metrics.confusion_matrix(y_train, y_predict))\n",
    "\n",
    "accuracy = metrics.accuracy_score(y_train, y_predict)\n",
    "print(\"\\nAccuracy on train set: \", accuracy)\n",
    "\n",
    "y_predict = model3.predict(X_test)\n",
    "\n",
    "print(\"\\nTest set result: \")\n",
    "print(metrics.classification_report(y_test, y_predict))\n",
    "print(\"Confussion matrix: \\n\", metrics.confusion_matrix(y_test, y_predict))\n",
    "\n",
    "accuracy = metrics.accuracy_score(y_test, y_predict)\n",
    "print(\"\\nAccuracy on test set: \", accuracy)"
   ]
  },
  {
   "cell_type": "markdown",
   "metadata": {},
   "source": [
    "f1 = 0.42, acc = 0.4198, 16 windows\n",
    "\n",
    "f1 = 0.43, acc = 0.4398, 32 windows\n",
    "\n",
    "f1 = 0.43, acc = 0.4279, 40 windows\n",
    "\n",
    "f1 = 0.39, acc = 0.3713, 20 windows, std + ptp + rms\n"
   ]
  },
  {
   "cell_type": "markdown",
   "metadata": {},
   "source": [
    "### 5. GradientBoostingClassifier, several windows features for one window"
   ]
  },
  {
   "cell_type": "code",
   "execution_count": 103,
   "metadata": {},
   "outputs": [
    {
     "name": "stdout",
     "output_type": "stream",
     "text": [
      "Wall time: 5min\n"
     ]
    }
   ],
   "source": [
    "%%time\n",
    "model4 = GradientBoostingClassifier(n_estimators=50, max_depth=7)\n",
    "model4.fit(X_train, y_train)"
   ]
  },
  {
   "cell_type": "code",
   "execution_count": 104,
   "metadata": {},
   "outputs": [
    {
     "name": "stdout",
     "output_type": "stream",
     "text": [
      "\n",
      "Train set result: \n",
      "             precision    recall  f1-score   support\n",
      "\n",
      "        0.0       0.93      1.00      0.96      6354\n",
      "        1.0       0.91      0.99      0.95      5952\n",
      "        2.0       0.94      0.74      0.83      4395\n",
      "        3.0       0.90      0.95      0.93      6492\n",
      "        4.0       0.95      0.89      0.92      6789\n",
      "\n",
      "avg / total       0.93      0.92      0.92     29982\n",
      "\n",
      "Confussion matrix: \n",
      " [[6336    0    0   18    0]\n",
      " [   4 5904    4   16   24]\n",
      " [ 181  357 3257  318  282]\n",
      " [ 120   92   72 6176   32]\n",
      " [ 146  121  149  318 6055]]\n",
      "\n",
      "Accuracy on train set:  0.9248215596024282\n",
      "\n",
      "Test set result: \n",
      "             precision    recall  f1-score   support\n",
      "\n",
      "        0.0       0.09      0.09      0.09       314\n",
      "        1.0       0.25      0.25      0.25      1049\n",
      "        2.0       0.32      0.21      0.25      1765\n",
      "        3.0       0.11      0.17      0.13       640\n",
      "        4.0       0.65      0.71      0.68      3363\n",
      "\n",
      "avg / total       0.44      0.44      0.44      7131\n",
      "\n",
      "Confussion matrix: \n",
      " [[  27  111   83   34   59]\n",
      " [  67  260  261  193  268]\n",
      " [  78  357  365  300  665]\n",
      " [  30  100  137  110  263]\n",
      " [  96  201  308  377 2381]]\n",
      "\n",
      "Accuracy on test set:  0.4407516477352405\n"
     ]
    }
   ],
   "source": [
    "y_predict = model4.predict(X_train)\n",
    "\n",
    "print(\"\\nTrain set result: \")\n",
    "print(metrics.classification_report(y_train, y_predict))\n",
    "print(\"Confussion matrix: \\n\", metrics.confusion_matrix(y_train, y_predict))\n",
    "\n",
    "accuracy = metrics.accuracy_score(y_train, y_predict)\n",
    "print(\"\\nAccuracy on train set: \", accuracy)\n",
    "\n",
    "y_predict = model4.predict(X_test)\n",
    "\n",
    "print(\"\\nTest set result: \")\n",
    "print(metrics.classification_report(y_test, y_predict))\n",
    "print(\"Confussion matrix: \\n\", metrics.confusion_matrix(y_test, y_predict))\n",
    "\n",
    "accuracy = metrics.accuracy_score(y_test, y_predict)\n",
    "print(\"\\nAccuracy on test set: \", accuracy)"
   ]
  },
  {
   "cell_type": "markdown",
   "metadata": {},
   "source": [
    "f1-score = 0.43\n",
    "\n",
    "f1-score = 0.45 n_estimators=30, max_depth=6\n",
    "\n",
    "f1-score = 0.48 , acc = 0.5002 (n_estimators=50, max_depth=10) 16 windows\n",
    "\n",
    "f1-score = 0.47 , acc = 0.4593 (n_estimators=50, max_depth=6), 32 windows\n",
    "\n",
    "f1-score =  0.43 , acc = 0.4278 (n_estimators=50, max_depth=6) 16 windows, std + ptp + rms\n",
    "\n",
    "f1-score =  0.44 , acc = 0.4407 (n_estimators=50, max_depth=6) 16 windows, std + rms\n"
   ]
  },
  {
   "cell_type": "markdown",
   "metadata": {},
   "source": [
    "### 6. SVM, several windows features for one window"
   ]
  },
  {
   "cell_type": "code",
   "execution_count": 155,
   "metadata": {},
   "outputs": [
    {
     "name": "stdout",
     "output_type": "stream",
     "text": [
      "Wall time: 4min 4s\n"
     ]
    }
   ],
   "source": [
    "%%time\n",
    "model6 = SVC(C=0.5)\n",
    "model6.fit(X_train, y_train)"
   ]
  },
  {
   "cell_type": "code",
   "execution_count": 156,
   "metadata": {},
   "outputs": [
    {
     "name": "stdout",
     "output_type": "stream",
     "text": [
      "\n",
      "Train set result: \n",
      "             precision    recall  f1-score   support\n",
      "\n",
      "        0.0       0.75      0.58      0.65      6354\n",
      "        1.0       0.44      0.91      0.59      5952\n",
      "        2.0       0.80      0.16      0.27      4395\n",
      "        3.0       0.80      0.71      0.76      6492\n",
      "        4.0       0.83      0.75      0.79      6789\n",
      "\n",
      "avg / total       0.73      0.65      0.64     29982\n",
      "\n",
      "Confussion matrix: \n",
      " [[3684 2592    0   78    0]\n",
      " [ 264 5432   36  216    4]\n",
      " [ 384 1808  701  473 1029]\n",
      " [ 272 1544   40 4632    4]\n",
      " [ 295  973   96  357 5068]]\n",
      "\n",
      "Accuracy on train set:  0.6509572410112734\n",
      "\n",
      "Test set result: \n",
      "             precision    recall  f1-score   support\n",
      "\n",
      "        0.0       0.15      0.19      0.17       314\n",
      "        1.0       0.32      0.59      0.41      1049\n",
      "        2.0       0.34      0.04      0.08      1765\n",
      "        3.0       0.12      0.12      0.12       640\n",
      "        4.0       0.67      0.78      0.72      3363\n",
      "\n",
      "avg / total       0.46      0.48      0.44      7131\n",
      "\n",
      "Confussion matrix: \n",
      " [[  59  120   27   52   56]\n",
      " [  79  618   30   97  225]\n",
      " [ 112  633   79  224  717]\n",
      " [  49  181   22   75  313]\n",
      " [  89  385   75  193 2621]]\n",
      "\n",
      "Accuracy on test set:  0.48408357874070956\n"
     ]
    }
   ],
   "source": [
    "y_predict = model6.predict(X_train)\n",
    "\n",
    "print(\"\\nTrain set result: \")\n",
    "print(metrics.classification_report(y_train, y_predict))\n",
    "print(\"Confussion matrix: \\n\", metrics.confusion_matrix(y_train, y_predict))\n",
    "\n",
    "accuracy = metrics.accuracy_score(y_train, y_predict)\n",
    "print(\"\\nAccuracy on train set: \", accuracy)\n",
    "\n",
    "y_predict = model6.predict(X_test)\n",
    "\n",
    "print(\"\\nTest set result: \")\n",
    "print(metrics.classification_report(y_test, y_predict))\n",
    "print(\"Confussion matrix: \\n\", metrics.confusion_matrix(y_test, y_predict))\n",
    "\n",
    "accuracy = metrics.accuracy_score(y_test, y_predict)\n",
    "print(\"\\nAccuracy on test set: \", accuracy)"
   ]
  },
  {
   "cell_type": "markdown",
   "metadata": {},
   "source": [
    "f1 = 0.41 C=0.1\n",
    "\n",
    "f1 = 0.44, acc = 0.4840,  C=0.5"
   ]
  },
  {
   "cell_type": "markdown",
   "metadata": {},
   "source": [
    "### 7. RNN, several windows features for one window"
   ]
  },
  {
   "cell_type": "code",
   "execution_count": 16,
   "metadata": {},
   "outputs": [],
   "source": [
    "\n",
    "from keras.layers import Dense, Flatten, Dropout, LSTM, Bidirectional, Activation, Embedding\n",
    "from keras.layers import Conv1D, MaxPooling1D\n",
    "from keras.models import Sequential\n",
    "from keras.optimizers import SGD, Adam\n",
    "from keras.layers.normalization import BatchNormalization\n",
    "from keras.regularizers import l2\n",
    "\n",
    "from keras.layers import LSTM, Bidirectional\n",
    "\n",
    "from keras.callbacks import ModelCheckpoint, EarlyStopping\n",
    "\n",
    "from keras.utils import np_utils"
   ]
  },
  {
   "cell_type": "code",
   "execution_count": 17,
   "metadata": {},
   "outputs": [],
   "source": [
    "train_patient_list, test_patient_list = train_test_split(patient_list, random_state=152, test_size=0.3)\n",
    "test_patient_list, valid_patient_list = train_test_split(test_patient_list, random_state=151, test_size=0.5)"
   ]
  },
  {
   "cell_type": "code",
   "execution_count": 18,
   "metadata": {},
   "outputs": [
    {
     "name": "stdout",
     "output_type": "stream",
     "text": [
      "(30106, 13, 3)\n",
      "(30106,)\n",
      "(3623, 13, 3)\n",
      "(3623,)\n",
      "(3564, 13, 3)\n",
      "(3564,)\n",
      "One=hot shapes\n",
      "(30106, 5)\n",
      "(3623, 5)\n",
      "(3564, 5)\n"
     ]
    },
    {
     "data": {
      "image/png": "[encoded data removed]",
      "text/plain": [
       "<Figure size 432x288 with 1 Axes>"
      ]
     },
     "metadata": {},
     "output_type": "display_data"
    }
   ],
   "source": [
    "X_train, y_train = prepare_data.load_stat_features_others_windows_rnn(train_patient_list,\n",
    "                                                                 file_name=file_name,\n",
    "                                                                 n_others_windows=12)\n",
    "\n",
    "X_valid, y_valid = prepare_data.load_stat_features_others_windows_rnn(valid_patient_list, \n",
    "                                                                file_name=file_name, \n",
    "                                                                n_others_windows=12)\n",
    "\n",
    "\n",
    "X_test, y_test = prepare_data.load_stat_features_others_windows_rnn(test_patient_list, \n",
    "                                                                file_name=file_name, \n",
    "                                                                n_others_windows=12)\n",
    "\n",
    "repeats = n_repeats(y_train)\n",
    "y_train = np.repeat(y_train, repeats, axis=0)\n",
    "X_train = np.repeat(X_train, repeats, axis=0)\n",
    "sns.countplot(y_train)\n",
    "\n",
    "print(X_train.shape)\n",
    "print(y_train.shape)\n",
    "print(X_valid.shape)\n",
    "print(y_valid.shape)\n",
    "print(X_test.shape)\n",
    "print(y_test.shape)\n",
    "\n",
    "print(\"One=hot shapes\")\n",
    "Y_train = np_utils.to_categorical(y_train, 5)\n",
    "print(Y_train.shape)\n",
    "Y_valid = np_utils.to_categorical(y_valid, 5)\n",
    "print(Y_valid.shape)\n",
    "Y_test = np_utils.to_categorical(y_test, 5)\n",
    "print(Y_test.shape)"
   ]
  },
  {
   "cell_type": "code",
   "execution_count": 19,
   "metadata": {},
   "outputs": [
    {
     "name": "stdout",
     "output_type": "stream",
     "text": [
      "_________________________________________________________________\n",
      "Layer (type)                 Output Shape              Param #   \n",
      "=================================================================\n",
      "lstm_1 (LSTM)                (None, 13)                884       \n",
      "_________________________________________________________________\n",
      "dense_1 (Dense)              (None, 5)                 70        \n",
      "=================================================================\n",
      "Total params: 954\n",
      "Trainable params: 954\n",
      "Non-trainable params: 0\n",
      "_________________________________________________________________\n",
      "None\n"
     ]
    }
   ],
   "source": [
    "RNN = Sequential()\n",
    "\n",
    "RNN.add(LSTM(13, dropout=0.2, recurrent_dropout=0.1, input_shape=(13, 3)))\n",
    "RNN.add(Dense(5, activation=\"softmax\", kernel_initializer=\"glorot_uniform\", kernel_regularizer=l2(0.1)))\n",
    "\n",
    "RNN.compile(loss=\"categorical_crossentropy\", optimizer=\"adam\", metrics=[\"accuracy\"])\n",
    "\n",
    "print(RNN.summary())"
   ]
  },
  {
   "cell_type": "code",
   "execution_count": 20,
   "metadata": {},
   "outputs": [],
   "source": [
    "callbacks = [ModelCheckpoint('RNN_multy_5_weights.hdf5', monitor='val_loss', save_best_only=True), \n",
    "             EarlyStopping(monitor='val_loss', patience=4)]"
   ]
  },
  {
   "cell_type": "code",
   "execution_count": 21,
   "metadata": {},
   "outputs": [
    {
     "name": "stdout",
     "output_type": "stream",
     "text": [
      "Train on 30106 samples, validate on 3623 samples\n",
      "Epoch 1/10\n",
      "30106/30106 [==============================] - 50s 2ms/step - loss: 1.7034 - acc: 0.3311 - val_loss: 1.4373 - val_acc: 0.4560\n",
      "Epoch 2/10\n",
      "30106/30106 [==============================] - 57s 2ms/step - loss: 1.5058 - acc: 0.3582 - val_loss: 1.4171 - val_acc: 0.4593\n",
      "Epoch 3/10\n",
      "30106/30106 [==============================] - 40s 1ms/step - loss: 1.4975 - acc: 0.3596 - val_loss: 1.4099 - val_acc: 0.4449\n",
      "Epoch 4/10\n",
      "30106/30106 [==============================] - 73s 2ms/step - loss: 1.4929 - acc: 0.3601 - val_loss: 1.4104 - val_acc: 0.4452\n",
      "Epoch 5/10\n",
      "30106/30106 [==============================] - 35s 1ms/step - loss: 1.4908 - acc: 0.3649 - val_loss: 1.4166 - val_acc: 0.4303\n",
      "Epoch 6/10\n",
      "30106/30106 [==============================] - 70s 2ms/step - loss: 1.4894 - acc: 0.3661 - val_loss: 1.4074 - val_acc: 0.4430\n",
      "Epoch 7/10\n",
      "30106/30106 [==============================] - 72s 2ms/step - loss: 1.4884 - acc: 0.3670 - val_loss: 1.4049 - val_acc: 0.4383\n",
      "Epoch 8/10\n",
      "30106/30106 [==============================] - 71s 2ms/step - loss: 1.4881 - acc: 0.3684 - val_loss: 1.3864 - val_acc: 0.4408\n",
      "Epoch 9/10\n",
      "30106/30106 [==============================] - 39s 1ms/step - loss: 1.4861 - acc: 0.3699 - val_loss: 1.3970 - val_acc: 0.4375\n",
      "Epoch 10/10\n",
      "30106/30106 [==============================] - 38s 1ms/step - loss: 1.4869 - acc: 0.3699 - val_loss: 1.3990 - val_acc: 0.4389\n",
      "Wall time: 9min 6s\n"
     ]
    },
    {
     "data": {
      "text/plain": [
       "<keras.callbacks.History at 0x286dc3a8eb8>"
      ]
     },
     "execution_count": 21,
     "metadata": {},
     "output_type": "execute_result"
    }
   ],
   "source": [
    "%%time\n",
    "\n",
    "RNN.fit(X_train, Y_train,\n",
    "       shuffle=True,\n",
    "       batch_size=32, \n",
    "       epochs=10, \n",
    "       validation_data=(X_valid, Y_valid), \n",
    "       callbacks=callbacks,\n",
    "       verbose=1)"
   ]
  },
  {
   "cell_type": "code",
   "execution_count": 24,
   "metadata": {},
   "outputs": [
    {
     "name": "stdout",
     "output_type": "stream",
     "text": [
      "3564/3564 [==============================] - 2s 612us/step\n",
      "Test accuracy = 0.4276094276094276\n"
     ]
    }
   ],
   "source": [
    "scores = RNN.evaluate(X_test, Y_test)\n",
    "print(\"Test accuracy =\", scores[1])"
   ]
  },
  {
   "cell_type": "code",
   "execution_count": 28,
   "metadata": {},
   "outputs": [],
   "source": [
    "y_predict = np.argmax(RNN.predict(X_test), axis=1)\n"
   ]
  },
  {
   "cell_type": "code",
   "execution_count": 29,
   "metadata": {},
   "outputs": [
    {
     "data": {
      "text/plain": [
       "0.4276094276094276"
      ]
     },
     "execution_count": 29,
     "metadata": {},
     "output_type": "execute_result"
    }
   ],
   "source": [
    "metrics.f1_score(y_test, y_predict, average='micro')  "
   ]
  },
  {
   "cell_type": "code",
   "execution_count": 30,
   "metadata": {},
   "outputs": [
    {
     "name": "stderr",
     "output_type": "stream",
     "text": [
      "C:\\My_programs\\Miniconda3\\lib\\site-packages\\sklearn\\metrics\\classification.py:1135: UndefinedMetricWarning: F-score is ill-defined and being set to 0.0 in labels with no predicted samples.\n",
      "  'precision', 'predicted', average, warn_for)\n"
     ]
    },
    {
     "data": {
      "text/plain": [
       "0.28555425209995916"
      ]
     },
     "execution_count": 30,
     "metadata": {},
     "output_type": "execute_result"
    }
   ],
   "source": [
    "metrics.f1_score(y_test, y_predict, average='macro')  "
   ]
  },
  {
   "cell_type": "code",
   "execution_count": 27,
   "metadata": {},
   "outputs": [
    {
     "name": "stderr",
     "output_type": "stream",
     "text": [
      "C:\\My_programs\\Miniconda3\\lib\\site-packages\\sklearn\\metrics\\classification.py:1135: UndefinedMetricWarning: F-score is ill-defined and being set to 0.0 in labels with no predicted samples.\n",
      "  'precision', 'predicted', average, warn_for)\n"
     ]
    },
    {
     "data": {
      "text/plain": [
       "0.39997119798341346"
      ]
     },
     "execution_count": 27,
     "metadata": {},
     "output_type": "execute_result"
    }
   ],
   "source": [
    "metrics.f1_score(y_test, y_predict, average='weighted') "
   ]
  },
  {
   "cell_type": "code",
   "execution_count": 32,
   "metadata": {},
   "outputs": [
    {
     "name": "stdout",
     "output_type": "stream",
     "text": [
      "\n",
      "Train set result: \n",
      "             precision    recall  f1-score   support\n",
      "\n",
      "        0.0       0.31      0.08      0.13      6354\n",
      "        1.0       0.35      0.65      0.46      5952\n",
      "        2.0       0.00      0.00      0.00      4395\n",
      "        3.0       0.29      0.45      0.35      6492\n",
      "        4.0       0.55      0.58      0.57      6913\n",
      "\n",
      "avg / total       0.32      0.38      0.32     30106\n",
      "\n",
      "Confussion matrix: \n",
      " [[ 528 2676    0 2466  684]\n",
      " [ 300 3848    0 1320  484]\n",
      " [ 298 1780    0 1793  524]\n",
      " [ 332 1632    0 2940 1588]\n",
      " [ 234  971    0 1678 4030]]\n",
      "\n",
      "Accuracy on train set:  0.3768683983259151\n"
     ]
    },
    {
     "name": "stderr",
     "output_type": "stream",
     "text": [
      "C:\\My_programs\\Miniconda3\\lib\\site-packages\\sklearn\\metrics\\classification.py:1135: UndefinedMetricWarning: Precision and F-score are ill-defined and being set to 0.0 in labels with no predicted samples.\n",
      "  'precision', 'predicted', average, warn_for)\n"
     ]
    },
    {
     "name": "stdout",
     "output_type": "stream",
     "text": [
      "\n",
      "Test set result: \n",
      "             precision    recall  f1-score   support\n",
      "\n",
      "        0.0       0.11      0.11      0.11       164\n",
      "        1.0       0.26      0.76      0.39       397\n",
      "        2.0       0.00      0.00      0.00      1032\n",
      "        3.0       0.14      0.39      0.21       331\n",
      "        4.0       0.80      0.66      0.72      1640\n",
      "\n",
      "avg / total       0.42      0.43      0.40      3564\n",
      "\n",
      "Confussion matrix: \n",
      " [[  18   84    0   57    5]\n",
      " [  20  301    0   67    9]\n",
      " [  65  487    0  317  163]\n",
      " [  22   94    0  128   87]\n",
      " [  36  192    0  335 1077]]\n",
      "\n",
      "Accuracy on test set:  0.4276094276094276\n"
     ]
    },
    {
     "name": "stderr",
     "output_type": "stream",
     "text": [
      "C:\\My_programs\\Miniconda3\\lib\\site-packages\\sklearn\\metrics\\classification.py:1135: UndefinedMetricWarning: Precision and F-score are ill-defined and being set to 0.0 in labels with no predicted samples.\n",
      "  'precision', 'predicted', average, warn_for)\n"
     ]
    }
   ],
   "source": [
    "y_predict = np.argmax(RNN.predict(X_train), axis=1)\n",
    "\n",
    "print(\"\\nTrain set result: \")\n",
    "print(metrics.classification_report(y_train, y_predict))\n",
    "print(\"Confussion matrix: \\n\", metrics.confusion_matrix(y_train, y_predict))\n",
    "\n",
    "accuracy = metrics.accuracy_score(y_train, y_predict)\n",
    "print(\"\\nAccuracy on train set: \", accuracy)\n",
    "\n",
    "y_predict = np.argmax(RNN.predict(X_test), axis=1)\n",
    "\n",
    "print(\"\\nTest set result: \")\n",
    "print(metrics.classification_report(y_test, y_predict))\n",
    "print(\"Confussion matrix: \\n\", metrics.confusion_matrix(y_test, y_predict))\n",
    "\n",
    "accuracy = metrics.accuracy_score(y_test, y_predict)\n",
    "print(\"\\nAccuracy on test set: \", accuracy)"
   ]
  },
  {
   "cell_type": "markdown",
   "metadata": {},
   "source": [
    "## Cross validation"
   ]
  },
  {
   "cell_type": "code",
   "execution_count": 33,
   "metadata": {},
   "outputs": [
    {
     "name": "stdout",
     "output_type": "stream",
     "text": [
      "['007', '08a', '09a', '025', '028', '029', '031', '044', '048']\n",
      "['002', '005', '08b', '021', '026', '027', '032', '034', '049']\n",
      "['003', '013', '014', '15b', '020', '022', '035', '036', '045']\n",
      "['09b', '15a', '017', '019', '023', '037', '042', '047', '051']\n",
      "['10a', '011', '016', '018', '030', '033', '038', '040', '043']\n"
     ]
    }
   ],
   "source": [
    "kf = KFold(n_splits=5, random_state=5, shuffle=True) # Define the split - into 3 folds #5\n",
    "kf.get_n_splits(patient_list) # returns the number of splitting iterations in the cross-validator\n",
    "\n",
    "for train_index, test_index in kf.split(patient_list):\n",
    "    #train_patient_list = [patient_list[i] for i in train_index]\n",
    "    test_patient_list = [patient_list[i] for i in test_index]\n",
    "    \n",
    "    print(test_patient_list)"
   ]
  },
  {
   "cell_type": "code",
   "execution_count": 34,
   "metadata": {},
   "outputs": [],
   "source": [
    "n_others_windows = 32"
   ]
  },
  {
   "cell_type": "markdown",
   "metadata": {},
   "source": [
    "### Gradient Boosting"
   ]
  },
  {
   "cell_type": "code",
   "execution_count": 35,
   "metadata": {},
   "outputs": [
    {
     "name": "stdout",
     "output_type": "stream",
     "text": [
      "(33641, 51)\n",
      "\n",
      "Accuracy on train set:  0.6853541809101988\n",
      "             precision    recall  f1-score   support\n",
      "\n",
      "        0.0       0.05      0.17      0.08       202\n",
      "        1.0       0.15      0.42      0.23       441\n",
      "        2.0       0.23      0.04      0.07      1103\n",
      "        3.0       0.13      0.28      0.18       438\n",
      "        4.0       0.78      0.49      0.60      2182\n",
      "\n",
      "avg / total       0.48      0.33      0.36      4366\n",
      "\n",
      "Accuracy on test set:  0.3321117727897389\n",
      "(32465, 51)\n",
      "\n",
      "Accuracy on train set:  0.6904666563991991\n",
      "             precision    recall  f1-score   support\n",
      "\n",
      "        0.0       0.08      0.17      0.11       269\n",
      "        1.0       0.30      0.56      0.39       530\n",
      "        2.0       0.33      0.10      0.16      1013\n",
      "        3.0       0.14      0.26      0.18       487\n",
      "        4.0       0.80      0.66      0.72      2583\n",
      "\n",
      "avg / total       0.54      0.47      0.48      4882\n",
      "\n",
      "Accuracy on test set:  0.4651782056534207\n",
      "(36520, 51)\n",
      "\n",
      "Accuracy on train set:  0.7069277108433735\n",
      "             precision    recall  f1-score   support\n",
      "\n",
      "        0.0       0.09      0.19      0.12       271\n",
      "        1.0       0.25      0.55      0.35       547\n",
      "        2.0       0.38      0.03      0.05      1411\n",
      "        3.0       0.14      0.40      0.21       354\n",
      "        4.0       0.73      0.58      0.65      1691\n",
      "\n",
      "avg / total       0.47      0.36      0.34      4274\n",
      "\n",
      "Accuracy on test set:  0.3568086102012167\n",
      "(34429, 51)\n",
      "\n",
      "Accuracy on train set:  0.6743152574864213\n",
      "             precision    recall  f1-score   support\n",
      "\n",
      "        0.0       0.05      0.15      0.07       259\n",
      "        1.0       0.22      0.40      0.29       457\n",
      "        2.0       0.49      0.03      0.05      1518\n",
      "        3.0       0.13      0.38      0.19       398\n",
      "        4.0       0.79      0.68      0.73      1863\n",
      "\n",
      "avg / total       0.53      0.37      0.37      4495\n",
      "\n",
      "Accuracy on test set:  0.37219132369299224\n",
      "(35980, 51)\n",
      "\n",
      "Accuracy on train set:  0.6998054474708171\n",
      "             precision    recall  f1-score   support\n",
      "\n",
      "        0.0       0.11      0.25      0.16       372\n",
      "        1.0       0.28      0.56      0.37       562\n",
      "        2.0       0.35      0.08      0.13      1115\n",
      "        3.0       0.18      0.19      0.19       586\n",
      "        4.0       0.72      0.63      0.67      1833\n",
      "\n",
      "avg / total       0.45      0.39      0.39      4468\n",
      "\n",
      "Accuracy on test set:  0.39435989256938225\n",
      "\n",
      "Mean accuracy = 0.38412996098135016\n",
      "Mean f1 score = 0.389212719081228\n",
      "Wall time: 7min 11s\n"
     ]
    }
   ],
   "source": [
    "%%time\n",
    "accuracy_list = []\n",
    "f1_list = []\n",
    "for train_index, test_index in kf.split(patient_list):\n",
    "    train_patient_list = [patient_list[i] for i in train_index]\n",
    "    test_patient_list = [patient_list[i] for i in test_index]\n",
    "    \n",
    "    X_train, y_train = prepare_data.load_stat_features_others_windows(train_patient_list,\n",
    "                                                                      file_name=file_name,\n",
    "                                                                      n_others_windows=n_others_windows)\n",
    "    X_test, y_test = prepare_data.load_stat_features_others_windows(test_patient_list,\n",
    "                                                                    file_name=file_name, \n",
    "                                                                    n_others_windows=n_others_windows)\n",
    "    \n",
    "    \n",
    "    repeats = n_repeats(y_train)\n",
    "    y_train = np.repeat(y_train, repeats, axis=0)\n",
    "    X_train = np.repeat(X_train, repeats, axis=0)\n",
    "    print(X_train.shape)\n",
    "    \n",
    "    model3 = GradientBoostingClassifier(n_estimators=30, max_depth=6)\n",
    "    model3.fit(X_train, y_train)\n",
    "    \n",
    "    y_predict = model3.predict(X_train)\n",
    "    accuracy_train = metrics.accuracy_score(y_train, y_predict)\n",
    "    f1_train = metrics.f1_score(y_train, y_predict, average=\"weighted\")\n",
    "    print(\"\\nAccuracy on train set: \", accuracy_train)\n",
    "    #print(\"F1 score on train set: \", f1_train)\n",
    "    \n",
    "    y_predict = model3.predict(X_test)\n",
    "    accuracy = metrics.accuracy_score(y_test, y_predict)\n",
    "    f1_test = metrics.f1_score(y_test, y_predict, average=\"weighted\")\n",
    "    accuracy_list.append(accuracy)\n",
    "    print(metrics.classification_report(y_test, y_predict))\n",
    "    f1_list.append(f1_test)\n",
    "    print(\"Accuracy on test set: \", accuracy)\n",
    "    #print(\"F1 score on test set: \", f1_test)\n",
    "    \n",
    "    #print(metrics.classification_report(y_test, y_predict))\n",
    "    #print(test_patient_list)\n",
    "\n",
    "print(\"\\nMean accuracy =\", np.mean(accuracy_list))  \n",
    "print(\"Mean f1 score =\", np.mean(f1_list)) "
   ]
  },
  {
   "cell_type": "markdown",
   "metadata": {},
   "source": [
    "f1 = 0.3892, acc = 0.3841, 16 windows, n_estimators=30, max_depth=6"
   ]
  }
 ],
 "metadata": {
  "kernelspec": {
   "display_name": "Python 3",
   "language": "python",
   "name": "python3"
  },
  "language_info": {
   "codemirror_mode": {
    "name": "ipython",
    "version": 3
   },
   "file_extension": ".py",
   "mimetype": "text/x-python",
   "name": "python",
   "nbconvert_exporter": "python",
   "pygments_lexer": "ipython3",
   "version": "3.6.8"
  }
 },
 "nbformat": 4,
 "nbformat_minor": 2
}
