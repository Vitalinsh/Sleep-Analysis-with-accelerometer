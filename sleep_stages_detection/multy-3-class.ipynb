{
 "cells": [
  {
   "cell_type": "code",
   "execution_count": 1,
   "metadata": {},
   "outputs": [
    {
     "name": "stderr",
     "output_type": "stream",
     "text": [
      "Using TensorFlow backend.\n"
     ]
    }
   ],
   "source": [
    "import os\n",
    "import numpy as np\n",
    "import pandas as pd\n",
    "\n",
    "import prepare_data\n",
    "\n",
    "from sklearn.linear_model import LogisticRegression\n",
    "from sklearn.ensemble import GradientBoostingClassifier \n",
    "from sklearn.svm import SVC\n",
    "\n",
    "from sklearn import metrics\n",
    "from sklearn.model_selection import train_test_split\n",
    "from sklearn.model_selection import KFold\n",
    "\n",
    "import matplotlib.pyplot as plt\n",
    "import seaborn as sns\n",
    "\n",
    "from keras.utils import np_utils"
   ]
  },
  {
   "cell_type": "code",
   "execution_count": 2,
   "metadata": {},
   "outputs": [],
   "source": [
    "data_path = os.path.join(\"ICHI14_dataset\\data\")\n",
    "patient_list = ['002','003','005','007','08a','08b','09a','09b', '10a','011','013','014','15a','15b','016',\n",
    "            '017','018','019','020','021','022','023','025','026','027','028','029','030','031','032',\n",
    "            '033','034','035','036','037','038','040','042','043','044','045','047','048','049','051']\n",
    "statistics_list = [\"std_x\", \"std_y\", \"std_z\"]\n",
    "file_name = \"multy_3_class_features_60s.csv\""
   ]
  },
  {
   "cell_type": "code",
   "execution_count": 3,
   "metadata": {},
   "outputs": [],
   "source": [
    "#prepare_data.save_statistic_features(patient_list, sorce_path=\"ICHI14_dataset\\data\", \n",
    "#                                     save_path=\"multy_3_class_features_60s.csv\",\n",
    "#                                     window_len=60, sleep_stages=True)"
   ]
  },
  {
   "cell_type": "code",
   "execution_count": 4,
   "metadata": {},
   "outputs": [],
   "source": [
    "train_patient_list, test_patient_list = train_test_split(patient_list, random_state=152, test_size=0.3)"
   ]
  },
  {
   "cell_type": "code",
   "execution_count": 5,
   "metadata": {},
   "outputs": [],
   "source": [
    "X_train, y_train = prepare_data.load_statistic_features(train_patient_list, file_name=file_name)\n",
    "X_test, y_test = prepare_data.load_statistic_features(test_patient_list, file_name=file_name)"
   ]
  },
  {
   "cell_type": "code",
   "execution_count": 6,
   "metadata": {},
   "outputs": [
    {
     "name": "stdout",
     "output_type": "stream",
     "text": [
      "(15850, 3)\n",
      "(15850,)\n",
      "(7355, 3)\n",
      "(7355,)\n"
     ]
    }
   ],
   "source": [
    "print(X_train.shape)\n",
    "print(y_train.shape)\n",
    "print(X_test.shape)\n",
    "print(y_test.shape)"
   ]
  },
  {
   "cell_type": "code",
   "execution_count": 7,
   "metadata": {},
   "outputs": [
    {
     "data": {
      "text/plain": [
       "<matplotlib.axes._subplots.AxesSubplot at 0x28a31295390>"
      ]
     },
     "execution_count": 7,
     "metadata": {},
     "output_type": "execute_result"
    },
    {
     "data": {
      "image/png": "[encoded data removed]",
      "text/plain": [
       "<Figure size 432x288 with 1 Axes>"
      ]
     },
     "metadata": {},
     "output_type": "display_data"
    }
   ],
   "source": [
    "sns.countplot(y_train)"
   ]
  },
  {
   "cell_type": "code",
   "execution_count": 8,
   "metadata": {},
   "outputs": [
    {
     "data": {
      "text/plain": [
       "<matplotlib.axes._subplots.AxesSubplot at 0x28a315a3518>"
      ]
     },
     "execution_count": 8,
     "metadata": {},
     "output_type": "execute_result"
    },
    {
     "data": {
      "image/png": "[encoded data removed]",
      "text/plain": [
       "<Figure size 432x288 with 1 Axes>"
      ]
     },
     "metadata": {},
     "output_type": "display_data"
    }
   ],
   "source": [
    "sns.countplot(y_test)"
   ]
  },
  {
   "cell_type": "markdown",
   "metadata": {},
   "source": [
    "### 1. Lin. Reg, only one window"
   ]
  },
  {
   "cell_type": "code",
   "execution_count": 12,
   "metadata": {},
   "outputs": [
    {
     "name": "stdout",
     "output_type": "stream",
     "text": [
      "Wall time: 42.9 ms\n"
     ]
    }
   ],
   "source": [
    "%%time\n",
    "model1 = LogisticRegression()\n",
    "model1.fit(X_train, y_train)"
   ]
  },
  {
   "cell_type": "code",
   "execution_count": 13,
   "metadata": {},
   "outputs": [
    {
     "name": "stdout",
     "output_type": "stream",
     "text": [
      "\n",
      "Train set result: \n",
      "             precision    recall  f1-score   support\n",
      "\n",
      "        0.0       0.00      0.00      0.00      1058\n",
      "        1.0       0.56      0.91      0.69      7514\n",
      "        2.0       0.80      0.40      0.53      7278\n",
      "\n",
      "avg / total       0.63      0.61      0.57     15850\n",
      "\n",
      "Confussion matrix: \n",
      " [[   0  984   74]\n",
      " [   0 6855  659]\n",
      " [   0 4397 2881]]\n",
      "\n",
      "Accuracy on train set:  0.6142586750788643\n",
      "\n",
      "Train set result: \n",
      "             precision    recall  f1-score   support\n",
      "\n",
      "        0.0       0.00      0.00      0.00       314\n",
      "        1.0       0.57      0.90      0.70      3465\n",
      "        2.0       0.81      0.44      0.57      3576\n",
      "\n",
      "avg / total       0.67      0.64      0.61      7355\n",
      "\n",
      "Confussion matrix: \n",
      " [[   0  298   16]\n",
      " [   0 3124  341]\n",
      " [   0 2016 1560]]\n",
      "\n",
      "Accuracy on train set:  0.6368456832087016\n"
     ]
    },
    {
     "name": "stderr",
     "output_type": "stream",
     "text": [
      "C:\\My_programs\\Miniconda3\\lib\\site-packages\\sklearn\\metrics\\classification.py:1135: UndefinedMetricWarning: Precision and F-score are ill-defined and being set to 0.0 in labels with no predicted samples.\n",
      "  'precision', 'predicted', average, warn_for)\n",
      "C:\\My_programs\\Miniconda3\\lib\\site-packages\\sklearn\\metrics\\classification.py:1135: UndefinedMetricWarning: Precision and F-score are ill-defined and being set to 0.0 in labels with no predicted samples.\n",
      "  'precision', 'predicted', average, warn_for)\n"
     ]
    }
   ],
   "source": [
    "y_predict = model1.predict(X_train)\n",
    "\n",
    "print(\"\\nTrain set result: \")\n",
    "print(metrics.classification_report(y_train, y_predict))\n",
    "print(\"Confussion matrix: \\n\", metrics.confusion_matrix(y_train, y_predict))\n",
    "\n",
    "accuracy = metrics.accuracy_score(y_train, y_predict)\n",
    "print(\"\\nAccuracy on train set: \", accuracy)\n",
    "\n",
    "y_predict = model1.predict(X_test)\n",
    "\n",
    "print(\"\\nTrain set result: \")\n",
    "print(metrics.classification_report(y_test, y_predict))\n",
    "print(\"Confussion matrix: \\n\", metrics.confusion_matrix(y_test, y_predict))\n",
    "\n",
    "accuracy = metrics.accuracy_score(y_test, y_predict)\n",
    "print(\"\\nAccuracy on train set: \", accuracy)"
   ]
  },
  {
   "cell_type": "markdown",
   "metadata": {},
   "source": [
    "### 2. Lin. Reg, several windows features for one window"
   ]
  },
  {
   "cell_type": "code",
   "execution_count": 14,
   "metadata": {},
   "outputs": [],
   "source": [
    "X_train, y_train = prepare_data.load_stat_features_others_windows(train_patient_list,\n",
    "                                                                 file_name=file_name,\n",
    "                                                                 n_others_windows=16)\n",
    "\n",
    "X_test, y_test = prepare_data.load_stat_features_others_windows(test_patient_list, \n",
    "                                                                file_name=file_name, \n",
    "                                                                n_others_windows=16)"
   ]
  },
  {
   "cell_type": "code",
   "execution_count": 15,
   "metadata": {},
   "outputs": [
    {
     "name": "stdout",
     "output_type": "stream",
     "text": [
      "(15354, 51)\n",
      "(15354,)\n",
      "(7131, 51)\n",
      "(7131,)\n"
     ]
    }
   ],
   "source": [
    "print(X_train.shape)\n",
    "print(y_train.shape)\n",
    "print(X_test.shape)\n",
    "print(y_test.shape)"
   ]
  },
  {
   "cell_type": "code",
   "execution_count": 16,
   "metadata": {},
   "outputs": [
    {
     "data": {
      "text/plain": [
       "LogisticRegression(C=1.0, class_weight=None, dual=False, fit_intercept=True,\n",
       "          intercept_scaling=1, max_iter=100, multi_class='ovr', n_jobs=1,\n",
       "          penalty='l2', random_state=None, solver='liblinear', tol=0.0001,\n",
       "          verbose=0, warm_start=False)"
      ]
     },
     "execution_count": 16,
     "metadata": {},
     "output_type": "execute_result"
    }
   ],
   "source": [
    "model3 = LogisticRegression()\n",
    "model3.fit(X_train, y_train)"
   ]
  },
  {
   "cell_type": "code",
   "execution_count": 17,
   "metadata": {},
   "outputs": [
    {
     "name": "stdout",
     "output_type": "stream",
     "text": [
      "\n",
      "Train set result: \n",
      "             precision    recall  f1-score   support\n",
      "\n",
      "        0.0       0.00      0.00      0.00      1058\n",
      "        1.0       0.63      0.86      0.73      7514\n",
      "        2.0       0.77      0.59      0.67      6782\n",
      "\n",
      "avg / total       0.65      0.68      0.65     15354\n",
      "\n",
      "Confussion matrix: \n",
      " [[   0  924  134]\n",
      " [   0 6459 1055]\n",
      " [   0 2803 3979]]\n",
      "\n",
      "Accuracy on train set:  0.6798228474664583\n",
      "\n",
      "Test set result: \n",
      "             precision    recall  f1-score   support\n",
      "\n",
      "        0.0       0.00      0.00      0.00       314\n",
      "        1.0       0.67      0.84      0.75      3457\n",
      "        2.0       0.80      0.66      0.72      3360\n",
      "\n",
      "avg / total       0.70      0.72      0.70      7131\n",
      "\n",
      "Confussion matrix: \n",
      " [[   0  290   24]\n",
      " [   0 2915  542]\n",
      " [   0 1146 2214]]\n",
      "\n",
      "Accuracy on test set:  0.7192539615762166\n"
     ]
    },
    {
     "name": "stderr",
     "output_type": "stream",
     "text": [
      "C:\\My_programs\\Miniconda3\\lib\\site-packages\\sklearn\\metrics\\classification.py:1135: UndefinedMetricWarning: Precision and F-score are ill-defined and being set to 0.0 in labels with no predicted samples.\n",
      "  'precision', 'predicted', average, warn_for)\n",
      "C:\\My_programs\\Miniconda3\\lib\\site-packages\\sklearn\\metrics\\classification.py:1135: UndefinedMetricWarning: Precision and F-score are ill-defined and being set to 0.0 in labels with no predicted samples.\n",
      "  'precision', 'predicted', average, warn_for)\n"
     ]
    }
   ],
   "source": [
    "y_predict = model3.predict(X_train)\n",
    "\n",
    "print(\"\\nTrain set result: \")\n",
    "print(metrics.classification_report(y_train, y_predict))\n",
    "print(\"Confussion matrix: \\n\", metrics.confusion_matrix(y_train, y_predict))\n",
    "\n",
    "accuracy = metrics.accuracy_score(y_train, y_predict)\n",
    "print(\"\\nAccuracy on train set: \", accuracy)\n",
    "\n",
    "y_predict = model3.predict(X_test)\n",
    "\n",
    "print(\"\\nTest set result: \")\n",
    "print(metrics.classification_report(y_test, y_predict))\n",
    "print(\"Confussion matrix: \\n\", metrics.confusion_matrix(y_test, y_predict))\n",
    "\n",
    "accuracy = metrics.accuracy_score(y_test, y_predict)\n",
    "print(\"\\nAccuracy on test set: \", accuracy)"
   ]
  },
  {
   "cell_type": "markdown",
   "metadata": {},
   "source": [
    "### The problem is imbalanced classes "
   ]
  },
  {
   "cell_type": "markdown",
   "metadata": {},
   "source": [
    "## OVERSAMPLING"
   ]
  },
  {
   "cell_type": "code",
   "execution_count": 13,
   "metadata": {},
   "outputs": [
    {
     "name": "stdout",
     "output_type": "stream",
     "text": [
      "6661.0\n",
      "1058.0\n",
      "7511.0\n"
     ]
    }
   ],
   "source": [
    "train_size = y_train.shape[0]\n",
    "\n",
    "awake = np.sum(y_train[y_train == 2]) / 2\n",
    "rem = np.sum(y_train[y_train == 0] + 1)\n",
    "no_rem = np.sum(y_train[y_train == 1])\n",
    "\n",
    "\n",
    "print(awake)\n",
    "print(rem)\n",
    "print(no_rem)"
   ]
  },
  {
   "cell_type": "code",
   "execution_count": 14,
   "metadata": {},
   "outputs": [
    {
     "name": "stdout",
     "output_type": "stream",
     "text": [
      "0.43736047275114903\n",
      "0.06946815495732107\n",
      "0.49317137229152985\n"
     ]
    }
   ],
   "source": [
    "print(awake / train_size)\n",
    "print(rem / train_size)\n",
    "print(no_rem / train_size)"
   ]
  },
  {
   "cell_type": "code",
   "execution_count": 15,
   "metadata": {},
   "outputs": [],
   "source": [
    "def n_repeats(y):\n",
    "    train_size = y.shape[0]\n",
    "    repeats = np.zeros(y.shape)\n",
    "    \n",
    "    awake = np.sum(y_train[y_train == 2]) / 2\n",
    "    rem = np.sum(y_train[y_train == 0] + 1)\n",
    "    no_rem = np.sum(y_train[y_train == 1])\n",
    "    \n",
    "    repeats[y == 2] = 1\n",
    "    repeats[y == 0] = no_rem // rem\n",
    "    repeats[y == 1] = 1\n",
    "    \n",
    "    return repeats.astype(int)"
   ]
  },
  {
   "cell_type": "code",
   "execution_count": 30,
   "metadata": {},
   "outputs": [],
   "source": [
    "repeats = n_repeats(y_train)"
   ]
  },
  {
   "cell_type": "code",
   "execution_count": 31,
   "metadata": {},
   "outputs": [],
   "source": [
    "y_train = np.repeat(y_train, repeats, axis=0)\n",
    "X_train = np.repeat(X_train, repeats, axis=0)"
   ]
  },
  {
   "cell_type": "code",
   "execution_count": 32,
   "metadata": {},
   "outputs": [
    {
     "name": "stdout",
     "output_type": "stream",
     "text": [
      "(22198,)\n",
      "(22198, 3)\n"
     ]
    }
   ],
   "source": [
    "print(y_train.shape)\n",
    "print(X_train.shape)"
   ]
  },
  {
   "cell_type": "code",
   "execution_count": 33,
   "metadata": {},
   "outputs": [
    {
     "data": {
      "text/plain": [
       "<matplotlib.axes._subplots.AxesSubplot at 0x1b24dea9cf8>"
      ]
     },
     "execution_count": 33,
     "metadata": {},
     "output_type": "execute_result"
    },
    {
     "data": {
      "image/png": "[encoded data removed]",
      "text/plain": [
       "<Figure size 432x288 with 1 Axes>"
      ]
     },
     "metadata": {},
     "output_type": "display_data"
    }
   ],
   "source": [
    "sns.countplot(y_train)"
   ]
  },
  {
   "cell_type": "markdown",
   "metadata": {},
   "source": [
    "### 3. Lin. Reg, only one window"
   ]
  },
  {
   "cell_type": "code",
   "execution_count": 34,
   "metadata": {},
   "outputs": [
    {
     "name": "stdout",
     "output_type": "stream",
     "text": [
      "Wall time: 61.8 ms\n"
     ]
    }
   ],
   "source": [
    "%%time\n",
    "model1 = LogisticRegression(C=0.1)\n",
    "model1.fit(X_train, y_train)"
   ]
  },
  {
   "cell_type": "code",
   "execution_count": 35,
   "metadata": {},
   "outputs": [
    {
     "name": "stdout",
     "output_type": "stream",
     "text": [
      "\n",
      "Train set result: \n",
      "             precision    recall  f1-score   support\n",
      "\n",
      "        0.0       0.40      0.76      0.52      7406\n",
      "        1.0       0.36      0.18      0.24      7514\n",
      "        2.0       0.70      0.40      0.51      7278\n",
      "\n",
      "avg / total       0.48      0.45      0.42     22198\n",
      "\n",
      "Confussion matrix: \n",
      " [[5656 1176  574]\n",
      " [5491 1345  678]\n",
      " [3096 1241 2941]]\n",
      "\n",
      "Accuracy on train set:  0.44787818722407424\n",
      "\n",
      "Train set result: \n",
      "             precision    recall  f1-score   support\n",
      "\n",
      "        0.0       0.06      0.80      0.11       314\n",
      "        1.0       0.53      0.17      0.26      3465\n",
      "        2.0       0.81      0.45      0.58      3576\n",
      "\n",
      "avg / total       0.65      0.33      0.41      7355\n",
      "\n",
      "Confussion matrix: \n",
      " [[ 250   47   17]\n",
      " [2522  597  346]\n",
      " [1495  485 1596]]\n",
      "\n",
      "Accuracy on train set:  0.3321549966009517\n"
     ]
    }
   ],
   "source": [
    "y_predict = model1.predict(X_train)\n",
    "\n",
    "print(\"\\nTrain set result: \")\n",
    "print(metrics.classification_report(y_train, y_predict))\n",
    "print(\"Confussion matrix: \\n\", metrics.confusion_matrix(y_train, y_predict))\n",
    "\n",
    "accuracy = metrics.accuracy_score(y_train, y_predict)\n",
    "print(\"\\nAccuracy on train set: \", accuracy)\n",
    "\n",
    "y_predict = model1.predict(X_test)\n",
    "\n",
    "print(\"\\nTrain set result: \")\n",
    "print(metrics.classification_report(y_test, y_predict))\n",
    "print(\"Confussion matrix: \\n\", metrics.confusion_matrix(y_test, y_predict))\n",
    "\n",
    "accuracy = metrics.accuracy_score(y_test, y_predict)\n",
    "print(\"\\nAccuracy on train set: \", accuracy)"
   ]
  },
  {
   "cell_type": "markdown",
   "metadata": {},
   "source": [
    "f1 = 0.41, acc = 0.3321,"
   ]
  },
  {
   "cell_type": "markdown",
   "metadata": {},
   "source": [
    "### 4. Lin. Reg, several windows features for one window"
   ]
  },
  {
   "cell_type": "code",
   "execution_count": 40,
   "metadata": {},
   "outputs": [
    {
     "name": "stdout",
     "output_type": "stream",
     "text": [
      "(21206, 99)\n",
      "(21206,)\n",
      "(6907, 99)\n",
      "(6907,)\n"
     ]
    },
    {
     "data": {
      "image/png": "[encoded data removed]",
      "text/plain": [
       "<Figure size 432x288 with 1 Axes>"
      ]
     },
     "metadata": {},
     "output_type": "display_data"
    }
   ],
   "source": [
    "X_train, y_train = prepare_data.load_stat_features_others_windows(train_patient_list,\n",
    "                                                                 file_name=file_name,\n",
    "                                                                 n_others_windows=32)\n",
    "\n",
    "X_test, y_test = prepare_data.load_stat_features_others_windows(test_patient_list, \n",
    "                                                                file_name=file_name, \n",
    "                                                                n_others_windows=32)\n",
    "\n",
    "repeats = n_repeats(y_train)\n",
    "y_train = np.repeat(y_train, repeats, axis=0)\n",
    "X_train = np.repeat(X_train, repeats, axis=0)\n",
    "sns.countplot(y_train)\n",
    "\n",
    "print(X_train.shape)\n",
    "print(y_train.shape)\n",
    "print(X_test.shape)\n",
    "print(y_test.shape)"
   ]
  },
  {
   "cell_type": "code",
   "execution_count": null,
   "metadata": {},
   "outputs": [],
   "source": [
    "#Y_train = np_utils.to_categorical(y_train, 5)\n",
    "#print(Y_train.shape)\n",
    "#Y_test = np_utils.to_categorical(y_test, 5)\n",
    "#print(Y_test.shape)"
   ]
  },
  {
   "cell_type": "code",
   "execution_count": 41,
   "metadata": {},
   "outputs": [
    {
     "name": "stdout",
     "output_type": "stream",
     "text": [
      "Wall time: 1.38 s\n"
     ]
    }
   ],
   "source": [
    "%%time\n",
    "model3 = LogisticRegression()\n",
    "model3.fit(X_train, y_train)"
   ]
  },
  {
   "cell_type": "code",
   "execution_count": 42,
   "metadata": {},
   "outputs": [
    {
     "name": "stdout",
     "output_type": "stream",
     "text": [
      "\n",
      "Train set result: \n",
      "             precision    recall  f1-score   support\n",
      "\n",
      "        0.0       0.52      0.58      0.55      7406\n",
      "        1.0       0.49      0.50      0.50      7497\n",
      "        2.0       0.69      0.57      0.62      6303\n",
      "\n",
      "avg / total       0.56      0.55      0.55     21206\n",
      "\n",
      "Confussion matrix: \n",
      " [[4277 2422  707]\n",
      " [2795 3783  919]\n",
      " [1202 1523 3578]]\n",
      "\n",
      "Accuracy on train set:  0.5488069414316703\n",
      "\n",
      "Test set result: \n",
      "             precision    recall  f1-score   support\n",
      "\n",
      "        0.0       0.07      0.46      0.12       312\n",
      "        1.0       0.70      0.50      0.58      3446\n",
      "        2.0       0.82      0.62      0.71      3149\n",
      "\n",
      "avg / total       0.73      0.55      0.62      6907\n",
      "\n",
      "Confussion matrix: \n",
      " [[ 145  152   15]\n",
      " [1315 1726  405]\n",
      " [ 601  586 1962]]\n",
      "\n",
      "Accuracy on test set:  0.5549442594469379\n"
     ]
    }
   ],
   "source": [
    "y_predict = model3.predict(X_train)\n",
    "\n",
    "print(\"\\nTrain set result: \")\n",
    "print(metrics.classification_report(y_train, y_predict))\n",
    "print(\"Confussion matrix: \\n\", metrics.confusion_matrix(y_train, y_predict))\n",
    "\n",
    "accuracy = metrics.accuracy_score(y_train, y_predict)\n",
    "print(\"\\nAccuracy on train set: \", accuracy)\n",
    "\n",
    "y_predict = model3.predict(X_test)\n",
    "\n",
    "print(\"\\nTest set result: \")\n",
    "print(metrics.classification_report(y_test, y_predict))\n",
    "print(\"Confussion matrix: \\n\", metrics.confusion_matrix(y_test, y_predict))\n",
    "\n",
    "accuracy = metrics.accuracy_score(y_test, y_predict)\n",
    "print(\"\\nAccuracy on test set: \", accuracy)"
   ]
  },
  {
   "cell_type": "markdown",
   "metadata": {},
   "source": [
    "f1 = 0.60, acc = 0.5387, 16 windows\n",
    "\n",
    "f1 = 0.62, acc = 0.5549, 32 windows"
   ]
  },
  {
   "cell_type": "markdown",
   "metadata": {},
   "source": [
    "### 5. GradientBoostingClassifier, several windows features for one window"
   ]
  },
  {
   "cell_type": "code",
   "execution_count": 45,
   "metadata": {},
   "outputs": [
    {
     "name": "stdout",
     "output_type": "stream",
     "text": [
      "Wall time: 42.7 s\n"
     ]
    }
   ],
   "source": [
    "%%time\n",
    "model4 = GradientBoostingClassifier(n_estimators=30, max_depth=6)\n",
    "model4.fit(X_train, y_train)"
   ]
  },
  {
   "cell_type": "code",
   "execution_count": 46,
   "metadata": {},
   "outputs": [
    {
     "name": "stdout",
     "output_type": "stream",
     "text": [
      "\n",
      "Train set result: \n",
      "             precision    recall  f1-score   support\n",
      "\n",
      "        0.0       0.77      0.93      0.84      7406\n",
      "        1.0       0.72      0.75      0.73      7497\n",
      "        2.0       0.85      0.60      0.70      6303\n",
      "\n",
      "avg / total       0.78      0.77      0.76     21206\n",
      "\n",
      "Confussion matrix: \n",
      " [[6895  441   70]\n",
      " [1304 5608  585]\n",
      " [ 744 1777 3782]]\n",
      "\n",
      "Accuracy on train set:  0.7679430349900972\n",
      "\n",
      "Test set result: \n",
      "             precision    recall  f1-score   support\n",
      "\n",
      "        0.0       0.07      0.29      0.12       312\n",
      "        1.0       0.68      0.66      0.67      3446\n",
      "        2.0       0.83      0.61      0.70      3149\n",
      "\n",
      "avg / total       0.72      0.62      0.66      6907\n",
      "\n",
      "Confussion matrix: \n",
      " [[  90  211   11]\n",
      " [ 791 2268  387]\n",
      " [ 360  869 1920]]\n",
      "\n",
      "Accuracy on test set:  0.6193716519472998\n"
     ]
    }
   ],
   "source": [
    "y_predict = model4.predict(X_train)\n",
    "\n",
    "print(\"\\nTrain set result: \")\n",
    "print(metrics.classification_report(y_train, y_predict))\n",
    "print(\"Confussion matrix: \\n\", metrics.confusion_matrix(y_train, y_predict))\n",
    "\n",
    "accuracy = metrics.accuracy_score(y_train, y_predict)\n",
    "print(\"\\nAccuracy on train set: \", accuracy)\n",
    "\n",
    "y_predict = model4.predict(X_test)\n",
    "\n",
    "print(\"\\nTest set result: \")\n",
    "print(metrics.classification_report(y_test, y_predict))\n",
    "print(\"Confussion matrix: \\n\", metrics.confusion_matrix(y_test, y_predict))\n",
    "\n",
    "accuracy = metrics.accuracy_score(y_test, y_predict)\n",
    "print(\"\\nAccuracy on test set: \", accuracy)"
   ]
  },
  {
   "cell_type": "markdown",
   "metadata": {},
   "source": [
    "f1-score = 0.67, acc = 0.6452, n_estimators=30, max_depth=6, 32 windows\n",
    "\n",
    "f1-score = 0.66, acc = 0.6193, n_estimators=30, max_depth=5, 32 windows"
   ]
  },
  {
   "cell_type": "markdown",
   "metadata": {},
   "source": [
    "### 6. SVM, several windows features for one window"
   ]
  },
  {
   "cell_type": "code",
   "execution_count": null,
   "metadata": {},
   "outputs": [],
   "source": [
    "%%time\n",
    "model6 = SVC(C=0.5)\n",
    "model6.fit(X_train, y_train)"
   ]
  },
  {
   "cell_type": "code",
   "execution_count": null,
   "metadata": {},
   "outputs": [],
   "source": [
    "y_predict = model6.predict(X_train)\n",
    "\n",
    "print(\"\\nTrain set result: \")\n",
    "print(metrics.classification_report(y_train, y_predict))\n",
    "print(\"Confussion matrix: \\n\", metrics.confusion_matrix(y_train, y_predict))\n",
    "\n",
    "accuracy = metrics.accuracy_score(y_train, y_predict)\n",
    "print(\"\\nAccuracy on train set: \", accuracy)\n",
    "\n",
    "y_predict = model6.predict(X_test)\n",
    "\n",
    "print(\"\\nTest set result: \")\n",
    "print(metrics.classification_report(y_test, y_predict))\n",
    "print(\"Confussion matrix: \\n\", metrics.confusion_matrix(y_test, y_predict))\n",
    "\n",
    "accuracy = metrics.accuracy_score(y_test, y_predict)\n",
    "print(\"\\nAccuracy on test set: \", accuracy)"
   ]
  },
  {
   "cell_type": "code",
   "execution_count": null,
   "metadata": {},
   "outputs": [],
   "source": []
  },
  {
   "cell_type": "markdown",
   "metadata": {},
   "source": [
    "### 7. RNN, several windows features for one window"
   ]
  },
  {
   "cell_type": "code",
   "execution_count": 10,
   "metadata": {},
   "outputs": [],
   "source": [
    "\n",
    "from keras.layers import Dense, Flatten, Dropout, LSTM, Bidirectional, Activation, Embedding\n",
    "from keras.layers import Conv1D, MaxPooling1D\n",
    "from keras.models import Sequential\n",
    "from keras.optimizers import SGD, Adam\n",
    "from keras.layers.normalization import BatchNormalization\n",
    "from keras.regularizers import l2\n",
    "\n",
    "from keras.layers import LSTM, Bidirectional\n",
    "\n",
    "from keras.callbacks import ModelCheckpoint, EarlyStopping\n",
    "\n",
    "from keras.utils import np_utils"
   ]
  },
  {
   "cell_type": "code",
   "execution_count": 11,
   "metadata": {},
   "outputs": [],
   "source": [
    "train_patient_list, test_patient_list = train_test_split(patient_list, random_state=152, test_size=0.3)\n",
    "test_patient_list, valid_patient_list = train_test_split(test_patient_list, random_state=151, test_size=0.5)"
   ]
  },
  {
   "cell_type": "code",
   "execution_count": 29,
   "metadata": {},
   "outputs": [
    {
     "name": "stdout",
     "output_type": "stream",
     "text": [
      "(21578, 21, 3)\n",
      "(21578,)\n",
      "(3567, 21, 3)\n",
      "(3567,)\n",
      "(3508, 21, 3)\n",
      "(3508,)\n",
      "One-hot shapes:\n",
      "(21578, 3)\n",
      "(3567, 3)\n",
      "(3508, 3)\n"
     ]
    },
    {
     "data": {
      "image/png": "[encoded data removed]",
      "text/plain": [
       "<Figure size 432x288 with 1 Axes>"
      ]
     },
     "metadata": {},
     "output_type": "display_data"
    }
   ],
   "source": [
    "X_train, y_train = prepare_data.load_stat_features_others_windows_rnn(train_patient_list,\n",
    "                                                                 file_name=file_name,\n",
    "                                                                 n_others_windows=20)\n",
    "\n",
    "X_valid, y_valid = prepare_data.load_stat_features_others_windows_rnn(valid_patient_list, \n",
    "                                                                file_name=file_name, \n",
    "                                                                n_others_windows=20)\n",
    "\n",
    "\n",
    "X_test, y_test = prepare_data.load_stat_features_others_windows_rnn(test_patient_list, \n",
    "                                                                file_name=file_name, \n",
    "                                                                n_others_windows=20)\n",
    "\n",
    "repeats = n_repeats(y_train)\n",
    "y_train = np.repeat(y_train, repeats, axis=0)\n",
    "X_train = np.repeat(X_train, repeats, axis=0)\n",
    "sns.countplot(y_train)\n",
    "\n",
    "print(X_train.shape)\n",
    "print(y_train.shape)\n",
    "print(X_valid.shape)\n",
    "print(y_valid.shape)\n",
    "print(X_test.shape)\n",
    "print(y_test.shape)\n",
    "\n",
    "print(\"One-hot shapes:\")\n",
    "Y_train = np_utils.to_categorical(y_train, 3)\n",
    "print(Y_train.shape)\n",
    "Y_valid = np_utils.to_categorical(y_valid, 3)\n",
    "print(Y_valid.shape)\n",
    "Y_test = np_utils.to_categorical(y_test, 3)\n",
    "print(Y_test.shape)"
   ]
  },
  {
   "cell_type": "code",
   "execution_count": 107,
   "metadata": {},
   "outputs": [
    {
     "name": "stdout",
     "output_type": "stream",
     "text": [
      "_________________________________________________________________\n",
      "Layer (type)                 Output Shape              Param #   \n",
      "=================================================================\n",
      "lstm_7 (LSTM)                (None, 10)                560       \n",
      "_________________________________________________________________\n",
      "dense_7 (Dense)              (None, 3)                 33        \n",
      "=================================================================\n",
      "Total params: 593\n",
      "Trainable params: 593\n",
      "Non-trainable params: 0\n",
      "_________________________________________________________________\n",
      "None\n"
     ]
    }
   ],
   "source": [
    "RNN = Sequential()\n",
    "\n",
    "#model.add(Bidirectional(layer=LSTM(25, dropout=0.2, recurrent_dropout=0.2) ,input_shape=(9, 12)))\n",
    "#model.add(Dense(100, activation=\"relu\"))\n",
    "#model.add(Dropout(0.5))\n",
    "#model.add(Dense(10, activation=\"relu\"))\n",
    "\n",
    "RNN.add(LSTM(10, dropout=0.1, recurrent_dropout=0.1, input_shape=(21, 3)))\n",
    "RNN.add(Dense(3, activation=\"softmax\", kernel_initializer=\"glorot_uniform\", kernel_regularizer=l2(0.01)))\n",
    "\n",
    "RNN.compile(loss=\"categorical_crossentropy\", optimizer=\"adam\", metrics=[\"accuracy\"])\n",
    "\n",
    "print(RNN.summary())\n",
    "\n",
    "callbacks = [ModelCheckpoint('RNN_multy_3_weights.hdf5', monitor='val_acc', save_best_only=True), \n",
    "             EarlyStopping(monitor='val_loss', patience=4)]"
   ]
  },
  {
   "cell_type": "code",
   "execution_count": 109,
   "metadata": {},
   "outputs": [
    {
     "name": "stdout",
     "output_type": "stream",
     "text": [
      "Train on 21578 samples, validate on 3567 samples\n",
      "Epoch 1/10\n",
      "21578/21578 [==============================] - 56s 3ms/step - loss: 1.0275 - acc: 0.4620 - val_loss: 0.9259 - val_acc: 0.6095\n",
      "Epoch 2/10\n",
      "21578/21578 [==============================] - 35s 2ms/step - loss: 0.9802 - acc: 0.4914 - val_loss: 0.9245 - val_acc: 0.6431\n",
      "Epoch 3/10\n",
      "21578/21578 [==============================] - 78s 4ms/step - loss: 0.9715 - acc: 0.5030 - val_loss: 0.9036 - val_acc: 0.5357\n",
      "Epoch 4/10\n",
      "21578/21578 [==============================] - 36s 2ms/step - loss: 0.9648 - acc: 0.5057 - val_loss: 0.9516 - val_acc: 0.3661\n",
      "Epoch 5/10\n",
      "21578/21578 [==============================] - 35s 2ms/step - loss: 0.9603 - acc: 0.5079 - val_loss: 0.9410 - val_acc: 0.4460\n",
      "Epoch 6/10\n",
      "21578/21578 [==============================] - 36s 2ms/step - loss: 0.9552 - acc: 0.5108 - val_loss: 0.9461 - val_acc: 0.3981\n",
      "Epoch 7/10\n",
      "21578/21578 [==============================] - 39s 2ms/step - loss: 0.9526 - acc: 0.5152 - val_loss: 0.9218 - val_acc: 0.4707\n",
      "Wall time: 5min 16s\n"
     ]
    },
    {
     "data": {
      "text/plain": [
       "<keras.callbacks.History at 0x1b2937aaa20>"
      ]
     },
     "execution_count": 109,
     "metadata": {},
     "output_type": "execute_result"
    }
   ],
   "source": [
    "%%time\n",
    "\n",
    "RNN.fit(X_train, Y_train,\n",
    "       shuffle=True,\n",
    "       batch_size=32, \n",
    "       epochs=10, \n",
    "       validation_data=(X_valid, Y_valid), \n",
    "       callbacks=callbacks,\n",
    "       verbose=1)"
   ]
  },
  {
   "cell_type": "markdown",
   "metadata": {},
   "source": [
    "### NN 2"
   ]
  },
  {
   "cell_type": "code",
   "execution_count": 30,
   "metadata": {},
   "outputs": [
    {
     "name": "stdout",
     "output_type": "stream",
     "text": [
      "(21578, 63)\n",
      "(21578,)\n",
      "(3567, 63)\n",
      "(3567,)\n",
      "(3508, 63)\n",
      "(3508,)\n",
      "One-hot shapes\n",
      "(21578, 3)\n",
      "(3567, 3)\n",
      "(3508, 3)\n"
     ]
    },
    {
     "data": {
      "image/png": "[encoded data removed]",
      "text/plain": [
       "<Figure size 432x288 with 1 Axes>"
      ]
     },
     "metadata": {},
     "output_type": "display_data"
    }
   ],
   "source": [
    "X_train, y_train = prepare_data.load_stat_features_others_windows(train_patient_list,\n",
    "                                                                 file_name=file_name,\n",
    "                                                                 n_others_windows=20)\n",
    "\n",
    "X_valid, y_valid = prepare_data.load_stat_features_others_windows(valid_patient_list, \n",
    "                                                                file_name=file_name, \n",
    "                                                                n_others_windows=20)\n",
    "\n",
    "\n",
    "X_test, y_test = prepare_data.load_stat_features_others_windows(test_patient_list, \n",
    "                                                                file_name=file_name, \n",
    "                                                                n_others_windows=20)\n",
    "\n",
    "repeats = n_repeats(y_train)\n",
    "y_train = np.repeat(y_train, repeats, axis=0)\n",
    "X_train = np.repeat(X_train, repeats, axis=0)\n",
    "sns.countplot(y_train)\n",
    "\n",
    "print(X_train.shape)\n",
    "print(y_train.shape)\n",
    "print(X_valid.shape)\n",
    "print(y_valid.shape)\n",
    "print(X_test.shape)\n",
    "print(y_test.shape)\n",
    "\n",
    "print(\"One-hot shapes\")\n",
    "Y_train = np_utils.to_categorical(y_train, 3)\n",
    "print(Y_train.shape)\n",
    "Y_valid = np_utils.to_categorical(y_valid, 3)\n",
    "print(Y_valid.shape)\n",
    "Y_test = np_utils.to_categorical(y_test, 3)\n",
    "print(Y_test.shape)"
   ]
  },
  {
   "cell_type": "code",
   "execution_count": 42,
   "metadata": {},
   "outputs": [
    {
     "name": "stdout",
     "output_type": "stream",
     "text": [
      "_________________________________________________________________\n",
      "Layer (type)                 Output Shape              Param #   \n",
      "=================================================================\n",
      "dense_19 (Dense)             (None, 12)                768       \n",
      "_________________________________________________________________\n",
      "dense_20 (Dense)             (None, 8)                 104       \n",
      "_________________________________________________________________\n",
      "dense_21 (Dense)             (None, 3)                 27        \n",
      "=================================================================\n",
      "Total params: 899\n",
      "Trainable params: 899\n",
      "Non-trainable params: 0\n",
      "_________________________________________________________________\n",
      "None\n"
     ]
    }
   ],
   "source": [
    "NN = Sequential()\n",
    "NN.add(Dense(12, input_shape=(63,), activation='relu', kernel_regularizer=l2(0.02)))\n",
    "NN.add(Dense(8, activation='relu', kernel_regularizer=l2(0.02)))\n",
    "NN.add(Dense(3, activation='softmax', kernel_regularizer=l2(0.02)))\n",
    "\n",
    "NN.compile(loss='categorical_crossentropy', optimizer='adam', metrics=['accuracy'])\n",
    "\n",
    "callbacks = [ModelCheckpoint('NN2_multy_3_weights.model',\n",
    "                                monitor='val_loss',\n",
    "                                verbose=1,\n",
    "                                save_best_only=True)]\n",
    "\n",
    "print(NN.summary())"
   ]
  },
  {
   "cell_type": "code",
   "execution_count": 43,
   "metadata": {},
   "outputs": [
    {
     "name": "stdout",
     "output_type": "stream",
     "text": [
      "Train on 21578 samples, validate on 3567 samples\n",
      "Epoch 1/30\n",
      "21578/21578 [==============================] - 4s 187us/step - loss: 1.3230 - acc: 0.4619 - val_loss: 0.9733 - val_acc: 0.6333\n",
      "\n",
      "Epoch 00001: val_loss improved from inf to 0.97332, saving model to NN2_multy_3_weights.model\n",
      "Epoch 2/30\n",
      "21578/21578 [==============================] - 3s 157us/step - loss: 1.0158 - acc: 0.5053 - val_loss: 0.9015 - val_acc: 0.6033\n",
      "\n",
      "Epoch 00002: val_loss improved from 0.97332 to 0.90154, saving model to NN2_multy_3_weights.model\n",
      "Epoch 3/30\n",
      "21578/21578 [==============================] - 4s 163us/step - loss: 0.9734 - acc: 0.5065 - val_loss: 0.9242 - val_acc: 0.4951\n",
      "\n",
      "Epoch 00003: val_loss did not improve from 0.90154\n",
      "Epoch 4/30\n",
      "21578/21578 [==============================] - 28s 1ms/step - loss: 0.9641 - acc: 0.5048 - val_loss: 0.9069 - val_acc: 0.4979\n",
      "\n",
      "Epoch 00004: val_loss did not improve from 0.90154\n",
      "Epoch 5/30\n",
      "21578/21578 [==============================] - 6s 295us/step - loss: 0.9603 - acc: 0.5051 - val_loss: 0.8715 - val_acc: 0.5475\n",
      "\n",
      "Epoch 00005: val_loss improved from 0.90154 to 0.87148, saving model to NN2_multy_3_weights.model\n",
      "Epoch 6/30\n",
      "21578/21578 [==============================] - 5s 235us/step - loss: 0.9590 - acc: 0.5092 - val_loss: 0.8794 - val_acc: 0.5882\n",
      "\n",
      "Epoch 00006: val_loss did not improve from 0.87148\n",
      "Epoch 7/30\n",
      "21578/21578 [==============================] - 5s 209us/step - loss: 0.9582 - acc: 0.5095 - val_loss: 0.8840 - val_acc: 0.5175\n",
      "\n",
      "Epoch 00007: val_loss did not improve from 0.87148\n",
      "Epoch 8/30\n",
      "21578/21578 [==============================] - 5s 210us/step - loss: 0.9580 - acc: 0.5081 - val_loss: 0.8981 - val_acc: 0.4858\n",
      "\n",
      "Epoch 00008: val_loss did not improve from 0.87148\n",
      "Epoch 9/30\n",
      "21578/21578 [==============================] - 4s 185us/step - loss: 0.9577 - acc: 0.5065 - val_loss: 0.8931 - val_acc: 0.4976\n",
      "\n",
      "Epoch 00009: val_loss did not improve from 0.87148\n",
      "Epoch 10/30\n",
      "21578/21578 [==============================] - 4s 187us/step - loss: 0.9576 - acc: 0.5098 - val_loss: 0.8904 - val_acc: 0.4878\n",
      "\n",
      "Epoch 00010: val_loss did not improve from 0.87148\n",
      "Epoch 11/30\n",
      "21578/21578 [==============================] - 4s 191us/step - loss: 0.9574 - acc: 0.5068 - val_loss: 0.9004 - val_acc: 0.4710\n",
      "\n",
      "Epoch 00011: val_loss did not improve from 0.87148\n",
      "Epoch 12/30\n",
      "21578/21578 [==============================] - 4s 184us/step - loss: 0.9567 - acc: 0.5096 - val_loss: 0.8752 - val_acc: 0.5767\n",
      "\n",
      "Epoch 00012: val_loss did not improve from 0.87148\n",
      "Epoch 13/30\n",
      "21578/21578 [==============================] - 4s 189us/step - loss: 0.9571 - acc: 0.5055 - val_loss: 0.8928 - val_acc: 0.5699\n",
      "\n",
      "Epoch 00013: val_loss did not improve from 0.87148\n",
      "Epoch 14/30\n",
      "21578/21578 [==============================] - 4s 173us/step - loss: 0.9573 - acc: 0.5063 - val_loss: 0.8870 - val_acc: 0.6002\n",
      "\n",
      "Epoch 00014: val_loss did not improve from 0.87148\n",
      "Epoch 15/30\n",
      "21578/21578 [==============================] - 4s 172us/step - loss: 0.9572 - acc: 0.5068 - val_loss: 0.8786 - val_acc: 0.6462\n",
      "\n",
      "Epoch 00015: val_loss did not improve from 0.87148\n",
      "Epoch 16/30\n",
      "21578/21578 [==============================] - 29s 1ms/step - loss: 0.9572 - acc: 0.5068 - val_loss: 0.8923 - val_acc: 0.5660\n",
      "\n",
      "Epoch 00016: val_loss did not improve from 0.87148\n",
      "Epoch 17/30\n",
      "21578/21578 [==============================] - 13s 581us/step - loss: 0.9570 - acc: 0.5068 - val_loss: 0.8643 - val_acc: 0.6653\n",
      "\n",
      "Epoch 00017: val_loss improved from 0.87148 to 0.86434, saving model to NN2_multy_3_weights.model\n",
      "Epoch 18/30\n",
      "21578/21578 [==============================] - 6s 261us/step - loss: 0.9567 - acc: 0.5089 - val_loss: 0.8969 - val_acc: 0.4819\n",
      "\n",
      "Epoch 00018: val_loss did not improve from 0.86434\n",
      "Epoch 19/30\n",
      "21578/21578 [==============================] - 5s 240us/step - loss: 0.9569 - acc: 0.5070 - val_loss: 0.8953 - val_acc: 0.5178\n",
      "\n",
      "Epoch 00019: val_loss did not improve from 0.86434\n",
      "Epoch 20/30\n",
      "21578/21578 [==============================] - 5s 221us/step - loss: 0.9567 - acc: 0.5082 - val_loss: 0.8811 - val_acc: 0.5708\n",
      "\n",
      "Epoch 00020: val_loss did not improve from 0.86434\n",
      "Epoch 21/30\n",
      "21578/21578 [==============================] - 5s 210us/step - loss: 0.9565 - acc: 0.5074 - val_loss: 0.8775 - val_acc: 0.5733\n",
      "\n",
      "Epoch 00021: val_loss did not improve from 0.86434\n",
      "Epoch 22/30\n",
      "21578/21578 [==============================] - 4s 205us/step - loss: 0.9564 - acc: 0.5092 - val_loss: 0.9011 - val_acc: 0.5307\n",
      "\n",
      "Epoch 00022: val_loss did not improve from 0.86434\n",
      "Epoch 23/30\n",
      "21578/21578 [==============================] - 4s 204us/step - loss: 0.9568 - acc: 0.5095 - val_loss: 0.9011 - val_acc: 0.4858\n",
      "\n",
      "Epoch 00023: val_loss did not improve from 0.86434\n",
      "Epoch 24/30\n",
      "21578/21578 [==============================] - 4s 197us/step - loss: 0.9569 - acc: 0.5076 - val_loss: 0.8846 - val_acc: 0.5234\n",
      "\n",
      "Epoch 00024: val_loss did not improve from 0.86434\n",
      "Epoch 25/30\n",
      "21578/21578 [==============================] - 4s 197us/step - loss: 0.9566 - acc: 0.5118 - val_loss: 0.8917 - val_acc: 0.4954\n",
      "\n",
      "Epoch 00025: val_loss did not improve from 0.86434\n",
      "Epoch 26/30\n",
      "21578/21578 [==============================] - 4s 194us/step - loss: 0.9569 - acc: 0.5098 - val_loss: 0.8794 - val_acc: 0.5542\n",
      "\n",
      "Epoch 00026: val_loss did not improve from 0.86434\n",
      "Epoch 27/30\n",
      "21578/21578 [==============================] - 4s 198us/step - loss: 0.9568 - acc: 0.5079 - val_loss: 0.8975 - val_acc: 0.4987\n",
      "\n",
      "Epoch 00027: val_loss did not improve from 0.86434\n",
      "Epoch 28/30\n",
      "21578/21578 [==============================] - 30s 1ms/step - loss: 0.9566 - acc: 0.5109 - val_loss: 0.8803 - val_acc: 0.5234\n",
      "\n",
      "Epoch 00028: val_loss did not improve from 0.86434\n",
      "Epoch 29/30\n",
      "21578/21578 [==============================] - 10s 478us/step - loss: 0.9567 - acc: 0.5096 - val_loss: 0.8987 - val_acc: 0.4685\n",
      "\n",
      "Epoch 00029: val_loss did not improve from 0.86434\n",
      "Epoch 30/30\n",
      "21578/21578 [==============================] - 7s 303us/step - loss: 0.9564 - acc: 0.5120 - val_loss: 0.8909 - val_acc: 0.5458\n",
      "\n",
      "Epoch 00030: val_loss did not improve from 0.86434\n",
      "Wall time: 3min 41s\n"
     ]
    },
    {
     "data": {
      "text/plain": [
       "<keras.callbacks.History at 0x28a33a9e320>"
      ]
     },
     "execution_count": 43,
     "metadata": {},
     "output_type": "execute_result"
    }
   ],
   "source": [
    "%%time\n",
    "\n",
    "NN.fit(X_train, Y_train,\n",
    "       shuffle=True,\n",
    "       batch_size=32, \n",
    "       epochs=30, \n",
    "       validation_data=(X_valid, Y_valid), \n",
    "       callbacks=callbacks,\n",
    "       verbose=1)"
   ]
  },
  {
   "cell_type": "code",
   "execution_count": 44,
   "metadata": {},
   "outputs": [
    {
     "name": "stdout",
     "output_type": "stream",
     "text": [
      "3508/3508 [==============================] - 1s 165us/step\n",
      "Test accuracy = 0.48945267958950966\n"
     ]
    }
   ],
   "source": [
    "scores = NN.evaluate(X_test, Y_test)\n",
    "print(\"Test accuracy =\", scores[1])"
   ]
  },
  {
   "cell_type": "code",
   "execution_count": 45,
   "metadata": {},
   "outputs": [],
   "source": [
    "y_predict = np.argmax(NN.predict(X_test), axis=1)"
   ]
  },
  {
   "cell_type": "code",
   "execution_count": 46,
   "metadata": {},
   "outputs": [
    {
     "data": {
      "text/plain": [
       "0.48945267958950966"
      ]
     },
     "execution_count": 46,
     "metadata": {},
     "output_type": "execute_result"
    }
   ],
   "source": [
    "metrics.f1_score(y_test, y_predict, average='micro')  "
   ]
  },
  {
   "cell_type": "code",
   "execution_count": 47,
   "metadata": {},
   "outputs": [
    {
     "data": {
      "text/plain": [
       "0.43281150813724095"
      ]
     },
     "execution_count": 47,
     "metadata": {},
     "output_type": "execute_result"
    }
   ],
   "source": [
    "metrics.f1_score(y_test, y_predict, average='macro')  "
   ]
  },
  {
   "cell_type": "code",
   "execution_count": 48,
   "metadata": {},
   "outputs": [
    {
     "data": {
      "text/plain": [
       "0.5571409726244233"
      ]
     },
     "execution_count": 48,
     "metadata": {},
     "output_type": "execute_result"
    }
   ],
   "source": [
    "metrics.f1_score(y_test, y_predict, average='weighted')  "
   ]
  },
  {
   "cell_type": "code",
   "execution_count": 50,
   "metadata": {},
   "outputs": [
    {
     "name": "stdout",
     "output_type": "stream",
     "text": [
      "\n",
      "Train set result: \n",
      "             precision    recall  f1-score   support\n",
      "\n",
      "        0.0       0.47      0.58      0.52      7406\n",
      "        1.0       0.44      0.42      0.43      7511\n",
      "        2.0       0.72      0.56      0.63      6661\n",
      "\n",
      "avg / total       0.54      0.52      0.52     21578\n",
      "\n",
      "Confussion matrix: \n",
      " [[4312 2485  609]\n",
      " [3522 3147  842]\n",
      " [1379 1561 3721]]\n",
      "\n",
      "Accuracy on train set:  0.5181203077208267\n",
      "\n",
      "Test set result: \n",
      "             precision    recall  f1-score   support\n",
      "\n",
      "        0.0       0.07      0.58      0.13       164\n",
      "        1.0       0.62      0.35      0.45      1756\n",
      "        2.0       0.84      0.63      0.72      1588\n",
      "\n",
      "avg / total       0.69      0.49      0.56      3508\n",
      "\n",
      "Confussion matrix: \n",
      " [[  95   61    8]\n",
      " [ 956  615  185]\n",
      " [ 266  315 1007]]\n",
      "\n",
      "Accuracy on test set:  0.48945267958950966\n"
     ]
    }
   ],
   "source": [
    "y_predict = np.argmax(NN.predict(X_train), axis=1)\n",
    "\n",
    "print(\"\\nTrain set result: \")\n",
    "print(metrics.classification_report(y_train, y_predict))\n",
    "print(\"Confussion matrix: \\n\", metrics.confusion_matrix(y_train, y_predict))\n",
    "\n",
    "accuracy = metrics.accuracy_score(y_train, y_predict)\n",
    "print(\"\\nAccuracy on train set: \", accuracy)\n",
    "\n",
    "y_predict = np.argmax(NN.predict(X_test), axis=1)\n",
    "\n",
    "print(\"\\nTest set result: \")\n",
    "print(metrics.classification_report(y_test, y_predict))\n",
    "print(\"Confussion matrix: \\n\", metrics.confusion_matrix(y_test, y_predict))\n",
    "\n",
    "accuracy = metrics.accuracy_score(y_test, y_predict)\n",
    "print(\"\\nAccuracy on test set: \", accuracy)"
   ]
  },
  {
   "cell_type": "markdown",
   "metadata": {},
   "source": [
    "## Cross validation"
   ]
  },
  {
   "cell_type": "code",
   "execution_count": 118,
   "metadata": {},
   "outputs": [
    {
     "data": {
      "text/plain": [
       "5"
      ]
     },
     "execution_count": 118,
     "metadata": {},
     "output_type": "execute_result"
    }
   ],
   "source": [
    "kf = KFold(n_splits=5, random_state=5, shuffle=True) # Define the split - into 3 folds #5\n",
    "kf.get_n_splits(patient_list) # returns the number of splitting iterations in the cross-validator"
   ]
  },
  {
   "cell_type": "code",
   "execution_count": 119,
   "metadata": {},
   "outputs": [
    {
     "name": "stdout",
     "output_type": "stream",
     "text": [
      "['007', '08a', '09a', '025', '028', '029', '031', '044', '048']\n",
      "['002', '005', '08b', '021', '026', '027', '032', '034', '049']\n",
      "['003', '013', '014', '15b', '020', '022', '035', '036', '045']\n",
      "['09b', '15a', '017', '019', '023', '037', '042', '047', '051']\n",
      "['10a', '011', '016', '018', '030', '033', '038', '040', '043']\n"
     ]
    }
   ],
   "source": [
    "for train_index, test_index in kf.split(patient_list):\n",
    "    #train_patient_list = [patient_list[i] for i in train_index]\n",
    "    test_patient_list = [patient_list[i] for i in test_index]\n",
    "    \n",
    "    print(test_patient_list)"
   ]
  },
  {
   "cell_type": "code",
   "execution_count": 122,
   "metadata": {},
   "outputs": [],
   "source": [
    "n_others_windows = 32"
   ]
  },
  {
   "cell_type": "markdown",
   "metadata": {},
   "source": [
    "### 1. Gradient Boosting Classifier"
   ]
  },
  {
   "cell_type": "code",
   "execution_count": 136,
   "metadata": {},
   "outputs": [
    {
     "name": "stdout",
     "output_type": "stream",
     "text": [
      "(24563, 99)\n",
      "\n",
      "Accuracy on train set:  0.7594349224443269\n",
      "F1 score on train set:  0.7585610311418581\n",
      "             precision    recall  f1-score   support\n",
      "\n",
      "        0.0       0.04      0.13      0.06       200\n",
      "        1.0       0.56      0.67      0.61      1975\n",
      "        2.0       0.78      0.46      0.58      2047\n",
      "\n",
      "avg / total       0.65      0.54      0.57      4222\n",
      "\n",
      "Accuracy on test set:  0.5402652771198484\n",
      "F1 score on test set:  0.5693045823484824\n",
      "(24734, 99)\n",
      "\n",
      "Accuracy on train set:  0.7680116438910003\n",
      "F1 score on train set:  0.7609076267388633\n",
      "             precision    recall  f1-score   support\n",
      "\n",
      "        0.0       0.11      0.38      0.17       269\n",
      "        1.0       0.60      0.57      0.58      2026\n",
      "        2.0       0.80      0.62      0.70      2443\n",
      "\n",
      "avg / total       0.67      0.59      0.62      4738\n",
      "\n",
      "Accuracy on test set:  0.5850569860700717\n",
      "F1 score on test set:  0.6196629051015272\n",
      "(24235, 99)\n",
      "\n",
      "Accuracy on train set:  0.7610068083350526\n",
      "F1 score on train set:  0.7582146083816832\n",
      "             precision    recall  f1-score   support\n",
      "\n",
      "        0.0       0.06      0.12      0.08       270\n",
      "        1.0       0.67      0.71      0.69      2314\n",
      "        2.0       0.73      0.55      0.63      1546\n",
      "\n",
      "avg / total       0.66      0.61      0.63      4130\n",
      "\n",
      "Accuracy on test set:  0.6113801452784504\n",
      "F1 score on test set:  0.6276577359173166\n",
      "(24080, 99)\n",
      "\n",
      "Accuracy on train set:  0.7553571428571428\n",
      "F1 score on train set:  0.7527243587753222\n",
      "             precision    recall  f1-score   support\n",
      "\n",
      "        0.0       0.07      0.22      0.11       259\n",
      "        1.0       0.73      0.64      0.68      2368\n",
      "        2.0       0.81      0.67      0.73      1724\n",
      "\n",
      "avg / total       0.72      0.63      0.67      4351\n",
      "\n",
      "Accuracy on test set:  0.6283612962537348\n",
      "F1 score on test set:  0.6682646314646616\n",
      "(24427, 99)\n",
      "\n",
      "Accuracy on train set:  0.7628853318049699\n",
      "F1 score on train set:  0.7583964267292418\n",
      "             precision    recall  f1-score   support\n",
      "\n",
      "        0.0       0.09      0.17      0.12       372\n",
      "        1.0       0.64      0.64      0.64      2260\n",
      "        2.0       0.75      0.58      0.65      1692\n",
      "\n",
      "avg / total       0.63      0.58      0.60      4324\n",
      "\n",
      "Accuracy on test set:  0.5770120259019427\n",
      "F1 score on test set:  0.6002242544174459\n",
      "\n",
      "Mean accuracy = 0.5884151461248097\n",
      "\n",
      "Mean f1 score = 0.6170228218498867\n",
      "Wall time: 3min 23s\n"
     ]
    }
   ],
   "source": [
    "%%time\n",
    "accuracy_list = []\n",
    "f1_list = []\n",
    "for train_index, test_index in kf.split(patient_list):\n",
    "    train_patient_list = [patient_list[i] for i in train_index]\n",
    "    test_patient_list = [patient_list[i] for i in test_index]\n",
    "    \n",
    "    X_train, y_train = prepare_data.load_stat_features_others_windows(train_patient_list,\n",
    "                                                                      file_name=file_name,\n",
    "                                                                      n_others_windows=n_others_windows)\n",
    "    X_test, y_test = prepare_data.load_stat_features_others_windows(test_patient_list,\n",
    "                                                                    file_name=file_name, \n",
    "                                                                    n_others_windows=n_others_windows)\n",
    "    \n",
    "    \n",
    "    repeats = n_repeats(y_train)\n",
    "    y_train = np.repeat(y_train, repeats, axis=0)\n",
    "    X_train = np.repeat(X_train, repeats, axis=0)\n",
    "    print(X_train.shape)\n",
    "    \n",
    "    model3 = GradientBoostingClassifier(n_estimators=30, max_depth=5)\n",
    "    model3.fit(X_train, y_train)\n",
    "    \n",
    "    y_predict = model3.predict(X_train)\n",
    "    accuracy_train = metrics.accuracy_score(y_train, y_predict)\n",
    "    f1_train = metrics.f1_score(y_train, y_predict, average=\"weighted\")\n",
    "    print(\"\\nAccuracy on train set: \", accuracy_train)\n",
    "    print(\"F1 score on train set: \", f1_train)\n",
    "    \n",
    "    y_predict = model3.predict(X_test)\n",
    "    accuracy = metrics.accuracy_score(y_test, y_predict)\n",
    "    f1_test = metrics.f1_score(y_test, y_predict, average=\"weighted\")\n",
    "    accuracy_list.append(accuracy)\n",
    "    print(metrics.classification_report(y_test, y_predict))\n",
    "    f1_list.append(f1_test)\n",
    "    print(\"Accuracy on test set: \", accuracy)\n",
    "    print(\"F1 score on test set: \", f1_test)\n",
    "    \n",
    "    #print(metrics.classification_report(y_test, y_predict))\n",
    "    #print(test_patient_list)\n",
    "\n",
    "print(\"\\nMean accuracy =\", np.mean(accuracy_list))  \n",
    "print(\"\\nMean f1 score =\", np.mean(f1_list)) "
   ]
  },
  {
   "cell_type": "markdown",
   "metadata": {},
   "source": [
    "f1 = 0.6170, acc = 0.5884, n_estimators=30, max_depth=5"
   ]
  },
  {
   "cell_type": "code",
   "execution_count": null,
   "metadata": {},
   "outputs": [],
   "source": []
  }
 ],
 "metadata": {
  "kernelspec": {
   "display_name": "Python 3",
   "language": "python",
   "name": "python3"
  },
  "language_info": {
   "codemirror_mode": {
    "name": "ipython",
    "version": 3
   },
   "file_extension": ".py",
   "mimetype": "text/x-python",
   "name": "python",
   "nbconvert_exporter": "python",
   "pygments_lexer": "ipython3",
   "version": "3.6.8"
  }
 },
 "nbformat": 4,
 "nbformat_minor": 2
}
