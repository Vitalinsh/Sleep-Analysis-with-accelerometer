{
 "cells": [
  {
   "cell_type": "code",
   "execution_count": 16,
   "metadata": {},
   "outputs": [],
   "source": [
    "import os\n",
    "import numpy as np\n",
    "\n",
    "import prepare_data\n",
    "\n",
    "from sklearn import metrics\n",
    "from sklearn.model_selection import train_test_split\n",
    "\n",
    "from sklearn.linear_model import LogisticRegression\n",
    "from sklearn.ensemble import GradientBoostingClassifier \n",
    "\n",
    "import seaborn as sns"
   ]
  },
  {
   "cell_type": "code",
   "execution_count": 5,
   "metadata": {},
   "outputs": [],
   "source": [
    "data_path = os.path.join(\"statistic_features\", \"stat_features_60s.csv\")\n",
    "patient_list = ['002','003','005','007','08a','08b','09a','09b', '10a','011','013','014','15a','15b','016',\n",
    "            '017','018','019','020','021','022','023','025','026','027','028','029','030','031','032',\n",
    "            '033','034','035','036','037','038','040','042','043','044','045','047','048','049','051']\n",
    "statistics_list=[\"std_x\", \"std_y\", \"std_z\"]"
   ]
  },
  {
   "cell_type": "code",
   "execution_count": 57,
   "metadata": {},
   "outputs": [],
   "source": [
    "train_patient_list, test_patient_list = train_test_split(patient_list, random_state=152, test_size=0.3)"
   ]
  },
  {
   "cell_type": "code",
   "execution_count": 781,
   "metadata": {},
   "outputs": [],
   "source": [
    "#prepare_data.save_statistic_features(patient_list, sorce_path=\"ICHI14_dataset\\data\", \n",
    "#                                         save_path=data_path, window_len=60)"
   ]
  },
  {
   "cell_type": "code",
   "execution_count": 58,
   "metadata": {},
   "outputs": [
    {
     "name": "stdout",
     "output_type": "stream",
     "text": [
      "(15850, 3)\n",
      "(15850,)\n"
     ]
    }
   ],
   "source": [
    "X_train, y_train = prepare_data.load_statistic_features(train_patient_list, \n",
    "                                                        data_path=data_path,\n",
    "                                                        statistics_list=statistics_list)\n",
    "print(X_train.shape)\n",
    "print(y_train.shape)"
   ]
  },
  {
   "cell_type": "code",
   "execution_count": 59,
   "metadata": {},
   "outputs": [
    {
     "name": "stdout",
     "output_type": "stream",
     "text": [
      "(7355, 3)\n",
      "(7355,)\n"
     ]
    }
   ],
   "source": [
    "X_test, y_test = prepare_data.load_statistic_features(test_patient_list,\n",
    "                                                          data_path=data_path,\n",
    "                                                          statistics_list=statistics_list)\n",
    "print(X_test.shape)\n",
    "print(y_test.shape)"
   ]
  },
  {
   "cell_type": "code",
   "execution_count": 12,
   "metadata": {},
   "outputs": [
    {
     "data": {
      "text/plain": [
       "<matplotlib.axes._subplots.AxesSubplot at 0x20fa39fc0f0>"
      ]
     },
     "execution_count": 12,
     "metadata": {},
     "output_type": "execute_result"
    },
    {
     "data": {
      "image/png": "[encoded data removed]",
      "text/plain": [
       "<Figure size 432x288 with 1 Axes>"
      ]
     },
     "metadata": {},
     "output_type": "display_data"
    }
   ],
   "source": [
    "sns.countplot(y_train)"
   ]
  },
  {
   "cell_type": "code",
   "execution_count": 13,
   "metadata": {},
   "outputs": [
    {
     "data": {
      "text/plain": [
       "<matplotlib.axes._subplots.AxesSubplot at 0x20fa3ce3400>"
      ]
     },
     "execution_count": 13,
     "metadata": {},
     "output_type": "execute_result"
    },
    {
     "data": {
      "image/png": "[encoded data removed]",
      "text/plain": [
       "<Figure size 432x288 with 1 Axes>"
      ]
     },
     "metadata": {},
     "output_type": "display_data"
    }
   ],
   "source": [
    "sns.countplot(y_test)"
   ]
  },
  {
   "cell_type": "markdown",
   "metadata": {},
   "source": [
    "### 1. Lin. Reg, only one window"
   ]
  },
  {
   "cell_type": "code",
   "execution_count": 17,
   "metadata": {},
   "outputs": [
    {
     "name": "stdout",
     "output_type": "stream",
     "text": [
      "Wall time: 273 ms\n"
     ]
    }
   ],
   "source": [
    "%%time\n",
    "model1 = LogisticRegression()\n",
    "model1.fit(X_train, y_train)"
   ]
  },
  {
   "cell_type": "code",
   "execution_count": 18,
   "metadata": {
    "scrolled": true
   },
   "outputs": [
    {
     "name": "stdout",
     "output_type": "stream",
     "text": [
      "\n",
      "Train set result: \n",
      "             precision    recall  f1-score   support\n",
      "\n",
      "        0.0       0.64      0.92      0.75      8586\n",
      "        1.0       0.80      0.38      0.51      7264\n",
      "\n",
      "avg / total       0.71      0.67      0.64     15850\n",
      "\n",
      "Confussion matrix: \n",
      " [[7922  664]\n",
      " [4531 2733]]\n",
      "\n",
      "Accuracy on train set:  0.6722397476340694\n",
      "\n",
      "Train set result: \n",
      "             precision    recall  f1-score   support\n",
      "\n",
      "        0.0       0.62      0.92      0.74      3781\n",
      "        1.0       0.82      0.41      0.54      3574\n",
      "\n",
      "avg / total       0.72      0.67      0.64      7355\n",
      "\n",
      "Confussion matrix: \n",
      " [[3465  316]\n",
      " [2119 1455]]\n",
      "\n",
      "Accuracy on train set:  0.6689326988443236\n"
     ]
    }
   ],
   "source": [
    "y_predict = model1.predict(X_train)\n",
    "\n",
    "print(\"\\nTrain set result: \")\n",
    "print(metrics.classification_report(y_train, y_predict))\n",
    "print(\"Confussion matrix: \\n\", metrics.confusion_matrix(y_train, y_predict))\n",
    "\n",
    "accuracy = metrics.accuracy_score(y_train, y_predict)\n",
    "print(\"\\nAccuracy on train set: \", accuracy)\n",
    "\n",
    "y_predict = model1.predict(X_test)\n",
    "\n",
    "print(\"\\nTrain set result: \")\n",
    "print(metrics.classification_report(y_test, y_predict))\n",
    "print(\"Confussion matrix: \\n\", metrics.confusion_matrix(y_test, y_predict))\n",
    "\n",
    "accuracy = metrics.accuracy_score(y_test, y_predict)\n",
    "print(\"\\nAccuracy on train set: \", accuracy)"
   ]
  },
  {
   "cell_type": "markdown",
   "metadata": {},
   "source": [
    "### 2. Lin. Reg, several windows features for one window"
   ]
  },
  {
   "cell_type": "code",
   "execution_count": 60,
   "metadata": {},
   "outputs": [],
   "source": [
    "X_train_new, y_train_new = prepare_data.load_stat_features_others_windows(train_patient_list, \n",
    "                                                                          data_path=data_path, \n",
    "                                                                          n_others_windows=16)\n",
    "X_test_new, y_test_new = prepare_data.load_stat_features_others_windows(test_patient_list, \n",
    "                                                                        data_path=data_path, \n",
    "                                                                        n_others_windows=16)\n"
   ]
  },
  {
   "cell_type": "code",
   "execution_count": 61,
   "metadata": {},
   "outputs": [
    {
     "name": "stdout",
     "output_type": "stream",
     "text": [
      "(15354, 51)\n",
      "(15354,)\n",
      "(7131, 51)\n",
      "(7131,)\n"
     ]
    }
   ],
   "source": [
    "print(X_train_new.shape)\n",
    "print(y_train_new.shape)\n",
    "\n",
    "print(X_test_new.shape)\n",
    "print(y_test_new.shape)"
   ]
  },
  {
   "cell_type": "code",
   "execution_count": 62,
   "metadata": {},
   "outputs": [
    {
     "name": "stdout",
     "output_type": "stream",
     "text": [
      "Wall time: 273 ms\n"
     ]
    }
   ],
   "source": [
    "%%time\n",
    "model3 = LogisticRegression()\n",
    "model3.fit(X_train_new, y_train_new)"
   ]
  },
  {
   "cell_type": "code",
   "execution_count": 63,
   "metadata": {},
   "outputs": [
    {
     "name": "stdout",
     "output_type": "stream",
     "text": [
      "\n",
      "Train set result: \n",
      "             precision    recall  f1-score   support\n",
      "\n",
      "        0.0       0.72      0.89      0.79      8586\n",
      "        1.0       0.79      0.55      0.65      6768\n",
      "\n",
      "avg / total       0.75      0.74      0.73     15354\n",
      "\n",
      "Confussion matrix: \n",
      " [[7614  972]\n",
      " [3020 3748]]\n",
      "\n",
      "Accuracy on train set:  0.7400026051843168\n",
      "\n",
      "Test set result: \n",
      "             precision    recall  f1-score   support\n",
      "\n",
      "        0.0       0.72      0.88      0.80      3773\n",
      "        1.0       0.83      0.62      0.71      3358\n",
      "\n",
      "avg / total       0.77      0.76      0.76      7131\n",
      "\n",
      "Confussion matrix: \n",
      " [[3332  441]\n",
      " [1265 2093]]\n",
      "\n",
      "Accuracy on test set:  0.7607628663581545\n"
     ]
    }
   ],
   "source": [
    "y_predict = model3.predict(X_train_new)\n",
    "\n",
    "print(\"\\nTrain set result: \")\n",
    "print(metrics.classification_report(y_train_new, y_predict))\n",
    "print(\"Confussion matrix: \\n\", metrics.confusion_matrix(y_train_new, y_predict))\n",
    "\n",
    "accuracy = metrics.accuracy_score(y_train_new, y_predict)\n",
    "print(\"\\nAccuracy on train set: \", accuracy)\n",
    "\n",
    "y_predict = model3.predict(X_test_new)\n",
    "\n",
    "print(\"\\nTest set result: \")\n",
    "print(metrics.classification_report(y_test_new, y_predict))\n",
    "print(\"Confussion matrix: \\n\", metrics.confusion_matrix(y_test_new, y_predict))\n",
    "\n",
    "accuracy = metrics.accuracy_score(y_test_new, y_predict)\n",
    "print(\"\\nAccuracy on test set: \", accuracy)"
   ]
  },
  {
   "cell_type": "code",
   "execution_count": 21,
   "metadata": {},
   "outputs": [
    {
     "data": {
      "text/plain": [
       "GradientBoostingClassifier(criterion='friedman_mse', init=None,\n",
       "              learning_rate=0.1, loss='deviance', max_depth=4,\n",
       "              max_features=None, max_leaf_nodes=None,\n",
       "              min_impurity_decrease=0.0, min_impurity_split=None,\n",
       "              min_samples_leaf=1, min_samples_split=2,\n",
       "              min_weight_fraction_leaf=0.0, n_estimators=30,\n",
       "              presort='auto', random_state=None, subsample=1.0, verbose=0,\n",
       "              warm_start=False)"
      ]
     },
     "execution_count": 21,
     "metadata": {},
     "output_type": "execute_result"
    }
   ],
   "source": [
    "%%time\n",
    "model4 = GradientBoostingClassifier(n_estimators=30, max_depth=4)\n",
    "model4.fit(X_train_new, y_train_new)"
   ]
  },
  {
   "cell_type": "code",
   "execution_count": 22,
   "metadata": {},
   "outputs": [
    {
     "name": "stdout",
     "output_type": "stream",
     "text": [
      "\n",
      "Train set result: \n",
      "             precision    recall  f1-score   support\n",
      "\n",
      "        0.0       0.73      0.91      0.81      8586\n",
      "        1.0       0.84      0.57      0.68      6768\n",
      "\n",
      "avg / total       0.78      0.76      0.75     15354\n",
      "\n",
      "Confussion matrix: \n",
      " [[7855  731]\n",
      " [2911 3857]]\n",
      "\n",
      "Accuracy on train set:  0.7627979679562329\n",
      "\n",
      "Test set result: \n",
      "             precision    recall  f1-score   support\n",
      "\n",
      "        0.0       0.71      0.90      0.79      3773\n",
      "        1.0       0.83      0.58      0.68      3358\n",
      "\n",
      "avg / total       0.77      0.75      0.74      7131\n",
      "\n",
      "Confussion matrix: \n",
      " [[3383  390]\n",
      " [1408 1950]]\n",
      "\n",
      "Accuracy on test set:  0.7478614500070117\n"
     ]
    }
   ],
   "source": [
    "y_predict = model4.predict(X_train_new)\n",
    "\n",
    "print(\"\\nTrain set result: \")\n",
    "print(metrics.classification_report(y_train_new, y_predict))\n",
    "print(\"Confussion matrix: \\n\", metrics.confusion_matrix(y_train_new, y_predict))\n",
    "\n",
    "accuracy = metrics.accuracy_score(y_train_new, y_predict)\n",
    "print(\"\\nAccuracy on train set: \", accuracy)\n",
    "\n",
    "y_predict = model4.predict(X_test_new)\n",
    "\n",
    "print(\"\\nTest set result: \")\n",
    "print(metrics.classification_report(y_test_new, y_predict))\n",
    "print(\"Confussion matrix: \\n\", metrics.confusion_matrix(y_test_new, y_predict))\n",
    "\n",
    "accuracy = metrics.accuracy_score(y_test_new, y_predict)\n",
    "print(\"\\nAccuracy on test set: \", accuracy)"
   ]
  },
  {
   "cell_type": "markdown",
   "metadata": {},
   "source": [
    "### 3. RNN"
   ]
  },
  {
   "cell_type": "code",
   "execution_count": 21,
   "metadata": {},
   "outputs": [
    {
     "name": "stderr",
     "output_type": "stream",
     "text": [
      "Using TensorFlow backend.\n"
     ]
    }
   ],
   "source": [
    "from keras.preprocessing import sequence\n",
    "from keras.layers import Dense, Activation, Embedding\n",
    "from keras.layers import LSTM, Bidirectional, Dropout\n",
    "from keras.layers import SpatialDropout1D\n",
    "from keras.models import Sequential\n",
    "\n",
    "from keras.optimizers import SGD, Adam\n",
    "from keras.layers.normalization import BatchNormalization\n",
    "from keras.regularizers import l2\n",
    "\n",
    "from keras.callbacks import ModelCheckpoint, EarlyStopping"
   ]
  },
  {
   "cell_type": "code",
   "execution_count": 22,
   "metadata": {},
   "outputs": [],
   "source": [
    "test_patient_list, valid_patient_list = train_test_split(test_patient_list, random_state=151, test_size=0.5)"
   ]
  },
  {
   "cell_type": "code",
   "execution_count": 26,
   "metadata": {},
   "outputs": [],
   "source": [
    "X_train_new, y_train_new = prepare_data.load_stat_features_others_windows_rnn(train_patient_list, \n",
    "                                                                          data_path=data_path, \n",
    "                                                                          n_others_windows=16)\n",
    "\n",
    "X_test_new, y_test_new = prepare_data.load_stat_features_others_windows_rnn(test_patient_list, \n",
    "                                                                        data_path=data_path, \n",
    "                                                                        n_others_windows=16)\n",
    "\n",
    "X_valid_new, y_valid_new = prepare_data.load_stat_features_others_windows_rnn(valid_patient_list, \n",
    "                                                                        data_path=data_path, \n",
    "                                                                        n_others_windows=16)"
   ]
  },
  {
   "cell_type": "code",
   "execution_count": 27,
   "metadata": {},
   "outputs": [
    {
     "name": "stdout",
     "output_type": "stream",
     "text": [
      "(15354, 17, 3)\n",
      "(15354,)\n",
      "(3595, 17, 3)\n",
      "(3595,)\n",
      "(3536, 17, 3)\n",
      "(3536,)\n"
     ]
    }
   ],
   "source": [
    "print(X_train_new.shape)\n",
    "print(y_train_new.shape)\n",
    "\n",
    "print(X_valid_new.shape)\n",
    "print(y_valid_new.shape)\n",
    "\n",
    "print(X_test_new.shape)\n",
    "print(y_test_new.shape)"
   ]
  },
  {
   "cell_type": "code",
   "execution_count": 43,
   "metadata": {},
   "outputs": [
    {
     "name": "stdout",
     "output_type": "stream",
     "text": [
      "_________________________________________________________________\n",
      "Layer (type)                 Output Shape              Param #   \n",
      "=================================================================\n",
      "lstm_2 (LSTM)                (None, 10)                560       \n",
      "_________________________________________________________________\n",
      "dense_2 (Dense)              (None, 1)                 11        \n",
      "=================================================================\n",
      "Total params: 571\n",
      "Trainable params: 571\n",
      "Non-trainable params: 0\n",
      "_________________________________________________________________\n",
      "None\n"
     ]
    }
   ],
   "source": [
    "RNN = Sequential()\n",
    "\n",
    "RNN.add(LSTM(10, dropout=0.1, recurrent_dropout=0.1, input_shape=(17, 3)))\n",
    "#RNN.add(Bidirectional(layer=LSTM(10, dropout=0.1, recurrent_dropout=0.1) ,input_shape=(17, 3)))\n",
    "RNN.add(Dense(1, activation=\"sigmoid\", kernel_initializer=\"glorot_uniform\", kernel_regularizer=l2(0.01)))\n",
    "\n",
    "RNN.compile(loss=\"binary_crossentropy\", optimizer=\"adam\", metrics=[\"accuracy\"])\n",
    "\n",
    "print(RNN.summary())"
   ]
  },
  {
   "cell_type": "code",
   "execution_count": 44,
   "metadata": {},
   "outputs": [],
   "source": [
    "callbacks = [ModelCheckpoint('saved_models/RNN2_std_16win_weights.hdf5', monitor='val_acc', save_best_only=True), \n",
    "             EarlyStopping(monitor='val_acc', patience=5)]"
   ]
  },
  {
   "cell_type": "code",
   "execution_count": 45,
   "metadata": {},
   "outputs": [
    {
     "name": "stdout",
     "output_type": "stream",
     "text": [
      "Train on 15354 samples, validate on 3595 samples\n",
      "Epoch 1/15\n",
      "15354/15354 [==============================] - 47s 3ms/step - loss: 0.5997 - acc: 0.7043 - val_loss: 0.5328 - val_acc: 0.7555\n",
      "Epoch 2/15\n",
      "15354/15354 [==============================] - 27s 2ms/step - loss: 0.5573 - acc: 0.7363 - val_loss: 0.5248 - val_acc: 0.7552\n",
      "Epoch 3/15\n",
      "15354/15354 [==============================] - 22s 1ms/step - loss: 0.5519 - acc: 0.7398 - val_loss: 0.5248 - val_acc: 0.7502\n",
      "Epoch 4/15\n",
      "15354/15354 [==============================] - 51s 3ms/step - loss: 0.5496 - acc: 0.7380 - val_loss: 0.5205 - val_acc: 0.7561\n",
      "Epoch 5/15\n",
      "15354/15354 [==============================] - 20s 1ms/step - loss: 0.5468 - acc: 0.7399 - val_loss: 0.5207 - val_acc: 0.7569\n",
      "Epoch 6/15\n",
      "15354/15354 [==============================] - 55s 4ms/step - loss: 0.5458 - acc: 0.7403 - val_loss: 0.5195 - val_acc: 0.7591\n",
      "Epoch 7/15\n",
      "15354/15354 [==============================] - 26s 2ms/step - loss: 0.5448 - acc: 0.7421 - val_loss: 0.5185 - val_acc: 0.7561\n",
      "Epoch 8/15\n",
      "15354/15354 [==============================] - 53s 3ms/step - loss: 0.5433 - acc: 0.7431 - val_loss: 0.5183 - val_acc: 0.7624\n",
      "Epoch 9/15\n",
      "15354/15354 [==============================] - 24s 2ms/step - loss: 0.5430 - acc: 0.7412 - val_loss: 0.5157 - val_acc: 0.7591\n",
      "Epoch 10/15\n",
      "15354/15354 [==============================] - 24s 2ms/step - loss: 0.5414 - acc: 0.7422 - val_loss: 0.5220 - val_acc: 0.7502\n",
      "Epoch 11/15\n",
      "15354/15354 [==============================] - 54s 4ms/step - loss: 0.5413 - acc: 0.7423 - val_loss: 0.5182 - val_acc: 0.7569\n",
      "Epoch 12/15\n",
      "15354/15354 [==============================] - 22s 1ms/step - loss: 0.5413 - acc: 0.7423 - val_loss: 0.5199 - val_acc: 0.7502\n",
      "Epoch 13/15\n",
      "15354/15354 [==============================] - 48s 3ms/step - loss: 0.5387 - acc: 0.7441 - val_loss: 0.5188 - val_acc: 0.7552\n",
      "Wall time: 7min 55s\n"
     ]
    },
    {
     "data": {
      "text/plain": [
       "<keras.callbacks.History at 0x20fb0e7b240>"
      ]
     },
     "execution_count": 45,
     "metadata": {},
     "output_type": "execute_result"
    }
   ],
   "source": [
    "%%time\n",
    "\n",
    "RNN.fit(X_train_new, y_train_new,\n",
    "       batch_size=32, \n",
    "       epochs=15, \n",
    "       validation_data=(X_valid_new, y_valid_new), \n",
    "       callbacks=callbacks,\n",
    "       verbose=1)"
   ]
  },
  {
   "cell_type": "code",
   "execution_count": 46,
   "metadata": {},
   "outputs": [
    {
     "name": "stdout",
     "output_type": "stream",
     "text": [
      "3536/3536 [==============================] - 3s 748us/step\n",
      "Test accuracy = 0.7567873303167421\n"
     ]
    }
   ],
   "source": [
    "scores = RNN.evaluate(X_test_new, y_test_new)\n",
    "print(\"Test accuracy =\", scores[1])"
   ]
  },
  {
   "cell_type": "code",
   "execution_count": 47,
   "metadata": {},
   "outputs": [],
   "source": [
    "RNN.save_weights(\"saved_models/RNN2.2_std_16win_weights.hdf5\")"
   ]
  },
  {
   "cell_type": "markdown",
   "metadata": {},
   "source": [
    "### Results of model with best valid acc"
   ]
  },
  {
   "cell_type": "code",
   "execution_count": 48,
   "metadata": {},
   "outputs": [],
   "source": [
    "RNN.load_weights(\"saved_models/RNN2_std_16win_weights.hdf5\")"
   ]
  },
  {
   "cell_type": "code",
   "execution_count": 49,
   "metadata": {},
   "outputs": [
    {
     "name": "stdout",
     "output_type": "stream",
     "text": [
      "3536/3536 [==============================] - 2s 689us/step\n",
      "Test accuracy = 0.7559389140271493\n"
     ]
    }
   ],
   "source": [
    "scores = RNN.evaluate(X_test_new, y_test_new)\n",
    "print(\"Test accuracy =\", scores[1])"
   ]
  },
  {
   "cell_type": "code",
   "execution_count": 50,
   "metadata": {},
   "outputs": [
    {
     "name": "stdout",
     "output_type": "stream",
     "text": [
      "3595/3595 [==============================] - 3s 738us/step\n",
      "Valid accuracy = 0.7624478442280945\n"
     ]
    }
   ],
   "source": [
    "scores = RNN.evaluate(X_valid_new, y_valid_new)\n",
    "print(\"Valid accuracy =\", scores[1])"
   ]
  },
  {
   "cell_type": "code",
   "execution_count": 51,
   "metadata": {},
   "outputs": [
    {
     "name": "stdout",
     "output_type": "stream",
     "text": [
      "15354/15354 [==============================] - 12s 754us/step\n",
      "Train accuracy = 0.74625504757567\n"
     ]
    }
   ],
   "source": [
    "scores = RNN.evaluate(X_train_new, y_train_new)\n",
    "print(\"Train accuracy =\", scores[1])"
   ]
  },
  {
   "cell_type": "markdown",
   "metadata": {},
   "source": [
    "#### Results:\n",
    "\n",
    "simple rnn(10), EarlyStopping = 5, STD-features:\n",
    "\n",
    "    4 windows: max test acc = 0.7419, <10m\n",
    "\n",
    "    8 windows: max test acc = 0.75089, 0.7473, 0.7652, val_acc: 0.7291, train_acc: 0.7404, ~24 epoch, <15m,     \n",
    "\n",
    "    10 windows: max test acc = 0.7471, valid = 0.7548, <10m\n",
    "\n",
    "    12 windows: max test acc = 0.0.7487, valid = 0.7462, ~15 epoch, <10m\n",
    "    \n",
    "    16 windows: test accuracy = 0.7567,  valid accuracy = 0.7552, time = 7 min   - rnn 2.2 \n",
    "\n",
    "Bidirectional (random states for spliting data ~ 152, 151):\n",
    "\n",
    "    8 windows: test accuracy = 0.75,  valid accuracy = 0.7466, time = 5min \n",
    "    \n",
    "    16 windows: test accuracy = 0.7508,  valid accuracy = 0.7633, time = 10 min   - rnn 1.2\n",
    "\n",
    "\n"
   ]
  },
  {
   "cell_type": "code",
   "execution_count": 52,
   "metadata": {},
   "outputs": [],
   "source": [
    "saved_model = RNN.to_json()\n",
    "with open(\"saved_models/RNN2_std_16win.json\", \"w\") as json_file:\n",
    "    json_file.write(saved_model)"
   ]
  },
  {
   "cell_type": "code",
   "execution_count": null,
   "metadata": {},
   "outputs": [],
   "source": []
  }
 ],
 "metadata": {
  "kernelspec": {
   "display_name": "Python 3",
   "language": "python",
   "name": "python3"
  },
  "language_info": {
   "codemirror_mode": {
    "name": "ipython",
    "version": 3
   },
   "file_extension": ".py",
   "mimetype": "text/x-python",
   "name": "python",
   "nbconvert_exporter": "python",
   "pygments_lexer": "ipython3",
   "version": "3.6.5"
  }
 },
 "nbformat": 4,
 "nbformat_minor": 2
}
