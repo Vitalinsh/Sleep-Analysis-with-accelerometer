{
 "cells": [
  {
   "cell_type": "markdown",
   "metadata": {},
   "source": [
    " ### Estimation of Stationary Sleep-segments (ESS) Algorithm Implementation\n",
    " \n",
    " #### It is described in this paper https://ieeexplore.ieee.org/abstract/document/7052479\n",
    " "
   ]
  },
  {
   "cell_type": "code",
   "execution_count": 1,
   "metadata": {},
   "outputs": [],
   "source": [
    "import os\n",
    "import numpy as np\n",
    "\n",
    "from sklearn import metrics\n",
    "from sklearn.linear_model import LogisticRegression\n",
    "from sklearn.model_selection import train_test_split\n",
    "from sklearn.decomposition import PCA\n",
    "\n",
    "from sklearn.model_selection import KFold\n",
    "#from google.colab import files\n"
   ]
  },
  {
   "cell_type": "markdown",
   "metadata": {},
   "source": [
    "## Prepare data"
   ]
  },
  {
   "cell_type": "code",
   "execution_count": 2,
   "metadata": {},
   "outputs": [],
   "source": [
    "#data_path = os.path.join(\"/content/gdrive/My Drive/\", \"DRU-MAWI-project/ICHI14_dataset/data\")\n",
    "data_path = os.path.join(\"ICHI14_dataset/data\")\n",
    "patient_list = ['002','003','005','007','08a','08b','09a','09b', '10a','011',\"012\", '013','014','15a','15b','016',\n",
    "            '017','018','019','020','021','022','023','025','026','027','028','029','030','031','032',\n",
    "            '033','034','035','036','037','038','040','042','043','044','045','047','048','049', '050','051']"
   ]
  },
  {
   "cell_type": "code",
   "execution_count": 3,
   "metadata": {},
   "outputs": [],
   "source": [
    "train_patient_list, test_patient_list = train_test_split(patient_list, random_state=152, test_size=0.3)\n",
    "test_patient_list, valid_patient_list = train_test_split(test_patient_list, random_state=151, test_size=0.5)"
   ]
  },
  {
   "cell_type": "code",
   "execution_count": 4,
   "metadata": {},
   "outputs": [
    {
     "name": "stdout",
     "output_type": "stream",
     "text": [
      "47\n",
      "32\n",
      "8\n",
      "7\n"
     ]
    }
   ],
   "source": [
    "print(len(patient_list))\n",
    "print(len(train_patient_list))\n",
    "print(len(valid_patient_list))\n",
    "print(len(test_patient_list))"
   ]
  },
  {
   "cell_type": "code",
   "execution_count": 5,
   "metadata": {},
   "outputs": [
    {
     "name": "stdout",
     "output_type": "stream",
     "text": [
      "['045', '025', '023', '08a', '022', '012', '029', '043', '037', '028', '011', '042', '10a', '035', '019', '007', '021', '034', '038', '032', '048', '040', '018', '051', '026', '031', '027', '002', '09a', '013', '09b', '030']\n",
      "['050', '049', '033', '014', '08b', '15a', '016', '047']\n",
      "['005', '017', '036', '15b', '003', '044', '020']\n"
     ]
    }
   ],
   "source": [
    "print(train_patient_list)\n",
    "print(valid_patient_list)\n",
    "print(test_patient_list)"
   ]
  },
  {
   "cell_type": "code",
   "execution_count": 6,
   "metadata": {},
   "outputs": [],
   "source": [
    "def change_labels(sample):\n",
    "    \"\"\"\n",
    "    Returns:\n",
    "    sample - contains only label 1(awake) and 0(sleep) for polisomnography\n",
    "    \"\"\"\n",
    "    \n",
    "    sample.gt[sample.gt==0] = 8\n",
    "    sample.gt[np.logical_or.reduce((sample.gt==1, sample.gt==2, sample.gt==3, sample.gt==5))] = 0\n",
    "    sample.gt[np.logical_or.reduce((sample.gt==6, sample.gt==7, sample.gt==8))] = 1\n",
    "    \n",
    "    return sample   \n",
    "\n",
    "#-------------------------------------------------------------------------\n",
    "\n",
    "def decoder(sample):\n",
    "    '''\n",
    "    Returns: \n",
    "    decoded_sample - contains accelerometer and ps data for each sensor record, ndarray of shape (n_records, 4)\n",
    "    \n",
    "    '''\n",
    "\n",
    "    sample = np.repeat(sample, sample.d, axis=0)\n",
    "    n_records = sample.shape[0]\n",
    "    decoded_sample = np.zeros((n_records, 4))\n",
    "    \n",
    "    decoded_sample[:, 0] = sample.x\n",
    "    decoded_sample[:, 1] = sample.y\n",
    "    decoded_sample[:, 2] = sample.z\n",
    "    decoded_sample[:, 3] = sample.gt\n",
    "    \n",
    "    return decoded_sample\n",
    "\n",
    "#-------------------------------------------------------------------------\n",
    "\n",
    "def divide_by_windows(decoded_sample, window_len=60):\n",
    "    \"\"\"\n",
    "    Parameters:\n",
    "    wondow_len - length of each window in seconds, int\n",
    "    Returns:\n",
    "    X - accelerometer data, ndarray of shape (n_windows, window_len, 3)\n",
    "    y - polisomnography data, ndarray of shape (n_windows, )\n",
    "    \"\"\"\n",
    "    \n",
    "    window_len *= 100\n",
    "    n_windows = decoded_sample.shape[0] // window_len\n",
    "    \n",
    "    X = np.zeros((n_windows, window_len, 3))\n",
    "    y = np.zeros(n_windows)\n",
    "    \n",
    "    for i in range(n_windows):\n",
    "        X[i] = decoded_sample[window_len * i: window_len * i + window_len, 0: 3]\n",
    "        \n",
    "        ones = np.count_nonzero(decoded_sample[window_len*i: window_len*i+window_len, 3])\n",
    "        if ones >= (window_len / 2):\n",
    "            y[i] = 1\n",
    "        else:\n",
    "            y[i] = 0\n",
    "                \n",
    "    return X, y\n",
    "\n",
    "#-------------------------------------------------------------------------\n",
    "\n",
    "def get_one_patient_data(data_path, patient, window_len=60):\n",
    "    \n",
    "    \"\"\"\n",
    "    Returns:\n",
    "    X, y - for one patient\n",
    "    \"\"\"\n",
    "    \n",
    "    sample = np.load(\"%s/p%s.npy\"%(data_path, patient)).view(np.recarray)\n",
    "    sample = change_labels(sample)\n",
    "    sample = decoder(sample)\n",
    "    X, y = divide_by_windows(sample, window_len)\n",
    "    \n",
    "    return X, y\n",
    "\n",
    "#-------------------------------------------------------------------------\n",
    "\n",
    "def get_data_for_model(data_path, patient_list, window_len=60):\n",
    "    \n",
    "    \"\"\"\n",
    "    Returns:\n",
    "    X, y - for all patient list, ndarray of shape (n_records, n_features, n_channels=3)\n",
    "    \"\"\"\n",
    "    \n",
    "    X_all_data = []\n",
    "    y_all_data = []\n",
    "    for patient in patient_list:\n",
    "        X, y = get_one_patient_data(data_path, patient, window_len)\n",
    "        X_all_data.append(X)\n",
    "        y_all_data.append(y)\n",
    "        \n",
    "    X_all_data = np.concatenate(X_all_data, axis=0)\n",
    "    y_all_data = np.concatenate(y_all_data, axis=0)\n",
    "    \n",
    "    return X_all_data, y_all_data\n",
    "  \n",
    "#-------------------------------------------------------------------------\n",
    "\n",
    "def get_dawnsampled_data(data_path, patient_list, window_len=60, dawnsample=\"pca\", n_components=10, n_windows=10):\n",
    "    \n",
    "    \"\"\"\n",
    "    Parameters:\n",
    "    dawnsample - \"pca\", \"mean\", \"max\", \"mode\", None - determine the type of data reducing\n",
    "    Returns:\n",
    "    X, y - reduced data for all patient list and combine several windows data, ndarray of shape (n_records, n_components * n_windows, n_channels=3)\n",
    "    \"\"\"\n",
    "    \n",
    "    X_all_data = []\n",
    "    y_all_data = []\n",
    "    for patient in patient_list:\n",
    "        X, y = get_one_patient_data(data_path, patient, window_len)\n",
    "        \n",
    "        if dawnsample.lower() == \"pca\":\n",
    "          X = reduce_data_pca(X, n_components=n_components)\n",
    "          \n",
    "        elif dawnsample.lower() == \"mean\":\n",
    "          X = reduce_data_mean(X, n_components=n_components)\n",
    "          \n",
    "        elif dawnsample.lower() == \"max\":\n",
    "          X = reduce_data_max(X, n_components=n_components)\n",
    "          \n",
    "        elif dawnsample.lower() == \"mode\":\n",
    "          X = reduce_data_mode(X, n_components=n_components)\n",
    "          \n",
    "        elif dawnsample.lower() == \"simple\":\n",
    "          X = reduce_data_simple(X, n_components=n_components)\n",
    "        \n",
    "        elif dawnsample.lower() == \"statistic\":\n",
    "          X = reduce_data_statistic(X, n_components=n_components)\n",
    "        \n",
    "        elif dawnsample.lower() == \"ess\":\n",
    "          X = reduce_data_ess(X, n_components=n_components)\n",
    "        \n",
    "        \n",
    "        X_new = np.zeros((X.shape[0] - n_windows, X.shape[1] * (n_windows + 1), X.shape[2]))\n",
    "        \n",
    "        for i in range(0, X.shape[0] - n_windows):\n",
    "            X_buff = X[i]\n",
    "            for j in range(1, n_windows + 1):\n",
    "                X_buff = np.concatenate([X_buff, X[i+j]], axis=0)\n",
    "            X_new[i] = X_buff                            \n",
    "    \n",
    "    \n",
    "        if n_windows != 0:\n",
    "          y = y[(n_windows//2): -(n_windows//2)]\n",
    "      \n",
    "        \n",
    "        X_all_data.append(X_new)\n",
    "        y_all_data.append(y)\n",
    "\n",
    "        #np.save((\"X_p%s.npy\"%(patient)), X_new)\n",
    "        #np.save((\"y_p%s.npy\"%(patient)), y)\n",
    "        \n",
    "    X_all_data = np.concatenate(X_all_data, axis=0)\n",
    "    y_all_data = np.concatenate(y_all_data, axis=0)\n",
    "    \n",
    "    \n",
    "    \n",
    "    return X_all_data, y_all_data\n",
    "  \n",
    "def reduce_data_pca(X, n_components=300):\n",
    "    \"\"\"\n",
    "    Parameters:\n",
    "    X - ndarray of shape (n_samples, n_features)\n",
    "    \n",
    "    Returns:\n",
    "    X, y - reduced data, ndarray of shape (n_records, n_features, n_channels=3)\n",
    "    \"\"\"\n",
    "    pca1 = PCA(n_components)\n",
    "    pca2 = PCA(n_components)\n",
    "    pca3 = PCA(n_components)\n",
    "    \n",
    "    pca1.fit(X[:, :, 0])\n",
    "    pca2.fit(X[:, :, 1])\n",
    "    pca3.fit(X[:, :, 2])\n",
    "    \n",
    "    X1 = pca1.transform(X[:, :, 0])\n",
    "    X2 = pca2.transform(X[:, :, 1])\n",
    "    X3 = pca3.transform(X[:, :, 2])\n",
    "    \n",
    "    X_reduced = np.concatenate([X1, X2, X3], axis=1).reshape(X.shape[0], n_components, 3)\n",
    "    \n",
    "    return X_reduced\n",
    "  \n",
    "  \n",
    "def reduce_data_max(X, n_components=600):\n",
    "    \"\"\"\n",
    "    Parameters:\n",
    "    X - ndarray of shape (n_samples, n_features)\n",
    "    \n",
    "    Returns:\n",
    "    X, y - reduced data, ndarray of shape (n_records, n_components, n_channels=3)\n",
    "    \"\"\"\n",
    "   \n",
    "    \n",
    "    X_reduced = np.zeros((X.shape[0], n_components, 3))\n",
    "    window_len = X.shape[1] // n_components\n",
    "    \n",
    "    \n",
    "    for i in range(n_components):\n",
    "      \n",
    "      X_reduced[:, i, :] = np.amax(X[:, i * window_len: (i + 1) * window_len, :], axis=1)\n",
    "      \n",
    "    \n",
    "    X_reduced = X_reduced.reshape(X.shape[0], n_components, 3)\n",
    "    \n",
    "    return X_reduced\n",
    "  \n",
    "\n",
    "def reduce_data_mean(X, n_components=600):\n",
    "    \"\"\"\n",
    "    Parameters:\n",
    "    X - ndarray of shape (n_samples, n_features)\n",
    "    \n",
    "    Returns:\n",
    "    X, y - reduced data, ndarray of shape (n_records, n_components, n_channels=3)\n",
    "    \"\"\"\n",
    "   \n",
    "    \n",
    "    X_reduced = np.zeros((X.shape[0], n_components, 3))\n",
    "    window_len = X.shape[1] // n_components\n",
    "    \n",
    "    \n",
    "    for i in range(n_components):\n",
    "      \n",
    "      X_reduced[:, i, :] = np.mean(X[:, i * window_len: (i + 1) * window_len, :], axis=1)\n",
    "         \n",
    "    X_reduced = X_reduced.reshape(X.shape[0], n_components, 3)\n",
    "    \n",
    "    return X_reduced\n",
    "  \n",
    "    \n",
    "def reduce_data_mode(X, n_components=600):\n",
    "    \"\"\"\n",
    "    Parameters:\n",
    "    X - ndarray of shape (n_samples, n_features)\n",
    "    \n",
    "    Returns:\n",
    "    X, y - reduced data, ndarray of shape (n_records, n_components, n_channels=3)\n",
    "    \"\"\"\n",
    "    \n",
    "    from scipy.stats import mode\n",
    "   \n",
    "    X_reduced = np.zeros((X.shape[0], n_components, 3))\n",
    "    window_len = X.shape[1] // n_components\n",
    "       \n",
    "    for i in range(n_components):\n",
    "      \n",
    "      X_reduced[:, i, :] = mode(X[:, i * window_len: (i + 1) * window_len, :], axis=1)\n",
    "         \n",
    "    X_reduced = X_reduced.reshape(X.shape[0], n_components, 3)\n",
    "    \n",
    "    return X_reduced\n",
    "  \n",
    "def reduce_data_simple(X, n_components=600):\n",
    "    \"\"\"\n",
    "    Parameters:\n",
    "    X - ndarray of shape (n_samples, n_features)\n",
    "    \n",
    "    Returns:\n",
    "    X, y - reduced data, ndarray of shape (n_records, n_components, n_channels=3)\n",
    "    \"\"\"\n",
    "   \n",
    "    X_reduced = np.zeros((X.shape[0], n_components, 3))\n",
    "    window_len = X.shape[1] // n_components\n",
    "       \n",
    "    for i in range(n_components):\n",
    "      \n",
    "      X_reduced[:, i, :] = X[:, i * window_len, :]\n",
    "         \n",
    "    X_reduced = X_reduced.reshape(X.shape[0], n_components, 3)\n",
    "    \n",
    "    return X_reduced\n",
    "\n",
    "def reduce_data_statistics(X, n_components=600):\n",
    "    \"\"\"\n",
    "    Parameters:\n",
    "    X - ndarray of shape (n_samples, n_features)\n",
    "    \n",
    "    Returns:\n",
    "    X, y - reduced data, ndarray of shape (n_records, n_components, n_channels=3)\n",
    "    \"\"\"\n",
    "   \n",
    "    X_reduced = np.zeros((X.shape[0], n_components, 3))\n",
    "    window_len = X.shape[1] // n_components\n",
    "       \n",
    "    for i in range(n_components):\n",
    "      \n",
    "      X_reduced[:, i, :] = np.std(X[:, i * window_len: (i + 1) * window_len, :], axis=1)\n",
    "         \n",
    "    X_reduced = X_reduced.reshape(X.shape[0], n_components, 3)\n",
    "    \n",
    "    return X_reduced\n",
    "\n",
    "\n",
    "def reduce_data_ess(X, n_components=1):\n",
    "    \"\"\"\n",
    "    Parameters:\n",
    "    X - ndarray of shape (n_samples, n_features)\n",
    "    \n",
    "    Returns:\n",
    "    X, y - reduced data, ndarray of shape (n_records, n_components, n_channels=1)\n",
    "    \"\"\"\n",
    "   \n",
    "    X_reduced = np.zeros((X.shape[0], n_components, 1))\n",
    "    window_len = X.shape[1] // n_components\n",
    "       \n",
    "    for i in range(n_components):\n",
    "      \n",
    "      X_reduced[:, i, 0] = np.std(X[:, i * window_len: (i + 1) * window_len, 2], axis=1)\n",
    "         \n",
    "    X_reduced = X_reduced.reshape(X.shape[0], n_components, 1)\n",
    "    \n",
    "    return X_reduced"
   ]
  },
  {
   "cell_type": "code",
   "execution_count": 7,
   "metadata": {},
   "outputs": [
    {
     "name": "stdout",
     "output_type": "stream",
     "text": [
      "Wall time: 35.6 s\n"
     ]
    }
   ],
   "source": [
    "%%time\n",
    "X_train, y_train = get_dawnsampled_data(data_path, train_patient_list,\n",
    "                                        window_len=1, dawnsample=\"ess\", \n",
    "                                        n_components=1, n_windows=0)\n",
    "\n",
    "X_valid, y_valid = get_dawnsampled_data(data_path, valid_patient_list, \n",
    "                                        window_len=1, dawnsample=\"ess\", \n",
    "                                        n_components=1, n_windows=0)\n",
    "\n",
    "X_test, y_test = get_dawnsampled_data(data_path, test_patient_list,\n",
    "                                      window_len=1, dawnsample=\"ess\",\n",
    "                                      n_components=1, n_windows=0)"
   ]
  },
  {
   "cell_type": "code",
   "execution_count": 8,
   "metadata": {},
   "outputs": [
    {
     "name": "stdout",
     "output_type": "stream",
     "text": [
      "(987195, 1, 1)\n",
      "(987195,)\n",
      "(230140, 1, 1)\n",
      "(219281, 1, 1)\n"
     ]
    }
   ],
   "source": [
    "print(X_train.shape)\n",
    "print(y_train.shape)\n",
    "print(X_valid.shape)\n",
    "print(X_test.shape)"
   ]
  },
  {
   "cell_type": "markdown",
   "metadata": {},
   "source": [
    "## ESS algorithm"
   ]
  },
  {
   "cell_type": "code",
   "execution_count": 9,
   "metadata": {},
   "outputs": [],
   "source": [
    "def compare_std_with_threshold(X_std, std_threshold=6):\n",
    "    \n",
    "    X = np.zeros(X_std.shape)\n",
    "    X[X_std > std_threshold] = 1    \n",
    "    \n",
    "    return np.squeeze(X)\n",
    "\n",
    "\n",
    "def ess_divide_res_for_windows(y, window_len=60):\n",
    "    \"\"\"\n",
    "    1 -awake, 0 - sleep\n",
    "    Parameters:\n",
    "    windows_len - int, in seconds - for comparison with same windows in other algorithms\n",
    "    \"\"\"\n",
    "    \n",
    "    n_windows = y.shape[0] // window_len\n",
    "    \n",
    "    y_new = np.zeros(n_windows)\n",
    "    \n",
    "    for i in range(n_windows):\n",
    "     \n",
    "        ones = np.count_nonzero(y[window_len * i: window_len * i + window_len])\n",
    "        if ones >= (window_len / 2):\n",
    "            y_new[i] = 1\n",
    "        else:\n",
    "            y_new[i] = 0\n",
    "                \n",
    "    return np.squeeze(y_new)\n",
    "\n",
    "\n",
    "def ess_predict(X, std_threshold=6, interval=600, window_len=1):\n",
    "    \n",
    "    \"\"\"\n",
    "    Parameters:\n",
    "    windows_len - int, in seconds - for comparison with same windows in other algorithms\n",
    "    \"\"\"\n",
    "    \n",
    "    X = compare_std_with_threshold(X, std_threshold=std_threshold)\n",
    "    \n",
    "    count = 0\n",
    "    y = np.ones(X.shape[0])\n",
    "    \n",
    "    for i in range(X.shape[0]):\n",
    "        if X[i] == 0:\n",
    "            count += 1\n",
    "            if count >= interval:\n",
    "                y[i - interval + 1: i + 1] = 0\n",
    "            \n",
    "        else:\n",
    "            count = 0\n",
    "     \n",
    "    if window_len > 1:\n",
    "        y = ess_divide_res_for_windows(y, window_len=window_len)\n",
    "    \n",
    "    return y"
   ]
  },
  {
   "cell_type": "code",
   "execution_count": 10,
   "metadata": {},
   "outputs": [],
   "source": [
    "y_train = ess_divide_res_for_windows(y_train, window_len=60)\n",
    "y_valid = ess_divide_res_for_windows(y_valid, window_len=60)\n",
    "y_test = ess_divide_res_for_windows(y_test, window_len=60)"
   ]
  },
  {
   "cell_type": "code",
   "execution_count": 11,
   "metadata": {},
   "outputs": [
    {
     "name": "stdout",
     "output_type": "stream",
     "text": [
      "(16453,)\n",
      "(3835,)\n",
      "(3654,)\n"
     ]
    }
   ],
   "source": [
    "print(y_train.shape)\n",
    "print(y_valid.shape)\n",
    "print(y_test.shape)"
   ]
  },
  {
   "cell_type": "code",
   "execution_count": 12,
   "metadata": {},
   "outputs": [
    {
     "data": {
      "text/plain": [
       "(3654,)"
      ]
     },
     "execution_count": 12,
     "metadata": {},
     "output_type": "execute_result"
    }
   ],
   "source": [
    "y_predict = ess_predict(X_test, window_len=60)\n",
    "y_predict.shape"
   ]
  },
  {
   "cell_type": "code",
   "execution_count": 13,
   "metadata": {},
   "outputs": [],
   "source": [
    "from sklearn import metrics"
   ]
  },
  {
   "cell_type": "code",
   "execution_count": 14,
   "metadata": {},
   "outputs": [
    {
     "name": "stdout",
     "output_type": "stream",
     "text": [
      "\n",
      "Train set result: \n",
      "             precision    recall  f1-score   support\n",
      "\n",
      "        0.0       0.68      0.86      0.76      1834\n",
      "        1.0       0.81      0.60      0.69      1820\n",
      "\n",
      "avg / total       0.75      0.73      0.73      3654\n",
      "\n",
      "Confussion matrix: \n",
      " [[1577  257]\n",
      " [ 728 1092]]\n",
      "\n",
      "Accuracy on train set:  0.7304324028461959\n"
     ]
    }
   ],
   "source": [
    "\n",
    "print(\"\\nTrain set result: \")\n",
    "print(metrics.classification_report(y_test, y_predict))\n",
    "print(\"Confussion matrix: \\n\", metrics.confusion_matrix(y_test, y_predict))\n",
    "\n",
    "accuracy = metrics.accuracy_score(y_test, y_predict)\n",
    "print(\"\\nAccuracy on train set: \", accuracy)"
   ]
  },
  {
   "cell_type": "code",
   "execution_count": 15,
   "metadata": {},
   "outputs": [
    {
     "name": "stdout",
     "output_type": "stream",
     "text": [
      "\n",
      "Train set result: \n",
      "             precision    recall  f1-score   support\n",
      "\n",
      "        0.0       0.69      0.88      0.77      8760\n",
      "        1.0       0.80      0.54      0.65      7693\n",
      "\n",
      "avg / total       0.74      0.72      0.71     16453\n",
      "\n",
      "Confussion matrix: \n",
      " [[7747 1013]\n",
      " [3546 4147]]\n",
      "\n",
      "Accuracy on train set:  0.7229076764115967\n",
      "\n",
      "Valid set result: \n",
      "             precision    recall  f1-score   support\n",
      "\n",
      "        0.0       0.69      0.89      0.78      2070\n",
      "        1.0       0.80      0.53      0.64      1765\n",
      "\n",
      "avg / total       0.74      0.72      0.71      3835\n",
      "\n",
      "Confussion matrix: \n",
      " [[1838  232]\n",
      " [ 832  933]]\n",
      "\n",
      "Accuracy on valid set:  0.7225554106910039\n",
      "\n",
      "Test set result: \n",
      "             precision    recall  f1-score   support\n",
      "\n",
      "        0.0       0.68      0.86      0.76      1834\n",
      "        1.0       0.81      0.60      0.69      1820\n",
      "\n",
      "avg / total       0.75      0.73      0.73      3654\n",
      "\n",
      "Confussion matrix: \n",
      " [[1577  257]\n",
      " [ 728 1092]]\n",
      "\n",
      "Accuracy on test set:  0.7304324028461959\n"
     ]
    }
   ],
   "source": [
    "y_predict = ess_predict(X_train, window_len=60)\n",
    "\n",
    "print(\"\\nTrain set result: \")\n",
    "print(metrics.classification_report(y_train, y_predict))\n",
    "print(\"Confussion matrix: \\n\", metrics.confusion_matrix(y_train, y_predict))\n",
    "\n",
    "accuracy = metrics.accuracy_score(y_train, y_predict)\n",
    "print(\"\\nAccuracy on train set: \", accuracy)\n",
    "\n",
    "y_predict = ess_predict(X_valid, window_len=60)\n",
    "\n",
    "print(\"\\nValid set result: \")\n",
    "print(metrics.classification_report(y_valid, y_predict))\n",
    "print(\"Confussion matrix: \\n\", metrics.confusion_matrix(y_valid, y_predict))\n",
    "\n",
    "accuracy = metrics.accuracy_score(y_valid, y_predict)\n",
    "print(\"\\nAccuracy on valid set: \", accuracy)\n",
    "\n",
    "y_predict = ess_predict(X_test, window_len=60)\n",
    "\n",
    "print(\"\\nTest set result: \")\n",
    "print(metrics.classification_report(y_test, y_predict))\n",
    "print(\"Confussion matrix: \\n\", metrics.confusion_matrix(y_test, y_predict))\n",
    "\n",
    "accuracy = metrics.accuracy_score(y_test, y_predict)\n",
    "print(\"\\nAccuracy on test set: \", accuracy)"
   ]
  },
  {
   "cell_type": "code",
   "execution_count": 16,
   "metadata": {},
   "outputs": [],
   "source": [
    "X_all, y_all = get_dawnsampled_data(data_path, patient_list,\n",
    "                                        window_len=1, dawnsample=\"ess\", \n",
    "                                        n_components=1, n_windows=0)"
   ]
  },
  {
   "cell_type": "code",
   "execution_count": 17,
   "metadata": {},
   "outputs": [
    {
     "name": "stdout",
     "output_type": "stream",
     "text": [
      "(1436616, 1, 1)\n",
      "(1436616,)\n"
     ]
    }
   ],
   "source": [
    "print(X_all.shape)\n",
    "print(y_all.shape)"
   ]
  },
  {
   "cell_type": "code",
   "execution_count": 18,
   "metadata": {},
   "outputs": [
    {
     "name": "stdout",
     "output_type": "stream",
     "text": [
      "(23943,)\n",
      "(23943,)\n"
     ]
    }
   ],
   "source": [
    "y_predict = ess_predict(X_all, window_len=60)\n",
    "y_all = ess_divide_res_for_windows(y_all, window_len=60)\n",
    "print(y_all.shape)\n",
    "print(y_predict.shape)"
   ]
  },
  {
   "cell_type": "code",
   "execution_count": 19,
   "metadata": {},
   "outputs": [
    {
     "name": "stdout",
     "output_type": "stream",
     "text": [
      "\n",
      "All set result: \n",
      "             precision    recall  f1-score   support\n",
      "\n",
      "        0.0       0.69      0.88      0.77     12692\n",
      "        1.0       0.80      0.55      0.65     11251\n",
      "\n",
      "avg / total       0.74      0.72      0.72     23943\n",
      "\n",
      "Confussion matrix: \n",
      " [[11185  1507]\n",
      " [ 5094  6157]]\n",
      "\n",
      "Accuracy on all set:  0.7243035542747358\n"
     ]
    }
   ],
   "source": [
    "print(\"\\nAll set result: \")\n",
    "print(metrics.classification_report(y_all, y_predict))\n",
    "print(\"Confussion matrix: \\n\", metrics.confusion_matrix(y_all, y_predict))\n",
    "\n",
    "accuracy = metrics.accuracy_score(y_all, y_predict)\n",
    "print(\"\\nAccuracy on all set: \", accuracy)"
   ]
  },
  {
   "cell_type": "code",
   "execution_count": 20,
   "metadata": {},
   "outputs": [],
   "source": [
    "X_all, y_all = get_dawnsampled_data(data_path, [\"033\"],\n",
    "                                        window_len=1, dawnsample=\"ess\", \n",
    "                                        n_components=1, n_windows=0)"
   ]
  },
  {
   "cell_type": "code",
   "execution_count": 21,
   "metadata": {},
   "outputs": [
    {
     "name": "stdout",
     "output_type": "stream",
     "text": [
      "(33903, 1, 1)\n",
      "(33903,)\n"
     ]
    }
   ],
   "source": [
    "print(X_all.shape)\n",
    "print(y_all.shape)"
   ]
  },
  {
   "cell_type": "code",
   "execution_count": 22,
   "metadata": {},
   "outputs": [
    {
     "name": "stdout",
     "output_type": "stream",
     "text": [
      "(565,)\n",
      "(565,)\n"
     ]
    }
   ],
   "source": [
    "y_predict = ess_predict(X_all, window_len=60)\n",
    "y_all = ess_divide_res_for_windows(y_all, window_len=60)\n",
    "print(y_all.shape)\n",
    "print(y_predict.shape)"
   ]
  },
  {
   "cell_type": "code",
   "execution_count": 23,
   "metadata": {},
   "outputs": [
    {
     "name": "stdout",
     "output_type": "stream",
     "text": [
      "\n",
      "All set result: \n",
      "             precision    recall  f1-score   support\n",
      "\n",
      "        0.0       0.71      0.88      0.78       330\n",
      "        1.0       0.74      0.49      0.59       235\n",
      "\n",
      "avg / total       0.72      0.72      0.70       565\n",
      "\n",
      "Confussion matrix: \n",
      " [[289  41]\n",
      " [120 115]]\n",
      "\n",
      "Accuracy on all set:  0.7150442477876107\n"
     ]
    }
   ],
   "source": [
    "print(\"\\nAll set result: \")\n",
    "print(metrics.classification_report(y_all, y_predict))\n",
    "print(\"Confussion matrix: \\n\", metrics.confusion_matrix(y_all, y_predict))\n",
    "\n",
    "accuracy = metrics.accuracy_score(y_all, y_predict)\n",
    "print(\"\\nAccuracy on all set: \", accuracy)"
   ]
  },
  {
   "cell_type": "code",
   "execution_count": 24,
   "metadata": {},
   "outputs": [],
   "source": [
    "import seaborn as sns\n",
    "import matplotlib.pyplot as plt"
   ]
  },
  {
   "cell_type": "code",
   "execution_count": 25,
   "metadata": {},
   "outputs": [
    {
     "data": {
      "text/plain": [
       "(0, 1.1)"
      ]
     },
     "execution_count": 25,
     "metadata": {},
     "output_type": "execute_result"
    },
    {
     "data": {
      "image/png": "[encoded data removed]",
      "text/plain": [
       "<Figure size 1800x450 with 1 Axes>"
      ]
     },
     "metadata": {},
     "output_type": "display_data"
    }
   ],
   "source": [
    "plt.rc('figure', figsize=(20, 5), dpi=90, facecolor='w', edgecolor='k')\n",
    "\n",
    "ax1 = plt.subplot()\n",
    "ax1.plot(y_predict)\n",
    "ax1.set_ylim([0, 1.1])"
   ]
  },
  {
   "cell_type": "code",
   "execution_count": 26,
   "metadata": {},
   "outputs": [
    {
     "data": {
      "text/plain": [
       "(0, 1.1)"
      ]
     },
     "execution_count": 26,
     "metadata": {},
     "output_type": "execute_result"
    },
    {
     "data": {
      "image/png": "[encoded data removed]",
      "text/plain": [
       "<Figure size 1800x450 with 1 Axes>"
      ]
     },
     "metadata": {},
     "output_type": "display_data"
    }
   ],
   "source": [
    "plt.rc('figure', figsize=(20, 5), dpi=90, facecolor='w', edgecolor='k')\n",
    "\n",
    "ax1 = plt.subplot()\n",
    "ax1.plot(y_all)\n",
    "ax1.set_ylim([0, 1.1])"
   ]
  },
  {
   "cell_type": "markdown",
   "metadata": {},
   "source": [
    "## Calculate median accuracy:"
   ]
  },
  {
   "cell_type": "code",
   "execution_count": 27,
   "metadata": {},
   "outputs": [],
   "source": [
    "accuracy_list = []\n",
    "\n",
    "for patient in patient_list:\n",
    "    X, y = get_dawnsampled_data(data_path, [patient],\n",
    "                                        window_len=1, dawnsample=\"ess\", \n",
    "                                        n_components=1, n_windows=0)\n",
    "    \n",
    "    y_predict = ess_predict(X, window_len=1)\n",
    "    y = ess_divide_res_for_windows(y, window_len=1)\n",
    "    \n",
    "    accuracy = metrics.accuracy_score(y, y_predict)\n",
    "    accuracy_list.append(accuracy)\n",
    "\n",
    "    "
   ]
  },
  {
   "cell_type": "code",
   "execution_count": 28,
   "metadata": {},
   "outputs": [
    {
     "data": {
      "text/plain": [
       "0.7495602204761347"
      ]
     },
     "execution_count": 28,
     "metadata": {},
     "output_type": "execute_result"
    }
   ],
   "source": [
    "np.median(accuracy_list)    "
   ]
  },
  {
   "cell_type": "code",
   "execution_count": 29,
   "metadata": {},
   "outputs": [
    {
     "data": {
      "text/plain": [
       "0.721260184623292"
      ]
     },
     "execution_count": 29,
     "metadata": {},
     "output_type": "execute_result"
    }
   ],
   "source": [
    "np.mean(accuracy_list)  "
   ]
  },
  {
   "cell_type": "code",
   "execution_count": 30,
   "metadata": {},
   "outputs": [
    {
     "data": {
      "text/plain": [
       "0.971195893275873"
      ]
     },
     "execution_count": 30,
     "metadata": {},
     "output_type": "execute_result"
    }
   ],
   "source": [
    "max(accuracy_list)\n"
   ]
  },
  {
   "cell_type": "code",
   "execution_count": 31,
   "metadata": {},
   "outputs": [
    {
     "data": {
      "text/plain": [
       "47"
      ]
     },
     "execution_count": 31,
     "metadata": {},
     "output_type": "execute_result"
    }
   ],
   "source": [
    "len(accuracy_list)"
   ]
  },
  {
   "cell_type": "code",
   "execution_count": 32,
   "metadata": {},
   "outputs": [
    {
     "data": {
      "text/plain": [
       "5"
      ]
     },
     "execution_count": 32,
     "metadata": {},
     "output_type": "execute_result"
    }
   ],
   "source": [
    "kf = KFold(n_splits=5, random_state=5, shuffle=True) # Define the split - into 3 folds \n",
    "kf.get_n_splits(patient_list) # returns the number of splitting iterations in the cross-validator"
   ]
  },
  {
   "cell_type": "code",
   "execution_count": 33,
   "metadata": {},
   "outputs": [],
   "source": [
    "n_others_windows = 30"
   ]
  },
  {
   "cell_type": "code",
   "execution_count": 35,
   "metadata": {},
   "outputs": [
    {
     "name": "stdout",
     "output_type": "stream",
     "text": [
      "/Train set results:\n",
      "Accuracy on train set:  0.731198808637379\n",
      "F1-score on train set:  0.6560500884714849\n",
      "/Test set results:\n",
      "Accuracy on test set:  0.7309417040358744\n",
      "F1-score on test set:  0.6312308055752421\n",
      "             precision    recall  f1-score   support\n",
      "\n",
      "      sleep       0.64      0.88      0.74      2545\n",
      "      awake       0.82      0.51      0.63      2596\n",
      "\n",
      "avg / total       0.73      0.70      0.69      5141\n",
      "\n",
      "Confussion matrix: \n",
      " [[2244  301]\n",
      " [1260 1336]]\n",
      "\n",
      "-------------------------------------------------------\n",
      "/Train set results:\n",
      "Accuracy on train set:  0.7222222222222222\n",
      "F1-score on train set:  0.647145144076841\n",
      "/Test set results:\n",
      "Accuracy on test set:  0.7309417040358744\n",
      "F1-score on test set:  0.664289353031075\n",
      "             precision    recall  f1-score   support\n",
      "\n",
      "      sleep       0.68      0.91      0.78      2503\n",
      "      awake       0.85      0.54      0.66      2395\n",
      "\n",
      "avg / total       0.76      0.73      0.72      4898\n",
      "\n",
      "Confussion matrix: \n",
      " [[2276  227]\n",
      " [1091 1304]]\n",
      "\n",
      "-------------------------------------------------------\n",
      "/Train set results:\n",
      "Accuracy on train set:  0.7116985845129059\n",
      "F1-score on train set:  0.6406331084587442\n",
      "/Test set results:\n",
      "Accuracy on test set:  0.7309417040358744\n",
      "F1-score on test set:  0.6939007092198581\n",
      "             precision    recall  f1-score   support\n",
      "\n",
      "      sleep       0.74      0.92      0.82      2631\n",
      "      awake       0.86      0.58      0.69      2096\n",
      "\n",
      "avg / total       0.79      0.77      0.76      4727\n",
      "\n",
      "Confussion matrix: \n",
      " [[2425  206]\n",
      " [ 873 1223]]\n",
      "\n",
      "-------------------------------------------------------\n",
      "/Train set results:\n",
      "Accuracy on train set:  0.7323035314921724\n",
      "F1-score on train set:  0.6585737976782753\n",
      "/Test set results:\n",
      "Accuracy on test set:  0.7309417040358744\n",
      "F1-score on test set:  0.6190228690228691\n",
      "             precision    recall  f1-score   support\n",
      "\n",
      "      sleep       0.67      0.82      0.74      2519\n",
      "      awake       0.72      0.54      0.62      2197\n",
      "\n",
      "avg / total       0.69      0.69      0.68      4716\n",
      "\n",
      "Confussion matrix: \n",
      " [[2059  460]\n",
      " [1006 1191]]\n",
      "\n",
      "-------------------------------------------------------\n",
      "/Train set results:\n",
      "Accuracy on train set:  0.7210388543858749\n",
      "F1-score on train set:  0.6498292635783777\n",
      "/Test set results:\n",
      "Accuracy on test set:  0.7309417040358744\n",
      "F1-score on test set:  0.6495327102803738\n",
      "             precision    recall  f1-score   support\n",
      "\n",
      "      sleep       0.71      0.87      0.78      2466\n",
      "      awake       0.78      0.56      0.65      1994\n",
      "\n",
      "avg / total       0.74      0.73      0.72      4460\n",
      "\n",
      "Confussion matrix: \n",
      " [[2148  318]\n",
      " [ 882 1112]]\n",
      "\n",
      "-------------------------------------------------------\n",
      "\n",
      "Mean accuracy = 0.7309417040358744\n",
      "\n",
      "Mean f1-score = 0.6515952894258836\n",
      "Wall time: 1min 36s\n"
     ]
    }
   ],
   "source": [
    "%%time\n",
    "accuracy_list = []\n",
    "f1_score_list = []\n",
    "for train_index, test_index in kf.split(patient_list):\n",
    "    train_patient_list = [patient_list[i] for i in train_index]\n",
    "    test_patient_list = [patient_list[i] for i in test_index]\n",
    "    \n",
    "    X_train, y_train = get_dawnsampled_data(data_path, train_patient_list,\n",
    "                                        window_len=1, dawnsample=\"ess\", \n",
    "                                        n_components=1, n_windows=0)\n",
    "\n",
    "\n",
    "    X_test, y_test = get_dawnsampled_data(data_path, test_patient_list,\n",
    "                                      window_len=1, dawnsample=\"ess\",\n",
    "                                      n_components=1, n_windows=0)\n",
    "    \n",
    "    y_predict = ess_predict(X_train, window_len=60)\n",
    "    y_train = ess_divide_res_for_windows(y_train, window_len=60)\n",
    "    \n",
    "    print(\"/Train set results:\")\n",
    "    accuracy_train = metrics.accuracy_score(y_train, y_predict)\n",
    "    f1_train = metrics.f1_score(y_train, y_predict)\n",
    "    print(\"Accuracy on train set: \", accuracy_train)\n",
    "    print(\"F1-score on train set: \", f1_train)\n",
    "    \n",
    "    y_predict = ess_predict(X_test, window_len=60)\n",
    "    y_test = ess_divide_res_for_windows(y_test, window_len=60)\n",
    "    \n",
    "    print(\"/Test set results:\")\n",
    "    f1_test = metrics.f1_score(y_test, y_predict)\n",
    "    accuracy_list.append(accuracy)\n",
    "    f1_score_list.append(f1_test)\n",
    "    print(\"Accuracy on test set: \", accuracy)\n",
    "    print(\"F1-score on test set: \", f1_test)\n",
    "    \n",
    "    print(metrics.classification_report(y_test, y_predict, target_names=[\"sleep\", \"awake\"]))\n",
    "    print(\"Confussion matrix: \\n\", metrics.confusion_matrix(y_test, y_predict))\n",
    "    print(\"\\n-------------------------------------------------------\")\n",
    "\n",
    "\n",
    "print(\"\\nMean accuracy =\", np.mean(accuracy_list))    \n",
    "print(\"\\nMean f1-score =\", np.mean(f1_score_list))     "
   ]
  },
  {
   "cell_type": "code",
   "execution_count": null,
   "metadata": {},
   "outputs": [],
   "source": []
  }
 ],
 "metadata": {
  "kernelspec": {
   "display_name": "Python 3",
   "language": "python",
   "name": "python3"
  },
  "language_info": {
   "codemirror_mode": {
    "name": "ipython",
    "version": 3
   },
   "file_extension": ".py",
   "mimetype": "text/x-python",
   "name": "python",
   "nbconvert_exporter": "python",
   "pygments_lexer": "ipython3",
   "version": "3.6.8"
  }
 },
 "nbformat": 4,
 "nbformat_minor": 2
}
